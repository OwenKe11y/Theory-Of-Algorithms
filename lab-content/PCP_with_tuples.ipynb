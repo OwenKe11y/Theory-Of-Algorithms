{
 "cells": [
  {
   "cell_type": "markdown",
   "id": "d32aa845-1246-4a0b-9a75-24cd1577e29e",
   "metadata": {},
   "source": [
    "# <b>Post Correspondence Problem</b>\n",
    "\n",
    "https://en.wikipedia.org/wiki/Post_correspondence_problem\n",
    "***\n"
   ]
  },
  {
   "cell_type": "markdown",
   "id": "ede954cb-3f5e-40ad-a069-2937d910e5cd",
   "metadata": {},
   "source": [
    "## <b>With Strings</b>\n"
   ]
  },
  {
   "cell_type": "code",
   "execution_count": 1,
   "id": "4ae38671-cdbf-4480-ad99-98a834e58ed7",
   "metadata": {},
   "outputs": [],
   "source": [
    "# Alphabet for strings: a set\n",
    "A = {'a', 'b'}"
   ]
  },
  {
   "cell_type": "code",
   "execution_count": 2,
   "id": "cf34ed5c-59be-4d86-b5a2-e33b1f660f7f",
   "metadata": {},
   "outputs": [],
   "source": [
    "# Tuple lists\n",
    "# First List\n",
    "L1 = (('a',), ('a','b'), ('b','b','a'))\n",
    "L2 = (('b','a','a'), ('a','a'), ('b','b'))"
   ]
  },
  {
   "cell_type": "code",
   "execution_count": 3,
   "id": "10efd505-05b3-43b2-ab46-4353aea757e6",
   "metadata": {},
   "outputs": [
    {
     "data": {
      "text/plain": [
       "(('a',), ('a', 'b'), ('b', 'b', 'a'))"
      ]
     },
     "execution_count": 3,
     "metadata": {},
     "output_type": "execute_result"
    }
   ],
   "source": [
    "L1"
   ]
  },
  {
   "cell_type": "code",
   "execution_count": 4,
   "id": "f3983a09-2eab-4a61-bf42-17d63ad78348",
   "metadata": {},
   "outputs": [
    {
     "data": {
      "text/plain": [
       "(('b', 'a', 'a'), ('a', 'a'), ('b', 'b'))"
      ]
     },
     "execution_count": 4,
     "metadata": {},
     "output_type": "execute_result"
    }
   ],
   "source": [
    "L2"
   ]
  },
  {
   "cell_type": "code",
   "execution_count": 5,
   "id": "ba3c1fbd-8340-4e23-89bf-20583bd13d5a",
   "metadata": {},
   "outputs": [],
   "source": [
    "# A proposed solution\n",
    "S = (2, 1, 2, 0)"
   ]
  },
  {
   "cell_type": "code",
   "execution_count": 6,
   "id": "6100f7c3-91b5-44c3-a949-d8d6177e8747",
   "metadata": {},
   "outputs": [],
   "source": [
    "# Apply the proposed solution to the tuple\n",
    "def apply(S, L):\n",
    "    S_on_L = [''.join(L[i]) for i in S]\n",
    "    return ''.join(S_on_L)"
   ]
  },
  {
   "cell_type": "code",
   "execution_count": 7,
   "id": "f77c06a0-56db-4e2f-a328-8f44bb883d9a",
   "metadata": {},
   "outputs": [
    {
     "data": {
      "text/plain": [
       "'bbaabbbaa'"
      ]
     },
     "execution_count": 7,
     "metadata": {},
     "output_type": "execute_result"
    }
   ],
   "source": [
    "# Apply S to L1\n",
    "apply(S, L1)"
   ]
  },
  {
   "cell_type": "code",
   "execution_count": 8,
   "id": "99256d53-7143-44e9-b929-cc2ea4d8f14a",
   "metadata": {},
   "outputs": [
    {
     "data": {
      "text/plain": [
       "'bbaabbbaa'"
      ]
     },
     "execution_count": 8,
     "metadata": {},
     "output_type": "execute_result"
    }
   ],
   "source": [
    "# Apply S to L1\n",
    "apply(S, L2)"
   ]
  },
  {
   "cell_type": "code",
   "execution_count": 9,
   "id": "0b12c2f7-87de-4a02-b1ae-0432f9ac408b",
   "metadata": {},
   "outputs": [
    {
     "data": {
      "text/plain": [
       "True"
      ]
     },
     "execution_count": 9,
     "metadata": {},
     "output_type": "execute_result"
    }
   ],
   "source": [
    "# Get Python to check if the proposed solution is a solution\n",
    "apply(S, L1) == apply(S, L2)"
   ]
  },
  {
   "cell_type": "code",
   "execution_count": 10,
   "id": "e41b03fb-6401-44e6-8234-64eef0a32e26",
   "metadata": {},
   "outputs": [
    {
     "data": {
      "text/plain": [
       "'bbaabbbaabbaabbbaa'"
      ]
     },
     "execution_count": 10,
     "metadata": {},
     "output_type": "execute_result"
    }
   ],
   "source": [
    "# Another solution - there are infinitely many\n",
    "apply((2,1,2,0,2,1,2,0), L1)"
   ]
  },
  {
   "cell_type": "code",
   "execution_count": 11,
   "id": "9b1fe10c-f440-4210-9026-2dd84695e2a8",
   "metadata": {},
   "outputs": [
    {
     "data": {
      "text/plain": [
       "'bbaabbbaabbaabbbaa'"
      ]
     },
     "execution_count": 11,
     "metadata": {},
     "output_type": "execute_result"
    }
   ],
   "source": [
    "apply([2,1,2,0,2,1,2,0], L2)"
   ]
  },
  {
   "cell_type": "markdown",
   "id": "b9c29846-7bca-46a3-96db-782ab9db4092",
   "metadata": {},
   "source": [
    "## <b>No Correspondence</b>\n",
    "***"
   ]
  },
  {
   "cell_type": "code",
   "execution_count": 12,
   "id": "787122ed-4985-4576-9760-97a7faa33501",
   "metadata": {},
   "outputs": [],
   "source": [
    "# List 1\n",
    "L1 = (('a','b'), ('b','b','a'))\n",
    "# List 2\n",
    "L2 = (('a','a'), ('b','b'))"
   ]
  },
  {
   "cell_type": "code",
   "execution_count": 13,
   "id": "71320cce-3d0b-44a0-99b9-532def8d7030",
   "metadata": {},
   "outputs": [],
   "source": [
    "#S = ?"
   ]
  },
  {
   "cell_type": "code",
   "execution_count": 14,
   "id": "b0a9b4aa-3ff9-4ae5-a132-f6aac38d4f62",
   "metadata": {},
   "outputs": [],
   "source": [
    "# possibles = ((0,), (1,), (0,0), (0, 1), (1, 0), (1,1), (0,0,0), (0,0,1), (0,1,0)..."
   ]
  },
  {
   "cell_type": "code",
   "execution_count": null,
   "id": "ef6daf4c-16dc-4aab-a357-ab199771a535",
   "metadata": {},
   "outputs": [],
   "source": []
  },
  {
   "cell_type": "markdown",
   "id": "f4b29b44-e886-43d1-8e38-9345b694f9c1",
   "metadata": {},
   "source": [
    "$$ (L_1, L_2) \\rightarrow \\{True, False\\} \\qquad |L_1| = |L| $$"
   ]
  },
  {
   "cell_type": "markdown",
   "id": "c18415af-f441-4c77-aee0-b195b8b7aaa6",
   "metadata": {},
   "source": [
    "<br>\n",
    "\n",
    "## <b>Bounded PCP</b> "
   ]
  },
  {
   "cell_type": "markdown",
   "id": "32981e55-2c64-4ec3-9bba-f8151506adce",
   "metadata": {},
   "source": [
    "$$ |S| \\leq K \\qquad K \\in \\mathbb{N} $$"
   ]
  },
  {
   "cell_type": "code",
   "execution_count": 15,
   "id": "dad839f3-05bf-4ebe-9fc7-ff82f950920b",
   "metadata": {},
   "outputs": [],
   "source": [
    "# Write a solver for the bounded version.\n",
    "def bpcp_solver(L1, L2, K):\n",
    "    if correspond(L1, L2, K):\n",
    "        return True\n",
    "    else:\n",
    "        return False\n",
    "\n",
    "# Correspond needs to state whether a solution S of max length K exists.\n",
    "def correspond(L1, L2, K):\n",
    "    # Your algorithm here.\n",
    "    return True if solution else False\n",
    "    "
   ]
  },
  {
   "cell_type": "markdown",
   "id": "88d7e127-1ebf-4764-95ef-3fc56b9dca59",
   "metadata": {},
   "source": [
    "## <b>Itertools\n",
    "***"
   ]
  },
  {
   "cell_type": "code",
   "execution_count": 16,
   "id": "8aec2479-5b2a-491b-bec1-a15502090da4",
   "metadata": {},
   "outputs": [],
   "source": [
    "# A very useful module in the Python standard library.\n",
    "import itertools as it"
   ]
  },
  {
   "cell_type": "code",
   "execution_count": 17,
   "id": "6b3452bb-fcaf-442d-9762-3464b4a25a4f",
   "metadata": {},
   "outputs": [
    {
     "data": {
      "text/plain": [
       "[('A', 'B', 'C'),\n",
       " ('A', 'C', 'B'),\n",
       " ('B', 'A', 'C'),\n",
       " ('B', 'C', 'A'),\n",
       " ('C', 'A', 'B'),\n",
       " ('C', 'B', 'A')]"
      ]
     },
     "execution_count": 17,
     "metadata": {},
     "output_type": "execute_result"
    }
   ],
   "source": [
    "# Permutations.\n",
    "list(it.permutations('ABC'))"
   ]
  },
  {
   "cell_type": "code",
   "execution_count": 18,
   "id": "15170671-0e5c-469c-8d09-4753cfbf49c4",
   "metadata": {},
   "outputs": [
    {
     "data": {
      "text/plain": [
       "[('A', 'B'), ('A', 'C'), ('B', 'C')]"
      ]
     },
     "execution_count": 18,
     "metadata": {},
     "output_type": "execute_result"
    }
   ],
   "source": [
    "list(it.combinations('ABC', 2))"
   ]
  },
  {
   "cell_type": "code",
   "execution_count": 19,
   "id": "556b4e75-14f5-4d38-9d26-0a4aecc0a965",
   "metadata": {},
   "outputs": [
    {
     "data": {
      "text/plain": [
       "[('A', 'A'),\n",
       " ('A', 'B'),\n",
       " ('A', 'C'),\n",
       " ('A', 'D'),\n",
       " ('B', 'A'),\n",
       " ('B', 'B'),\n",
       " ('B', 'C'),\n",
       " ('B', 'D'),\n",
       " ('C', 'A'),\n",
       " ('C', 'B'),\n",
       " ('C', 'C'),\n",
       " ('C', 'D'),\n",
       " ('D', 'A'),\n",
       " ('D', 'B'),\n",
       " ('D', 'C'),\n",
       " ('D', 'D')]"
      ]
     },
     "execution_count": 19,
     "metadata": {},
     "output_type": "execute_result"
    }
   ],
   "source": [
    "list(it.product('ABCD', 'ABCD'))"
   ]
  },
  {
   "cell_type": "code",
   "execution_count": 20,
   "id": "9821d687-503a-4fa5-8421-887d0eae99eb",
   "metadata": {},
   "outputs": [
    {
     "data": {
      "text/plain": [
       "[(0, 0, 0),\n",
       " (0, 0, 1),\n",
       " (0, 1, 0),\n",
       " (0, 1, 1),\n",
       " (1, 0, 0),\n",
       " (1, 0, 1),\n",
       " (1, 1, 0),\n",
       " (1, 1, 1)]"
      ]
     },
     "execution_count": 20,
     "metadata": {},
     "output_type": "execute_result"
    }
   ],
   "source": [
    "list(it.product(range(len(L1)), range(len(L1)), range(len(L1))))"
   ]
  },
  {
   "cell_type": "code",
   "execution_count": 21,
   "id": "6b458d0a-d660-4c36-95f3-d09adf6ddae7",
   "metadata": {},
   "outputs": [
    {
     "name": "stdout",
     "output_type": "stream",
     "text": [
      "(0,)\n",
      "(1,)\n",
      "(0, 0)\n",
      "(0, 1)\n",
      "(1, 0)\n",
      "(1, 1)\n",
      "(0, 0, 0)\n",
      "(0, 0, 1)\n",
      "(0, 1, 0)\n",
      "(0, 1, 1)\n",
      "(1, 0, 0)\n",
      "(1, 0, 1)\n",
      "(1, 1, 0)\n",
      "(1, 1, 1)\n",
      "(0, 0, 0, 0)\n",
      "(0, 0, 0, 1)\n",
      "(0, 0, 1, 0)\n",
      "(0, 0, 1, 1)\n",
      "(0, 1, 0, 0)\n",
      "(0, 1, 0, 1)\n",
      "(0, 1, 1, 0)\n",
      "(0, 1, 1, 1)\n",
      "(1, 0, 0, 0)\n",
      "(1, 0, 0, 1)\n",
      "(1, 0, 1, 0)\n",
      "(1, 0, 1, 1)\n",
      "(1, 1, 0, 0)\n",
      "(1, 1, 0, 1)\n",
      "(1, 1, 1, 0)\n",
      "(1, 1, 1, 1)\n"
     ]
    }
   ],
   "source": [
    "# The bound for the bounded problem.\n",
    "K = 4\n",
    "\n",
    "# The generators.\n",
    "gens = []\n",
    "\n",
    "# Loop through all possible solutions.\n",
    "for i in range(1, K + 1):\n",
    "    # Create a generator for solutions of length i, append it to gens.\n",
    "    gens.append(it.product(*([range(len(L1))] * i)))\n",
    "\n",
    "# it.chain just chains generators together.\n",
    "for solution in it.chain(*gens):\n",
    "  print(solution)"
   ]
  },
  {
   "cell_type": "code",
   "execution_count": 22,
   "id": "d53acb21-ae73-4d62-bd9f-c0ab9fda5d8f",
   "metadata": {},
   "outputs": [
    {
     "name": "stdout",
     "output_type": "stream",
     "text": [
      "[1, 2, 3]\n"
     ]
    }
   ],
   "source": [
    "# Print a list of three elements.\n",
    "print([1,2,3])"
   ]
  },
  {
   "cell_type": "code",
   "execution_count": 23,
   "id": "51fb7315-5555-4711-9a89-dc66ca671bbc",
   "metadata": {},
   "outputs": [
    {
     "name": "stdout",
     "output_type": "stream",
     "text": [
      "1 2 3\n"
     ]
    }
   ],
   "source": [
    "# Print the elements of the list - print gets three parameters/arguments.\n",
    "print(*[1,2,3])"
   ]
  },
  {
   "cell_type": "code",
   "execution_count": null,
   "id": "64b7dff1-910f-4aca-9a79-343dfda21868",
   "metadata": {},
   "outputs": [],
   "source": []
  },
  {
   "cell_type": "code",
   "execution_count": null,
   "id": "196a3485-9736-42ca-8554-20cbd2e7f237",
   "metadata": {},
   "outputs": [],
   "source": []
  }
 ],
 "metadata": {
  "kernelspec": {
   "display_name": "Python 3 (ipykernel)",
   "language": "python",
   "name": "python3"
  },
  "language_info": {
   "codemirror_mode": {
    "name": "ipython",
    "version": 3
   },
   "file_extension": ".py",
   "mimetype": "text/x-python",
   "name": "python",
   "nbconvert_exporter": "python",
   "pygments_lexer": "ipython3",
   "version": "3.9.7"
  }
 },
 "nbformat": 4,
 "nbformat_minor": 5
}
