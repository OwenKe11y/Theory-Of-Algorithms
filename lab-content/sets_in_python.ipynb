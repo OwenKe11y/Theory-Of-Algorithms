{
 "cells": [
  {
   "cell_type": "markdown",
   "id": "b9b30a40-b80e-42be-b8e7-1ad30fc0b648",
   "metadata": {},
   "source": [
    "# <b>Sets in Python<b>\n",
    "***"
   ]
  },
  {
   "cell_type": "code",
   "execution_count": 1,
   "id": "b15beecf-01bd-4460-b4d1-2e243e54f231",
   "metadata": {},
   "outputs": [],
   "source": [
    "# Alphabet for strings: a set\n",
    "A = {'a', 'b'}"
   ]
  },
  {
   "cell_type": "code",
   "execution_count": 2,
   "id": "9a5e6ca4-cccb-425d-a461-dd3d355f13d3",
   "metadata": {},
   "outputs": [
    {
     "data": {
      "text/plain": [
       "set"
      ]
     },
     "execution_count": 2,
     "metadata": {},
     "output_type": "execute_result"
    }
   ],
   "source": [
    "# Curly braces are often used for sets\n",
    "type(A)"
   ]
  },
  {
   "cell_type": "code",
   "execution_count": 3,
   "id": "1ac70076-89cc-41c5-8948-7a038a9fdbdb",
   "metadata": {},
   "outputs": [
    {
     "data": {
      "text/plain": [
       "dict"
      ]
     },
     "execution_count": 3,
     "metadata": {},
     "output_type": "execute_result"
    }
   ],
   "source": [
    "# Dictionaries are much more comman then sets\n",
    "type({})"
   ]
  },
  {
   "cell_type": "code",
   "execution_count": 4,
   "id": "ea6be606-09d4-4b73-ac7a-a7351103333e",
   "metadata": {},
   "outputs": [
    {
     "data": {
      "text/plain": [
       "True"
      ]
     },
     "execution_count": 4,
     "metadata": {},
     "output_type": "execute_result"
    }
   ],
   "source": [
    "# Sets are unordered\n",
    "{'a', 'b'} == {'b', 'a'}"
   ]
  },
  {
   "cell_type": "code",
   "execution_count": 5,
   "id": "912df2f9-759a-46d3-a55d-d0681927d992",
   "metadata": {},
   "outputs": [
    {
     "data": {
      "text/plain": [
       "False"
      ]
     },
     "execution_count": 5,
     "metadata": {},
     "output_type": "execute_result"
    }
   ],
   "source": [
    "# Order does matter for lists\n",
    "['a', 'b'] == ['b', 'a']"
   ]
  },
  {
   "cell_type": "code",
   "execution_count": 6,
   "id": "eebfdba0-ffb8-47ea-b17e-4c6de828e83a",
   "metadata": {},
   "outputs": [
    {
     "data": {
      "text/plain": [
       "True"
      ]
     },
     "execution_count": 6,
     "metadata": {},
     "output_type": "execute_result"
    }
   ],
   "source": [
    "['a', 'b'] == ['a', 'b']"
   ]
  },
  {
   "cell_type": "code",
   "execution_count": 7,
   "id": "1db3f582-5134-44cb-b035-e5f9413d5630",
   "metadata": {},
   "outputs": [
    {
     "data": {
      "text/plain": [
       "{1, 2, 3}"
      ]
     },
     "execution_count": 7,
     "metadata": {},
     "output_type": "execute_result"
    }
   ],
   "source": [
    "# Using the set function to create a set\n",
    "set([1,2,3])"
   ]
  },
  {
   "cell_type": "code",
   "execution_count": 8,
   "id": "afaa3530-3a2b-45e2-b354-2a2ae93f4f52",
   "metadata": {},
   "outputs": [
    {
     "data": {
      "text/plain": [
       "{1, 2, 3}"
      ]
     },
     "execution_count": 8,
     "metadata": {},
     "output_type": "execute_result"
    }
   ],
   "source": [
    "# Sets don't keep count.\n",
    "set([1,2,2,3])"
   ]
  },
  {
   "cell_type": "code",
   "execution_count": 9,
   "id": "776c722b-9f7a-4e6b-911a-b843ca0b0dae",
   "metadata": {},
   "outputs": [
    {
     "data": {
      "text/plain": [
       "True"
      ]
     },
     "execution_count": 9,
     "metadata": {},
     "output_type": "execute_result"
    }
   ],
   "source": [
    "# Test whether or not an item is in the set \n",
    "1 in {1,2,3}"
   ]
  },
  {
   "cell_type": "code",
   "execution_count": 10,
   "id": "bb5a73f4-5895-4a27-8457-b4140ce93f57",
   "metadata": {},
   "outputs": [
    {
     "data": {
      "text/plain": [
       "False"
      ]
     },
     "execution_count": 10,
     "metadata": {},
     "output_type": "execute_result"
    }
   ],
   "source": [
    "'a' in {1,2,3}"
   ]
  },
  {
   "cell_type": "markdown",
   "id": "005169f6-602c-489b-b160-c7297cceefee",
   "metadata": {},
   "source": [
    "When a set is defined, it gives rise to a decision problem.\n",
    "\n",
    "The decision problem is: \"is a given item in the set?\""
   ]
  }
 ],
 "metadata": {
  "kernelspec": {
   "display_name": "Python 3",
   "language": "python",
   "name": "python3"
  },
  "language_info": {
   "codemirror_mode": {
    "name": "ipython",
    "version": 3
   },
   "file_extension": ".py",
   "mimetype": "text/x-python",
   "name": "python",
   "nbconvert_exporter": "python",
   "pygments_lexer": "ipython3",
   "version": "3.8.8"
  }
 },
 "nbformat": 4,
 "nbformat_minor": 5
}
