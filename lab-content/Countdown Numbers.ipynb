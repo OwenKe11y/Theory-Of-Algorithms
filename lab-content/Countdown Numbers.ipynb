{
 "cells": [
  {
   "cell_type": "markdown",
   "id": "e51a42ff-b788-4d2a-b3c9-c1df81671219",
   "metadata": {},
   "source": [
    "## Countdown Numbers\n",
    "***"
   ]
  },
  {
   "cell_type": "code",
   "execution_count": 1,
   "id": "596023aa-f98f-4447-bf44-0d5b0379da77",
   "metadata": {},
   "outputs": [],
   "source": [
    "# Permutations and combinations.\n",
    "import itertools as it"
   ]
  },
  {
   "cell_type": "code",
   "execution_count": 2,
   "id": "886bcf8a-b61b-44d5-b8ba-91a62387fd36",
   "metadata": {},
   "outputs": [],
   "source": [
    "# Random number generation.\n",
    "import random"
   ]
  },
  {
   "cell_type": "code",
   "execution_count": 3,
   "id": "34e6bb82-5c9d-4e47-a6bc-a307357db4e6",
   "metadata": {},
   "outputs": [],
   "source": [
    "# Operators as functions.\n",
    "import operator"
   ]
  },
  {
   "cell_type": "markdown",
   "id": "b23d8f6a-1450-4cf8-b1ec-7dd6c790951e",
   "metadata": {},
   "source": [
    "## Simulate a Countdown numbers game\n",
    "***"
   ]
  },
  {
   "cell_type": "code",
   "execution_count": 4,
   "id": "b23e60ef-c53a-4754-8b8a-f4d5a280698f",
   "metadata": {},
   "outputs": [
    {
     "data": {
      "text/plain": [
       "[25, 50, 75, 100]"
      ]
     },
     "execution_count": 4,
     "metadata": {},
     "output_type": "execute_result"
    }
   ],
   "source": [
    "\n",
    "# !!Put this all in a function down the line!!\n",
    "\n",
    "# The large numbers.\n",
    "large = [25, 50, 75, 100]\n",
    "large"
   ]
  },
  {
   "cell_type": "code",
   "execution_count": 5,
   "id": "7698b3aa-3b63-4663-9f11-cfd033b48a00",
   "metadata": {},
   "outputs": [
    {
     "data": {
      "text/plain": [
       "[1, 1, 2, 2, 3, 3, 4, 4, 5, 5, 6, 6, 7, 7, 8, 8, 9, 9, 10, 10]"
      ]
     },
     "execution_count": 5,
     "metadata": {},
     "output_type": "execute_result"
    }
   ],
   "source": [
    "# The small numbers.\n",
    "small = sorted(list(range(1, 11)) * 2)\n",
    "small"
   ]
  },
  {
   "cell_type": "code",
   "execution_count": 6,
   "id": "5f5b600b-9f35-4557-ac45-7941c03e2822",
   "metadata": {},
   "outputs": [
    {
     "data": {
      "text/plain": [
       "0"
      ]
     },
     "execution_count": 6,
     "metadata": {},
     "output_type": "execute_result"
    }
   ],
   "source": [
    "# The number of large numbers to pick - between 0 and 4 inclusive.\n",
    "no_large = random.randrange(0, 5)\n",
    "no_large"
   ]
  },
  {
   "cell_type": "code",
   "execution_count": 7,
   "id": "385c2b5c-dd29-4765-9283-214c8d28c2ba",
   "metadata": {},
   "outputs": [
    {
     "data": {
      "text/plain": [
       "[]"
      ]
     },
     "execution_count": 7,
     "metadata": {},
     "output_type": "execute_result"
    }
   ],
   "source": [
    "# Select no_large large numbers at random.\n",
    "large_rand = random.sample(large, no_large)\n",
    "large_rand"
   ]
  },
  {
   "cell_type": "code",
   "execution_count": 8,
   "id": "fa8cbe1c-035c-4161-8ae6-1c5d6a3979d7",
   "metadata": {},
   "outputs": [
    {
     "data": {
      "text/plain": [
       "[2, 5, 1, 10, 8, 4]"
      ]
     },
     "execution_count": 8,
     "metadata": {},
     "output_type": "execute_result"
    }
   ],
   "source": [
    "# Select (6 - no_large) small numbers at random.\n",
    "small_rand = random.sample(small, 6 - no_large)\n",
    "small_rand"
   ]
  },
  {
   "cell_type": "code",
   "execution_count": 9,
   "id": "3cf06006-2080-48a0-aa6d-307646b28911",
   "metadata": {},
   "outputs": [
    {
     "data": {
      "text/plain": [
       "[2, 5, 1, 10, 8, 4]"
      ]
     },
     "execution_count": 9,
     "metadata": {},
     "output_type": "execute_result"
    }
   ],
   "source": [
    "# The six random numbers in a list.\n",
    "play_nos = large_rand + small_rand\n",
    "play_nos"
   ]
  },
  {
   "cell_type": "code",
   "execution_count": 10,
   "id": "48376ccb-9ad3-4026-a627-dae9f5438457",
   "metadata": {},
   "outputs": [
    {
     "data": {
      "text/plain": [
       "542"
      ]
     },
     "execution_count": 10,
     "metadata": {},
     "output_type": "execute_result"
    }
   ],
   "source": [
    "# Pick a random target number.\n",
    "target = random.randrange(101, 1000)\n",
    "target"
   ]
  },
  {
   "cell_type": "code",
   "execution_count": 11,
   "id": "8a7ac5e7-5a60-446e-8f1a-d72bdf71cc24",
   "metadata": {},
   "outputs": [],
   "source": [
    "# All in one function.\n",
    "\n",
    "# For random nubmers and samples.\n",
    "import random\n",
    "\n",
    "def new_numbers_game(no_large=None):\n",
    "  \"\"\" Returns six numbers and a target number representing a Countdown numbers game.\n",
    "  \"\"\"\n",
    "  # If no_large in None, randomly pick value between 0 and 4 inclusive.\n",
    "  if no_large is None:\n",
    "    # Randomly set the value.\n",
    "    no_large = random.randrange(0, 5)\n",
    "  \n",
    "  # Select random large numbers.\n",
    "  large_rand = random.sample([25, 50, 75, 100], no_large)\n",
    "  # Select random small numbers.\n",
    "  small_rand = random.sample(list(range(1, 11)) * 2, 6 - no_large)\n",
    "  # The playing numbers.\n",
    "  play_nos = large_rand + small_rand\n",
    "\n",
    "  # Select a target number.\n",
    "  target = random.randrange(101, 1000)\n",
    "\n",
    "  # Return the game.\n",
    "  return play_nos, target"
   ]
  },
  {
   "cell_type": "code",
   "execution_count": 12,
   "id": "ef037ab3-7363-4401-841d-14d1054ccee0",
   "metadata": {},
   "outputs": [
    {
     "data": {
      "text/plain": [
       "([75, 100, 25, 9, 1, 2], 328)"
      ]
     },
     "execution_count": 12,
     "metadata": {},
     "output_type": "execute_result"
    }
   ],
   "source": [
    "# Random nubmers game.\n",
    "new_numbers_game()"
   ]
  },
  {
   "cell_type": "markdown",
   "id": "0b524e89-1ec0-401b-8b50-68fa6d7542bf",
   "metadata": {},
   "source": [
    "## Working Towards a Solution\n",
    "\n",
    "***\n"
   ]
  },
  {
   "cell_type": "code",
   "execution_count": 13,
   "id": "3a22dd7b-d5dc-4866-a157-bf39d3c0543b",
   "metadata": {},
   "outputs": [
    {
     "data": {
      "text/plain": [
       "([25, 100, 50, 75, 7, 5], 711)"
      ]
     },
     "execution_count": 13,
     "metadata": {},
     "output_type": "execute_result"
    }
   ],
   "source": [
    "# A new example game.\n",
    "play_nos, target = new_numbers_game()\n",
    "play_nos, target"
   ]
  },
  {
   "cell_type": "code",
   "execution_count": 14,
   "id": "7ee4371c-6f1b-458d-a8a3-104d13ebcd8b",
   "metadata": {},
   "outputs": [
    {
     "name": "stdout",
     "output_type": "stream",
     "text": [
      "(25, 100)\n",
      "25 + 100 = 125\n",
      "25 * 100 = 2500\n",
      "\n",
      "(25, 50)\n",
      "25 + 50 = 75\n",
      "25 * 50 = 1250\n",
      "\n",
      "(25, 75)\n",
      "25 + 75 = 100\n",
      "25 * 75 = 1875\n",
      "\n",
      "(25, 7)\n",
      "25 + 7 = 32\n",
      "25 * 7 = 175\n",
      "25 - 7 = 18\n",
      "\n",
      "(25, 5)\n",
      "25 + 5 = 30\n",
      "25 * 5 = 125\n",
      "25 - 5 = 20\n",
      "25 / 5 = 5\n",
      "\n",
      "(100, 25)\n",
      "100 + 25 = 125\n",
      "100 * 25 = 2500\n",
      "100 - 25 = 75\n",
      "100 / 25 = 4\n",
      "\n",
      "(100, 50)\n",
      "100 + 50 = 150\n",
      "100 * 50 = 5000\n",
      "100 - 50 = 50\n",
      "100 / 50 = 2\n",
      "\n",
      "(100, 75)\n",
      "100 + 75 = 175\n",
      "100 * 75 = 7500\n",
      "100 - 75 = 25\n",
      "\n",
      "(100, 7)\n",
      "100 + 7 = 107\n",
      "100 * 7 = 700\n",
      "100 - 7 = 93\n",
      "\n",
      "(100, 5)\n",
      "100 + 5 = 105\n",
      "100 * 5 = 500\n",
      "100 - 5 = 95\n",
      "100 / 5 = 20\n",
      "\n",
      "(50, 25)\n",
      "50 + 25 = 75\n",
      "50 * 25 = 1250\n",
      "50 - 25 = 25\n",
      "50 / 25 = 2\n",
      "\n",
      "(50, 100)\n",
      "50 + 100 = 150\n",
      "50 * 100 = 5000\n",
      "\n",
      "(50, 75)\n",
      "50 + 75 = 125\n",
      "50 * 75 = 3750\n",
      "\n",
      "(50, 7)\n",
      "50 + 7 = 57\n",
      "50 * 7 = 350\n",
      "50 - 7 = 43\n",
      "\n",
      "(50, 5)\n",
      "50 + 5 = 55\n",
      "50 * 5 = 250\n",
      "50 - 5 = 45\n",
      "50 / 5 = 10\n",
      "\n",
      "(75, 25)\n",
      "75 + 25 = 100\n",
      "75 * 25 = 1875\n",
      "75 - 25 = 50\n",
      "75 / 25 = 3\n",
      "\n",
      "(75, 100)\n",
      "75 + 100 = 175\n",
      "75 * 100 = 7500\n",
      "\n",
      "(75, 50)\n",
      "75 + 50 = 125\n",
      "75 * 50 = 3750\n",
      "75 - 50 = 25\n",
      "\n",
      "(75, 7)\n",
      "75 + 7 = 82\n",
      "75 * 7 = 525\n",
      "75 - 7 = 68\n",
      "\n",
      "(75, 5)\n",
      "75 + 5 = 80\n",
      "75 * 5 = 375\n",
      "75 - 5 = 70\n",
      "75 / 5 = 15\n",
      "\n",
      "(7, 25)\n",
      "7 + 25 = 32\n",
      "7 * 25 = 175\n",
      "\n",
      "(7, 100)\n",
      "7 + 100 = 107\n",
      "7 * 100 = 700\n",
      "\n",
      "(7, 50)\n",
      "7 + 50 = 57\n",
      "7 * 50 = 350\n",
      "\n",
      "(7, 75)\n",
      "7 + 75 = 82\n",
      "7 * 75 = 525\n",
      "\n",
      "(7, 5)\n",
      "7 + 5 = 12\n",
      "7 * 5 = 35\n",
      "7 - 5 = 2\n",
      "\n",
      "(5, 25)\n",
      "5 + 25 = 30\n",
      "5 * 25 = 125\n",
      "\n",
      "(5, 100)\n",
      "5 + 100 = 105\n",
      "5 * 100 = 500\n",
      "\n",
      "(5, 50)\n",
      "5 + 50 = 55\n",
      "5 * 50 = 250\n",
      "\n",
      "(5, 75)\n",
      "5 + 75 = 80\n",
      "5 * 75 = 375\n",
      "\n",
      "(5, 7)\n",
      "5 + 7 = 12\n",
      "5 * 7 = 35\n",
      "\n"
     ]
    }
   ],
   "source": [
    "# Looping through all permutations of two playing numbers.\n",
    "for p in it.permutations(play_nos, 2):\n",
    "  # Print the two numbers.\n",
    "  print(p)\n",
    "  # Print their sum.\n",
    "  print(f'{p[0]} + {p[1]} = {p[0]+p[1]}')\n",
    "  # Print their product.\n",
    "  print(f'{p[0]} * {p[1]} = {p[0]*p[1]}')\n",
    "  # Print their difference if it is positive.\n",
    "  if p[0] - p[1] > 0:\n",
    "    print(f'{p[0]} - {p[1]} = {p[0]-p[1]}')\n",
    "  # Print their quotient if it is an integer.\n",
    "  if p[0] % p[1] == 0:\n",
    "    print(f'{p[0]} / {p[1]} = {p[0]//p[1]}')\n",
    "  # Print a blank line.\n",
    "  print()"
   ]
  },
  {
   "cell_type": "code",
   "execution_count": 15,
   "id": "422fd19c-07ce-4692-a2b4-c26514a9528e",
   "metadata": {},
   "outputs": [
    {
     "data": {
      "text/plain": [
       "9"
      ]
     },
     "execution_count": 15,
     "metadata": {},
     "output_type": "execute_result"
    }
   ],
   "source": [
    "# The + operator as a function.\n",
    "operator.add(4, 5)"
   ]
  },
  {
   "cell_type": "code",
   "execution_count": 16,
   "id": "f9189a9a-5c45-4d66-90ee-f11b56fef214",
   "metadata": {},
   "outputs": [
    {
     "data": {
      "text/plain": [
       "20"
      ]
     },
     "execution_count": 16,
     "metadata": {},
     "output_type": "execute_result"
    }
   ],
   "source": [
    "# The * operator as a function.\n",
    "operator.mul(4, 5)"
   ]
  },
  {
   "cell_type": "code",
   "execution_count": 17,
   "id": "15b3d530-3f86-4865-bafe-d55624374b8f",
   "metadata": {},
   "outputs": [
    {
     "data": {
      "text/plain": [
       "-1"
      ]
     },
     "execution_count": 17,
     "metadata": {},
     "output_type": "execute_result"
    }
   ],
   "source": [
    "# The - operator as a function.\n",
    "operator.sub(4, 5)"
   ]
  },
  {
   "cell_type": "code",
   "execution_count": 18,
   "id": "73dcad33-5198-4c39-83e3-89721ed53d91",
   "metadata": {},
   "outputs": [
    {
     "data": {
      "text/plain": [
       "0.8"
      ]
     },
     "execution_count": 18,
     "metadata": {},
     "output_type": "execute_result"
    }
   ],
   "source": [
    "# The / operator as a function.\n",
    "operator.truediv(4, 5)"
   ]
  },
  {
   "cell_type": "code",
   "execution_count": 19,
   "id": "27e837ff-d569-48d2-9af8-1cdcca19eb60",
   "metadata": {},
   "outputs": [
    {
     "data": {
      "text/plain": [
       "[<function _operator.add(a, b, /)>,\n",
       " <function _operator.mul(a, b, /)>,\n",
       " <function _operator.sub(a, b, /)>,\n",
       " <function _operator.truediv(a, b, /)>]"
      ]
     },
     "execution_count": 19,
     "metadata": {},
     "output_type": "execute_result"
    }
   ],
   "source": [
    "# The benefit of these is that they are first class objects.\n",
    "# Note the +, -, *, / operators can't be put in lists.\n",
    "ops = [operator.add, operator.mul, operator.sub, operator.truediv]\n",
    "ops"
   ]
  },
  {
   "cell_type": "code",
   "execution_count": 20,
   "id": "99c5a2f4-2467-4567-8c9a-fbdd16bfa73c",
   "metadata": {},
   "outputs": [
    {
     "name": "stdout",
     "output_type": "stream",
     "text": [
      "(<built-in function add>, <built-in function mul>, <built-in function sub>, <built-in function truediv>, <built-in function add>)\n",
      "(<built-in function add>, <built-in function mul>, <built-in function sub>, <built-in function truediv>, <built-in function mul>)\n",
      "(<built-in function add>, <built-in function mul>, <built-in function sub>, <built-in function truediv>, <built-in function sub>)\n",
      "(<built-in function add>, <built-in function mul>, <built-in function sub>, <built-in function truediv>, <built-in function truediv>)\n",
      "(<built-in function add>, <built-in function mul>, <built-in function sub>, <built-in function truediv>, <built-in function add>)\n",
      "(<built-in function add>, <built-in function mul>, <built-in function sub>, <built-in function truediv>, <built-in function mul>)\n",
      "(<built-in function add>, <built-in function mul>, <built-in function sub>, <built-in function truediv>, <built-in function sub>)\n",
      "(<built-in function add>, <built-in function mul>, <built-in function sub>, <built-in function truediv>, <built-in function truediv>)\n",
      "(<built-in function add>, <built-in function mul>, <built-in function sub>, <built-in function truediv>, <built-in function add>)\n",
      "(<built-in function add>, <built-in function mul>, <built-in function sub>, <built-in function truediv>, <built-in function mul>)\n"
     ]
    }
   ],
   "source": [
    "# Using permutations we can get all permutations with replacement of five operations.\n",
    "\n",
    "# We use a limit because their are a large number.\n",
    "limit = 10\n",
    "\n",
    "\n",
    "for q in it.permutations(ops * 5, 5):\n",
    "  if limit == 0:\n",
    "    break\n",
    "  print(q)\n",
    "  limit = limit - 1"
   ]
  },
  {
   "cell_type": "markdown",
   "id": "0d8c5b59-6e79-4d48-b9ce-b27612c4f828",
   "metadata": {},
   "source": [
    "## Permutations and Combinations\n",
    "\n",
    "***"
   ]
  },
  {
   "cell_type": "code",
   "execution_count": 21,
   "id": "48d3df2e-026e-45be-b518-4e2eff2c6ce7",
   "metadata": {},
   "outputs": [
    {
     "name": "stdout",
     "output_type": "stream",
     "text": [
      "(1, 2)\n",
      "(1, 3)\n",
      "(1, 4)\n",
      "(2, 3)\n",
      "(2, 4)\n",
      "(3, 4)\n"
     ]
    }
   ],
   "source": [
    "# Example of combinations.\n",
    "# Order matters: no. Replacement: no.\n",
    "L = [1, 2, 3, 4]\n",
    "for c in it.combinations(L, 2):\n",
    "  print(c)"
   ]
  },
  {
   "cell_type": "code",
   "execution_count": 22,
   "id": "83d31087-8008-4996-a7fc-ba78fe064e7e",
   "metadata": {},
   "outputs": [
    {
     "name": "stdout",
     "output_type": "stream",
     "text": [
      "(1, 1)\n",
      "(1, 2)\n",
      "(1, 3)\n",
      "(1, 4)\n",
      "(2, 2)\n",
      "(2, 3)\n",
      "(2, 4)\n",
      "(3, 3)\n",
      "(3, 4)\n",
      "(4, 4)\n"
     ]
    }
   ],
   "source": [
    "# Example of combinations with replacement.\n",
    "# Order matters: no. Replacement: yes.\n",
    "L = [1, 2, 3, 4]\n",
    "for c in it.combinations_with_replacement(L, 2):\n",
    "  print(c)"
   ]
  },
  {
   "cell_type": "code",
   "execution_count": 23,
   "id": "2945d2db-e23a-4a0e-b2fe-d1fb2c1a5bcf",
   "metadata": {},
   "outputs": [
    {
     "name": "stdout",
     "output_type": "stream",
     "text": [
      "(1, 2)\n",
      "(1, 3)\n",
      "(1, 4)\n",
      "(2, 1)\n",
      "(2, 3)\n",
      "(2, 4)\n",
      "(3, 1)\n",
      "(3, 2)\n",
      "(3, 4)\n",
      "(4, 1)\n",
      "(4, 2)\n",
      "(4, 3)\n"
     ]
    }
   ],
   "source": [
    "# Example of permutations of size 2.\n",
    "# Order matters: yes. Replacement: no.\n",
    "L = [1, 2, 3, 4]\n",
    "for c in it.permutations(L, 2):\n",
    "  print(c)"
   ]
  },
  {
   "cell_type": "code",
   "execution_count": 24,
   "id": "c22dbb7c-6377-4b6a-8dfc-e75ee1fd2873",
   "metadata": {},
   "outputs": [
    {
     "name": "stdout",
     "output_type": "stream",
     "text": [
      "(1, 1)\n",
      "(1, 2)\n",
      "(1, 3)\n",
      "(1, 4)\n",
      "(2, 1)\n",
      "(2, 2)\n",
      "(2, 3)\n",
      "(2, 4)\n",
      "(3, 1)\n",
      "(3, 2)\n",
      "(3, 3)\n",
      "(3, 4)\n",
      "(4, 1)\n",
      "(4, 2)\n",
      "(4, 3)\n",
      "(4, 4)\n"
     ]
    }
   ],
   "source": [
    "# Example of products of length 2.\n",
    "# Order matters: yes. Replacement: yes.\n",
    "L = [1, 2, 3, 4]\n",
    "for c in it.product(L, repeat=2):\n",
    "  print(c)"
   ]
  },
  {
   "cell_type": "code",
   "execution_count": 25,
   "id": "6c3e5ee4-0d69-4038-a313-ac7f9fbc7550",
   "metadata": {},
   "outputs": [
    {
     "name": "stdout",
     "output_type": "stream",
     "text": [
      "(<built-in function add>, <built-in function add>, <built-in function add>, <built-in function add>, <built-in function add>)\n",
      "(<built-in function add>, <built-in function add>, <built-in function add>, <built-in function add>, <built-in function mul>)\n",
      "(<built-in function add>, <built-in function add>, <built-in function add>, <built-in function add>, <built-in function sub>)\n",
      "(<built-in function add>, <built-in function add>, <built-in function add>, <built-in function add>, <built-in function truediv>)\n",
      "(<built-in function add>, <built-in function add>, <built-in function add>, <built-in function mul>, <built-in function add>)\n",
      "(<built-in function add>, <built-in function add>, <built-in function add>, <built-in function mul>, <built-in function mul>)\n",
      "(<built-in function add>, <built-in function add>, <built-in function add>, <built-in function mul>, <built-in function sub>)\n",
      "(<built-in function add>, <built-in function add>, <built-in function add>, <built-in function mul>, <built-in function truediv>)\n",
      "(<built-in function add>, <built-in function add>, <built-in function add>, <built-in function sub>, <built-in function add>)\n",
      "(<built-in function add>, <built-in function add>, <built-in function add>, <built-in function sub>, <built-in function mul>)\n",
      "(<built-in function add>, <built-in function add>, <built-in function add>, <built-in function sub>, <built-in function sub>)\n",
      "(<built-in function add>, <built-in function add>, <built-in function add>, <built-in function sub>, <built-in function truediv>)\n",
      "(<built-in function add>, <built-in function add>, <built-in function add>, <built-in function truediv>, <built-in function add>)\n",
      "(<built-in function add>, <built-in function add>, <built-in function add>, <built-in function truediv>, <built-in function mul>)\n",
      "(<built-in function add>, <built-in function add>, <built-in function add>, <built-in function truediv>, <built-in function sub>)\n",
      "(<built-in function add>, <built-in function add>, <built-in function add>, <built-in function truediv>, <built-in function truediv>)\n",
      "(<built-in function add>, <built-in function add>, <built-in function mul>, <built-in function add>, <built-in function add>)\n",
      "(<built-in function add>, <built-in function add>, <built-in function mul>, <built-in function add>, <built-in function mul>)\n",
      "(<built-in function add>, <built-in function add>, <built-in function mul>, <built-in function add>, <built-in function sub>)\n",
      "(<built-in function add>, <built-in function add>, <built-in function mul>, <built-in function add>, <built-in function truediv>)\n",
      "(<built-in function add>, <built-in function add>, <built-in function mul>, <built-in function mul>, <built-in function add>)\n",
      "(<built-in function add>, <built-in function add>, <built-in function mul>, <built-in function mul>, <built-in function mul>)\n",
      "(<built-in function add>, <built-in function add>, <built-in function mul>, <built-in function mul>, <built-in function sub>)\n",
      "(<built-in function add>, <built-in function add>, <built-in function mul>, <built-in function mul>, <built-in function truediv>)\n",
      "(<built-in function add>, <built-in function add>, <built-in function mul>, <built-in function sub>, <built-in function add>)\n",
      "(<built-in function add>, <built-in function add>, <built-in function mul>, <built-in function sub>, <built-in function mul>)\n",
      "(<built-in function add>, <built-in function add>, <built-in function mul>, <built-in function sub>, <built-in function sub>)\n",
      "(<built-in function add>, <built-in function add>, <built-in function mul>, <built-in function sub>, <built-in function truediv>)\n",
      "(<built-in function add>, <built-in function add>, <built-in function mul>, <built-in function truediv>, <built-in function add>)\n",
      "(<built-in function add>, <built-in function add>, <built-in function mul>, <built-in function truediv>, <built-in function mul>)\n",
      "(<built-in function add>, <built-in function add>, <built-in function mul>, <built-in function truediv>, <built-in function sub>)\n",
      "(<built-in function add>, <built-in function add>, <built-in function mul>, <built-in function truediv>, <built-in function truediv>)\n",
      "(<built-in function add>, <built-in function add>, <built-in function sub>, <built-in function add>, <built-in function add>)\n",
      "(<built-in function add>, <built-in function add>, <built-in function sub>, <built-in function add>, <built-in function mul>)\n",
      "(<built-in function add>, <built-in function add>, <built-in function sub>, <built-in function add>, <built-in function sub>)\n",
      "(<built-in function add>, <built-in function add>, <built-in function sub>, <built-in function add>, <built-in function truediv>)\n",
      "(<built-in function add>, <built-in function add>, <built-in function sub>, <built-in function mul>, <built-in function add>)\n",
      "(<built-in function add>, <built-in function add>, <built-in function sub>, <built-in function mul>, <built-in function mul>)\n",
      "(<built-in function add>, <built-in function add>, <built-in function sub>, <built-in function mul>, <built-in function sub>)\n",
      "(<built-in function add>, <built-in function add>, <built-in function sub>, <built-in function mul>, <built-in function truediv>)\n",
      "(<built-in function add>, <built-in function add>, <built-in function sub>, <built-in function sub>, <built-in function add>)\n",
      "(<built-in function add>, <built-in function add>, <built-in function sub>, <built-in function sub>, <built-in function mul>)\n",
      "(<built-in function add>, <built-in function add>, <built-in function sub>, <built-in function sub>, <built-in function sub>)\n",
      "(<built-in function add>, <built-in function add>, <built-in function sub>, <built-in function sub>, <built-in function truediv>)\n",
      "(<built-in function add>, <built-in function add>, <built-in function sub>, <built-in function truediv>, <built-in function add>)\n",
      "(<built-in function add>, <built-in function add>, <built-in function sub>, <built-in function truediv>, <built-in function mul>)\n",
      "(<built-in function add>, <built-in function add>, <built-in function sub>, <built-in function truediv>, <built-in function sub>)\n",
      "(<built-in function add>, <built-in function add>, <built-in function sub>, <built-in function truediv>, <built-in function truediv>)\n",
      "(<built-in function add>, <built-in function add>, <built-in function truediv>, <built-in function add>, <built-in function add>)\n",
      "(<built-in function add>, <built-in function add>, <built-in function truediv>, <built-in function add>, <built-in function mul>)\n",
      "(<built-in function add>, <built-in function add>, <built-in function truediv>, <built-in function add>, <built-in function sub>)\n",
      "(<built-in function add>, <built-in function add>, <built-in function truediv>, <built-in function add>, <built-in function truediv>)\n",
      "(<built-in function add>, <built-in function add>, <built-in function truediv>, <built-in function mul>, <built-in function add>)\n",
      "(<built-in function add>, <built-in function add>, <built-in function truediv>, <built-in function mul>, <built-in function mul>)\n",
      "(<built-in function add>, <built-in function add>, <built-in function truediv>, <built-in function mul>, <built-in function sub>)\n",
      "(<built-in function add>, <built-in function add>, <built-in function truediv>, <built-in function mul>, <built-in function truediv>)\n",
      "(<built-in function add>, <built-in function add>, <built-in function truediv>, <built-in function sub>, <built-in function add>)\n",
      "(<built-in function add>, <built-in function add>, <built-in function truediv>, <built-in function sub>, <built-in function mul>)\n",
      "(<built-in function add>, <built-in function add>, <built-in function truediv>, <built-in function sub>, <built-in function sub>)\n",
      "(<built-in function add>, <built-in function add>, <built-in function truediv>, <built-in function sub>, <built-in function truediv>)\n",
      "(<built-in function add>, <built-in function add>, <built-in function truediv>, <built-in function truediv>, <built-in function add>)\n",
      "(<built-in function add>, <built-in function add>, <built-in function truediv>, <built-in function truediv>, <built-in function mul>)\n",
      "(<built-in function add>, <built-in function add>, <built-in function truediv>, <built-in function truediv>, <built-in function sub>)\n",
      "(<built-in function add>, <built-in function add>, <built-in function truediv>, <built-in function truediv>, <built-in function truediv>)\n",
      "(<built-in function add>, <built-in function mul>, <built-in function add>, <built-in function add>, <built-in function add>)\n",
      "(<built-in function add>, <built-in function mul>, <built-in function add>, <built-in function add>, <built-in function mul>)\n",
      "(<built-in function add>, <built-in function mul>, <built-in function add>, <built-in function add>, <built-in function sub>)\n",
      "(<built-in function add>, <built-in function mul>, <built-in function add>, <built-in function add>, <built-in function truediv>)\n",
      "(<built-in function add>, <built-in function mul>, <built-in function add>, <built-in function mul>, <built-in function add>)\n",
      "(<built-in function add>, <built-in function mul>, <built-in function add>, <built-in function mul>, <built-in function mul>)\n",
      "(<built-in function add>, <built-in function mul>, <built-in function add>, <built-in function mul>, <built-in function sub>)\n",
      "(<built-in function add>, <built-in function mul>, <built-in function add>, <built-in function mul>, <built-in function truediv>)\n",
      "(<built-in function add>, <built-in function mul>, <built-in function add>, <built-in function sub>, <built-in function add>)\n",
      "(<built-in function add>, <built-in function mul>, <built-in function add>, <built-in function sub>, <built-in function mul>)\n",
      "(<built-in function add>, <built-in function mul>, <built-in function add>, <built-in function sub>, <built-in function sub>)\n",
      "(<built-in function add>, <built-in function mul>, <built-in function add>, <built-in function sub>, <built-in function truediv>)\n",
      "(<built-in function add>, <built-in function mul>, <built-in function add>, <built-in function truediv>, <built-in function add>)\n",
      "(<built-in function add>, <built-in function mul>, <built-in function add>, <built-in function truediv>, <built-in function mul>)\n",
      "(<built-in function add>, <built-in function mul>, <built-in function add>, <built-in function truediv>, <built-in function sub>)\n",
      "(<built-in function add>, <built-in function mul>, <built-in function add>, <built-in function truediv>, <built-in function truediv>)\n",
      "(<built-in function add>, <built-in function mul>, <built-in function mul>, <built-in function add>, <built-in function add>)\n",
      "(<built-in function add>, <built-in function mul>, <built-in function mul>, <built-in function add>, <built-in function mul>)\n",
      "(<built-in function add>, <built-in function mul>, <built-in function mul>, <built-in function add>, <built-in function sub>)\n",
      "(<built-in function add>, <built-in function mul>, <built-in function mul>, <built-in function add>, <built-in function truediv>)\n",
      "(<built-in function add>, <built-in function mul>, <built-in function mul>, <built-in function mul>, <built-in function add>)\n",
      "(<built-in function add>, <built-in function mul>, <built-in function mul>, <built-in function mul>, <built-in function mul>)\n",
      "(<built-in function add>, <built-in function mul>, <built-in function mul>, <built-in function mul>, <built-in function sub>)\n",
      "(<built-in function add>, <built-in function mul>, <built-in function mul>, <built-in function mul>, <built-in function truediv>)\n",
      "(<built-in function add>, <built-in function mul>, <built-in function mul>, <built-in function sub>, <built-in function add>)\n",
      "(<built-in function add>, <built-in function mul>, <built-in function mul>, <built-in function sub>, <built-in function mul>)\n",
      "(<built-in function add>, <built-in function mul>, <built-in function mul>, <built-in function sub>, <built-in function sub>)\n",
      "(<built-in function add>, <built-in function mul>, <built-in function mul>, <built-in function sub>, <built-in function truediv>)\n",
      "(<built-in function add>, <built-in function mul>, <built-in function mul>, <built-in function truediv>, <built-in function add>)\n",
      "(<built-in function add>, <built-in function mul>, <built-in function mul>, <built-in function truediv>, <built-in function mul>)\n",
      "(<built-in function add>, <built-in function mul>, <built-in function mul>, <built-in function truediv>, <built-in function sub>)\n",
      "(<built-in function add>, <built-in function mul>, <built-in function mul>, <built-in function truediv>, <built-in function truediv>)\n",
      "(<built-in function add>, <built-in function mul>, <built-in function sub>, <built-in function add>, <built-in function add>)\n",
      "(<built-in function add>, <built-in function mul>, <built-in function sub>, <built-in function add>, <built-in function mul>)\n",
      "(<built-in function add>, <built-in function mul>, <built-in function sub>, <built-in function add>, <built-in function sub>)\n",
      "(<built-in function add>, <built-in function mul>, <built-in function sub>, <built-in function add>, <built-in function truediv>)\n"
     ]
    }
   ],
   "source": [
    "# Using product to generate all lists of five operations.\n",
    "ops = [operator.add, operator.mul, operator.sub, operator.truediv]\n",
    "limit = 100\n",
    "for q in it.product(ops, repeat=5):\n",
    "  if limit == 0:\n",
    "    break\n",
    "  print(q)\n",
    "  limit = limit - 1"
   ]
  },
  {
   "cell_type": "code",
   "execution_count": null,
   "id": "5cb0bd91-7a10-401f-8342-a6996e54552c",
   "metadata": {},
   "outputs": [],
   "source": []
  },
  {
   "cell_type": "code",
   "execution_count": null,
   "id": "499106d6-f429-4975-8817-9db301299434",
   "metadata": {},
   "outputs": [],
   "source": []
  },
  {
   "cell_type": "code",
   "execution_count": null,
   "id": "58976fbd-55eb-4493-b016-49f7398357a6",
   "metadata": {},
   "outputs": [],
   "source": []
  },
  {
   "cell_type": "code",
   "execution_count": null,
   "id": "e864384d-2136-4e28-8dac-ddc1afdcea3e",
   "metadata": {},
   "outputs": [],
   "source": []
  }
 ],
 "metadata": {
  "kernelspec": {
   "display_name": "Python 3",
   "language": "python",
   "name": "python3"
  },
  "language_info": {
   "codemirror_mode": {
    "name": "ipython",
    "version": 3
   },
   "file_extension": ".py",
   "mimetype": "text/x-python",
   "name": "python",
   "nbconvert_exporter": "python",
   "pygments_lexer": "ipython3",
   "version": "3.8.8"
  }
 },
 "nbformat": 4,
 "nbformat_minor": 5
}
