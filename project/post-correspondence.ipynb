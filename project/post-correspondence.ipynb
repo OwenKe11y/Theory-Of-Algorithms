{
 "cells": [
  {
   "cell_type": "markdown",
   "id": "72583767-dfc3-44e1-93a2-f6d3f6dfafc5",
   "metadata": {},
   "source": [
    "<img src=\"img/post_background.png\" alt=\"Comparison\" style=\"width: 1400px; height: 300px\"/><br>\n",
    "\n",
    "\n",
    "# <b> The Post Correspondence Problem </b>\n",
    "***"
   ]
  },
  {
   "cell_type": "markdown",
   "id": "6c66e4f5-9091-4e0c-86b6-fc5f813397b8",
   "metadata": {
    "tags": []
   },
   "source": [
    "## <b>What is it?</b>\n",
    "***\n",
    "\n",
    "The Post Correspondence Problem (PCP), introduced by Emil Post in 1946, is an undecidable decision problem. It is popular in showcasing the proofs of undecidablity \n",
    "\n",
    "### <b>The Problem</b>\n",
    "***\n",
    "Put simply, assume that two finite lists, both containing N words, was given:\n",
    "\n"
   ]
  },
  {
   "cell_type": "code",
   "execution_count": 1,
   "id": "5a8dafe8-4dbd-4f22-ab51-0ae4359a9628",
   "metadata": {},
   "outputs": [],
   "source": [
    "L1 = ['a', 'ab', 'bba']\n",
    "L2 = ['baa', 'aa', 'bb']"
   ]
  },
  {
   "cell_type": "markdown",
   "id": "1f887d77-0d60-4c87-976a-adc72b111e4f",
   "metadata": {},
   "source": [
    "The aim is to find out the concatenation of these words in some sequence such that ```L1``` will equal, or correspond, to ```L2```\n",
    "\n",
    "Both lists contain values that are not equal to each other.\n"
   ]
  },
  {
   "cell_type": "markdown",
   "id": "11175238-9abd-46e9-92b1-f5e7d3a73977",
   "metadata": {},
   "source": [
    "### <b>The Solution</b>\n",
    "***"
   ]
  },
  {
   "cell_type": "markdown",
   "id": "22d6e6ed-2756-4a6d-9702-0f574b19a1c6",
   "metadata": {},
   "source": [
    "A solution to this problem would be a sequence of indices $ S $."
   ]
  },
  {
   "cell_type": "code",
   "execution_count": 2,
   "id": "4176fa4c-ff86-4e50-a5de-0ba90f8d2eb9",
   "metadata": {},
   "outputs": [],
   "source": [
    "# A proposed solution\n",
    "S = (2, 1, 2, 0)"
   ]
  },
  {
   "cell_type": "markdown",
   "id": "9b989e7f-67cf-4a34-979d-0a5098811caf",
   "metadata": {},
   "source": [
    "Let's consider the result of selections of pair 2, 1, 2, 0 accordingly. They can be shown in the following table:"
   ]
  },
  {
   "cell_type": "markdown",
   "id": "ad9de49f-5987-4913-9f43-0f8ee9f38e3c",
   "metadata": {},
   "source": [
    "| S  | 2   | 1  | 2   | 0   |\n",
    "|----|-----|----|-----|-----|\n",
    "| L1 | bba | ab | bba | a   |\n",
    "| L2 | bb  | aa | bb  | baa |\n"
   ]
  },
  {
   "cell_type": "markdown",
   "id": "8fdf5908-88c7-4f9b-86ca-780102157216",
   "metadata": {},
   "source": [
    "Using this, we'll verify if ```L1``` corresponds to ```L2```"
   ]
  },
  {
   "cell_type": "code",
   "execution_count": 3,
   "id": "89ab5c12-ed83-4dc2-ba82-977b719e3aba",
   "metadata": {},
   "outputs": [],
   "source": [
    "# Function for comparing the solution to a list\n",
    "def apply(S, L):\n",
    "    S_on_L = [''.join(L[i]) for i in S]\n",
    "    return ''.join(S_on_L)"
   ]
  },
  {
   "cell_type": "code",
   "execution_count": 4,
   "id": "99ef62e3-b557-4e04-85cc-e282ecb465b8",
   "metadata": {},
   "outputs": [
    {
     "data": {
      "text/plain": [
       "'bbaabbbaa'"
      ]
     },
     "execution_count": 4,
     "metadata": {},
     "output_type": "execute_result"
    }
   ],
   "source": [
    "# Apply S to L1\n",
    "apply(S, L1)"
   ]
  },
  {
   "cell_type": "code",
   "execution_count": 5,
   "id": "bf230fdf-099d-4813-a129-717f8fb25f77",
   "metadata": {},
   "outputs": [
    {
     "data": {
      "text/plain": [
       "'bbaabbbaa'"
      ]
     },
     "execution_count": 5,
     "metadata": {},
     "output_type": "execute_result"
    }
   ],
   "source": [
    "# Apply S to L2\n",
    "apply(S, L2)"
   ]
  },
  {
   "cell_type": "code",
   "execution_count": 6,
   "id": "bc8f59c2-d9b8-454a-9474-2f6cca0db484",
   "metadata": {},
   "outputs": [
    {
     "data": {
      "text/plain": [
       "True"
      ]
     },
     "execution_count": 6,
     "metadata": {},
     "output_type": "execute_result"
    }
   ],
   "source": [
    "# Get Python to check if the proposed solution is a solution\n",
    "apply(S, L1) == apply(S, L2)"
   ]
  },
  {
   "cell_type": "markdown",
   "id": "552cba6a-daf7-4945-9f20-358887db6d82",
   "metadata": {},
   "source": [
    "Evidently, ```L1``` does equal to ```L2``` using $ S $, however, there are an infinite amount of solutions to this problem:"
   ]
  },
  {
   "cell_type": "code",
   "execution_count": 7,
   "id": "d0446910-b129-46bb-b813-e5e1b3859b04",
   "metadata": {},
   "outputs": [
    {
     "data": {
      "text/plain": [
       "True"
      ]
     },
     "execution_count": 7,
     "metadata": {},
     "output_type": "execute_result"
    }
   ],
   "source": [
    "# Another solution - there are infinitely many\n",
    "apply((2,1,2,0,2,1,2,0), L1) == apply([2,1,2,0,2,1,2,0], L2)"
   ]
  },
  {
   "cell_type": "markdown",
   "id": "e7ba721f-fdf2-4e2e-b784-17eaf049bdfb",
   "metadata": {},
   "source": [
    "### <b>No Correspondence</b>\n",
    "***"
   ]
  },
  {
   "cell_type": "markdown",
   "id": "aa253fa7-fd52-477b-b516-526bc824297b",
   "metadata": {},
   "source": [
    "<i>How would two lists have no correspondence?</i>"
   ]
  },
  {
   "cell_type": "markdown",
   "id": "272c7435-a1c5-4dab-9db6-9ecc0e7d7be7",
   "metadata": {},
   "source": [
    "Given the following lists ```L3``` and ```L4```:"
   ]
  },
  {
   "cell_type": "code",
   "execution_count": 8,
   "id": "d401820e-c4d0-49a6-bec3-a7d34872b533",
   "metadata": {},
   "outputs": [],
   "source": [
    "L3 = ['ab', 'bba']\n",
    "L4 = ['aa', 'bb']"
   ]
  },
  {
   "cell_type": "markdown",
   "id": "92839938-bd48-4364-8823-738382173ad4",
   "metadata": {},
   "source": [
    "<i>and</i>"
   ]
  },
  {
   "cell_type": "markdown",
   "id": "920be73b-2f6c-4fce-8d80-8d7e20c07f0d",
   "metadata": {},
   "source": [
    "$ S $ = ???"
   ]
  },
  {
   "cell_type": "markdown",
   "id": "701d7090-7b26-4d46-ae37-e95d4a9e9d31",
   "metadata": {},
   "source": [
    "Here, $ S $ is of an infinte length. An infinite amount of possibilites can be combinded in order to find a solution but without a solution $ S $ to apply to the two lists, we cannot prove there is correspondence between them. "
   ]
  },
  {
   "cell_type": "markdown",
   "id": "e6ab7bc1-0c45-4e97-a7e7-d4c96c06f378",
   "metadata": {},
   "source": [
    "$$ (L_1, L_2) \\rightarrow \\{True, False\\} \\qquad |L_1| = |L_2| $$"
   ]
  },
  {
   "cell_type": "markdown",
   "id": "b84e6f35-21f5-4501-a5ce-735decf13df1",
   "metadata": {},
   "source": [
    "## <b>The Bounded Post Correspondence Problem.</b>\n",
    "***\n",
    "\n",
    "### <b>Definition</b>"
   ]
  },
  {
   "cell_type": "markdown",
   "id": "67c19bc1-ea01-478f-84d7-aa12c713c8cb",
   "metadata": {},
   "source": [
    "One of the most important variants of the post correspondence problem is the <b>bounded</b> post correspondence problem. This is a varient of the traditional problem on the basis that the length of $ S $ is bounded, meaning that $ S $ cannot have anymore than $ k $ elements.\n",
    "\n",
    "$$ |S| \\leq K \\qquad K \\in \\mathbb{N} $$\n",
    "\n",
    "This turns the PCP which was undecidable into a decidable problem because due to the number of combinations of elements between ```L1``` and ```L2``` that must be considered, a brute force algorithm can be written to check the correspeondence of the lists using $ S $ of elements up to and including $ k $."
   ]
  },
  {
   "cell_type": "markdown",
   "id": "c8916bce-1b39-4506-a8be-ea71ee145304",
   "metadata": {},
   "source": [
    "## <b>Solve the Bounded Post Correspondence Problem</b>\n",
    "***\n",
    "\n",
    "The following code showcases the construction of a function that checks the corresepondence of two inputted lists and checks if a solution $S$ of max length $K$ exists.\n",
    "\n"
   ]
  },
  {
   "cell_type": "code",
   "execution_count": 9,
   "id": "3a77140f-1022-44a3-9cfc-05b780986653",
   "metadata": {},
   "outputs": [],
   "source": [
    "# A very useful module in the Python standard library.\n",
    "import itertools as it"
   ]
  },
  {
   "cell_type": "code",
   "execution_count": 10,
   "id": "1747ed23-c61e-484a-b5b3-0ba9a3b04f2c",
   "metadata": {},
   "outputs": [],
   "source": [
    "# Function for finding the cartesian product from a list of length K.\n",
    "def cartesian(L, K):\n",
    "    # The generators.\n",
    "    gens=[]\n",
    "    # Loop through all possible solutions. \n",
    "    for i in range(1,K+1):\n",
    "        # Create a generator for solutions of length i\n",
    "        for gen in it.product(L, repeat = i):\n",
    "            # Concatenate each solution\n",
    "            concat=''.join(gen)\n",
    "            # Append it to gens.\n",
    "            gens.append(concat)\n",
    "    return gens"
   ]
  },
  {
   "cell_type": "code",
   "execution_count": 63,
   "id": "1d1a1960-4ece-410e-9032-a2de1fa7a775",
   "metadata": {},
   "outputs": [
    {
     "name": "stdout",
     "output_type": "stream",
     "text": [
      "['a', 'ab', 'bba', 'aa', 'aab', 'abba', 'aba', 'abab', 'abbba', 'bbaa', 'bbaab', 'bbabba', 'aaa', 'aaab', 'aabba', 'aaba', 'aabab', 'aabbba', 'abbaa', 'abbaab', 'abbabba', 'abaa', 'abaab', 'ababba', 'ababa', 'ababab', 'ababbba', 'abbbaa', 'abbbaab', 'abbbabba', 'bbaaa', 'bbaaab', 'bbaabba', 'bbaaba', 'bbaabab', 'bbaabbba', 'bbabbaa', 'bbabbaab', 'bbabbabba', 'aaaa', 'aaaab', 'aaabba', 'aaaba', 'aaabab', 'aaabbba', 'aabbaa', 'aabbaab', 'aabbabba', 'aabaa', 'aabaab', 'aababba', 'aababa', 'aababab', 'aababbba', 'aabbbaa', 'aabbbaab', 'aabbbabba', 'abbaaa', 'abbaaab', 'abbaabba', 'abbaaba', 'abbaabab', 'abbaabbba', 'abbabbaa', 'abbabbaab', 'abbabbabba', 'abaaa', 'abaaab', 'abaabba', 'abaaba', 'abaabab', 'abaabbba', 'ababbaa', 'ababbaab', 'ababbabba', 'ababaa', 'ababaab', 'abababba', 'abababa', 'abababab', 'abababbba', 'ababbbaa', 'ababbbaab', 'ababbbabba', 'abbbaaa', 'abbbaaab', 'abbbaabba', 'abbbaaba', 'abbbaabab', 'abbbaabbba', 'abbbabbaa', 'abbbabbaab', 'abbbabbabba', 'bbaaaa', 'bbaaaab', 'bbaaabba', 'bbaaaba', 'bbaaabab', 'bbaaabbba', 'bbaabbaa', 'bbaabbaab', 'bbaabbabba', 'bbaabaa', 'bbaabaab', 'bbaababba', 'bbaababa', 'bbaababab', 'bbaababbba', 'bbaabbbaa', 'bbaabbbaab', 'bbaabbbabba', 'bbabbaaa', 'bbabbaaab', 'bbabbaabba', 'bbabbaaba', 'bbabbaabab', 'bbabbaabbba', 'bbabbabbaa', 'bbabbabbaab', 'bbabbabbabba']\n"
     ]
    }
   ],
   "source": [
    "# List every cartesian product from both lists of max length 4.\n",
    "print(cartesian(L1, 4))"
   ]
  },
  {
   "cell_type": "markdown",
   "id": "c60537e5-f7f7-4fd3-abe6-f713da73d51f",
   "metadata": {},
   "source": [
    "***"
   ]
  },
  {
   "cell_type": "code",
   "execution_count": 61,
   "id": "c14d76ab-6905-40ef-af38-1e75c1e1a7d4",
   "metadata": {},
   "outputs": [
    {
     "name": "stdout",
     "output_type": "stream",
     "text": [
      "['baa', 'aa', 'bb', 'baabaa', 'baaaa', 'baabb', 'aabaa', 'aaaa', 'aabb', 'bbbaa', 'bbaa', 'bbbb', 'baabaabaa', 'baabaaaa', 'baabaabb', 'baaaabaa', 'baaaaaa', 'baaaabb', 'baabbbaa', 'baabbaa', 'baabbbb', 'aabaabaa', 'aabaaaa', 'aabaabb', 'aaaabaa', 'aaaaaa', 'aaaabb', 'aabbbaa', 'aabbaa', 'aabbbb', 'bbbaabaa', 'bbbaaaa', 'bbbaabb', 'bbaabaa', 'bbaaaa', 'bbaabb', 'bbbbbaa', 'bbbbaa', 'bbbbbb', 'baabaabaabaa', 'baabaabaaaa', 'baabaabaabb', 'baabaaaabaa', 'baabaaaaaa', 'baabaaaabb', 'baabaabbbaa', 'baabaabbaa', 'baabaabbbb', 'baaaabaabaa', 'baaaabaaaa', 'baaaabaabb', 'baaaaaabaa', 'baaaaaaaa', 'baaaaaabb', 'baaaabbbaa', 'baaaabbaa', 'baaaabbbb', 'baabbbaabaa', 'baabbbaaaa', 'baabbbaabb', 'baabbaabaa', 'baabbaaaa', 'baabbaabb', 'baabbbbbaa', 'baabbbbaa', 'baabbbbbb', 'aabaabaabaa', 'aabaabaaaa', 'aabaabaabb', 'aabaaaabaa', 'aabaaaaaa', 'aabaaaabb', 'aabaabbbaa', 'aabaabbaa', 'aabaabbbb', 'aaaabaabaa', 'aaaabaaaa', 'aaaabaabb', 'aaaaaabaa', 'aaaaaaaa', 'aaaaaabb', 'aaaabbbaa', 'aaaabbaa', 'aaaabbbb', 'aabbbaabaa', 'aabbbaaaa', 'aabbbaabb', 'aabbaabaa', 'aabbaaaa', 'aabbaabb', 'aabbbbbaa', 'aabbbbaa', 'aabbbbbb', 'bbbaabaabaa', 'bbbaabaaaa', 'bbbaabaabb', 'bbbaaaabaa', 'bbbaaaaaa', 'bbbaaaabb', 'bbbaabbbaa', 'bbbaabbaa', 'bbbaabbbb', 'bbaabaabaa', 'bbaabaaaa', 'bbaabaabb', 'bbaaaabaa', 'bbaaaaaa', 'bbaaaabb', 'bbaabbbaa', 'bbaabbaa', 'bbaabbbb', 'bbbbbaabaa', 'bbbbbaaaa', 'bbbbbaabb', 'bbbbaabaa', 'bbbbaaaa', 'bbbbaabb', 'bbbbbbbaa', 'bbbbbbaa', 'bbbbbbbb']\n"
     ]
    }
   ],
   "source": [
    "print(cartesian(L2, 4))"
   ]
  },
  {
   "cell_type": "code",
   "execution_count": 70,
   "id": "ade850f5-a52e-48e9-b569-f5597f3b6e2e",
   "metadata": {},
   "outputs": [],
   "source": [
    "# Function for iterating through each list in parallel\n",
    "def iterate(L1, L2):\n",
    "    it1 = iter(L1)\n",
    "    it2 = iter(L2)\n",
    "    while True:     \n",
    "        try:\n",
    "            yield next(it1), next(it2)\n",
    "        except StopIteration:\n",
    "            return\n",
    "\n",
    "\n",
    "# Correspond needs to state whether a solution S of max length K exists.\n",
    "def correspond(L1, L2, K):\n",
    "    # Check if length of both lists are the same.\n",
    "    if len(L1) != len(L2):\n",
    "        return False\n",
    "    # Iterates over the cartesian product of both lists in parallel using the iterate method.\n",
    "    for l1, l2 in iterate(cartesian(L1,K), cartesian(L2,K)):\n",
    "        # If both lists have a matching concatenation return True\n",
    "            if l1 == l2:\n",
    "                print(\"{} = {}\".format(l1, l2))\n",
    "                return True\n",
    "        # Otherwise return false\n",
    "    print(\"No solution S was found for max length {}\".format(K))\n",
    "    return False"
   ]
  },
  {
   "cell_type": "code",
   "execution_count": 56,
   "id": "a2092f08-3f06-426e-876a-9ccd4085b5e7",
   "metadata": {},
   "outputs": [],
   "source": [
    "# Solver for the bounded post correspondence problem \n",
    "def bpcp_solver(L1, L2, K):\n",
    "    if correspond(L1, L2, K):\n",
    "        return True\n",
    "    else:\n",
    "        return False\n"
   ]
  },
  {
   "cell_type": "code",
   "execution_count": 72,
   "id": "ffc9443f-0c0d-4add-8f17-86201a5f6871",
   "metadata": {},
   "outputs": [
    {
     "name": "stdout",
     "output_type": "stream",
     "text": [
      "bbaabbbaa = bbaabbbaa\n"
     ]
    },
    {
     "data": {
      "text/plain": [
       "True"
      ]
     },
     "execution_count": 72,
     "metadata": {},
     "output_type": "execute_result"
    }
   ],
   "source": [
    "bpcp_solver(L1, L2, 4)"
   ]
  },
  {
   "cell_type": "markdown",
   "id": "518a6efc-fe98-46d5-9128-c16abab35a6c",
   "metadata": {},
   "source": [
    "The solver found a correspondence between the two lists with a solution of max length 4, however when the max length is altered:"
   ]
  },
  {
   "cell_type": "code",
   "execution_count": 73,
   "id": "90366f9c-5e58-4c03-8f53-4ceb5273575b",
   "metadata": {},
   "outputs": [
    {
     "name": "stdout",
     "output_type": "stream",
     "text": [
      "No solution S was found for max length 3\n"
     ]
    },
    {
     "data": {
      "text/plain": [
       "False"
      ]
     },
     "execution_count": 73,
     "metadata": {},
     "output_type": "execute_result"
    }
   ],
   "source": [
    "bpcp_solver(L1, L2, 3)"
   ]
  },
  {
   "cell_type": "markdown",
   "id": "b4c2a2a4-368a-4495-a051-cd5332c1aaf5",
   "metadata": {},
   "source": [
    "The next set of lists inputted are the lists used to showcase no correspondence, the expected output should be false."
   ]
  },
  {
   "cell_type": "code",
   "execution_count": 81,
   "id": "0b7e04dc-04ce-4da7-85fc-7dc08a66f0f1",
   "metadata": {},
   "outputs": [
    {
     "name": "stdout",
     "output_type": "stream",
     "text": [
      "No solution S was found for max length 4\n"
     ]
    },
    {
     "data": {
      "text/plain": [
       "False"
      ]
     },
     "execution_count": 81,
     "metadata": {},
     "output_type": "execute_result"
    }
   ],
   "source": [
    "# L3 and L4 has no correspondence\n",
    "bpcp_solver(L3, L4, 4)"
   ]
  },
  {
   "cell_type": "markdown",
   "id": "11e9c8a2-bccf-47de-ac58-6ff8f1c5a32a",
   "metadata": {},
   "source": [
    "## <b>Explanation of what an undecidable problem is</b>\n",
    "***\n",
    "### with reference to the Post Correspondence Problem."
   ]
  },
  {
   "cell_type": "markdown",
   "id": "c607ee8e-ac73-496f-8bcc-935f8c2cf30a",
   "metadata": {},
   "source": [
    "In computing, problems arrive that Some problems take a very long time to solve, so we use algorithms that give approximate solutions. \n",
    "There are some problems that a computer can never solve, even the world's most powerful computer with infinite time: the undecidable problems.\n",
    "An undecidable problem is one that should give a \"yes\" or \"no\" answer, but yet no algorithm exists that can answer correctly on all inputs. "
   ]
  },
  {
   "cell_type": "code",
   "execution_count": null,
   "id": "5abb4ee8-b555-4536-ab22-24eaa35cb60b",
   "metadata": {},
   "outputs": [],
   "source": []
  },
  {
   "cell_type": "code",
   "execution_count": null,
   "id": "ec7d76b0-2e35-4257-858d-4f470a91f35a",
   "metadata": {},
   "outputs": [],
   "source": []
  },
  {
   "cell_type": "code",
   "execution_count": null,
   "id": "9d0ffedd-124d-4ff7-bed5-8b32e9d1d064",
   "metadata": {},
   "outputs": [],
   "source": []
  },
  {
   "cell_type": "code",
   "execution_count": null,
   "id": "ce16430d-013a-4199-aa01-b6f2230a0241",
   "metadata": {},
   "outputs": [],
   "source": []
  },
  {
   "cell_type": "code",
   "execution_count": null,
   "id": "449c8cad-7dc7-4df7-ad23-31b1c4fa1d2a",
   "metadata": {},
   "outputs": [],
   "source": []
  },
  {
   "cell_type": "markdown",
   "id": "1714230e-a853-4cce-baf1-d8dd5b3ea4dd",
   "metadata": {},
   "source": []
  }
 ],
 "metadata": {
  "kernelspec": {
   "display_name": "Python 3",
   "language": "python",
   "name": "python3"
  },
  "language_info": {
   "codemirror_mode": {
    "name": "ipython",
    "version": 3
   },
   "file_extension": ".py",
   "mimetype": "text/x-python",
   "name": "python",
   "nbconvert_exporter": "python",
   "pygments_lexer": "ipython3",
   "version": "3.8.8"
  }
 },
 "nbformat": 4,
 "nbformat_minor": 5
}
