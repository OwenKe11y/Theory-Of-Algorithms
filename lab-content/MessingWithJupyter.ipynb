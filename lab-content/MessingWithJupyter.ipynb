{
 "cells": [
  {
   "cell_type": "markdown",
   "id": "426c5631-8685-42be-9534-9778edfce66f",
   "metadata": {},
   "source": [
    "# <b>Random password generator</b> \n",
    "***"
   ]
  },
  {
   "cell_type": "markdown",
   "id": "b7d28aed-fc58-41b5-b0b4-17c2be5da3e9",
   "metadata": {},
   "source": [
    "## Quick password generator taken from [here](https://medium.com/analytics-vidhya/create-a-random-password-generator-using-python-2fea485e9da9)"
   ]
  },
  {
   "cell_type": "markdown",
   "id": "1335ac73-5311-4c78-96cb-f89218646bd8",
   "metadata": {},
   "source": [
    "In order to access the Python library, we need to import the package in our Python script."
   ]
  },
  {
   "cell_type": "code",
   "execution_count": 1,
   "id": "73fbef5b-079b-4cd3-8025-3301cc1303f8",
   "metadata": {},
   "outputs": [],
   "source": [
    "import random\n",
    "import string"
   ]
  },
  {
   "cell_type": "markdown",
   "id": "4223992e-827d-47ec-a4f8-223bde29054f",
   "metadata": {},
   "source": [
    "#### Once done, let’s greet the user!"
   ]
  },
  {
   "cell_type": "code",
   "execution_count": 2,
   "id": "23f80752-061d-441c-8c21-5756d64d9601",
   "metadata": {},
   "outputs": [
    {
     "name": "stdout",
     "output_type": "stream",
     "text": [
      "hello, Welcome to Password generator!\n"
     ]
    }
   ],
   "source": [
    "print('hello, Welcome to Password generator!')"
   ]
  },
  {
   "cell_type": "markdown",
   "id": "2a36dcfd-c0fb-431e-b7e6-21e07dc2723d",
   "metadata": {},
   "source": [
    "#### Next, let’s ask the user for the length of the password."
   ]
  },
  {
   "cell_type": "code",
   "execution_count": 3,
   "id": "eda63710-7ba3-4b24-930c-d71cd533dfc7",
   "metadata": {},
   "outputs": [
    {
     "name": "stdin",
     "output_type": "stream",
     "text": [
      "\n",
      "Enter the length of password:  16\n"
     ]
    }
   ],
   "source": [
    "length = int(input('\\nEnter the length of password: '))"
   ]
  },
  {
   "cell_type": "markdown",
   "id": "ef5b75c9-2bc5-4bc1-90c9-c74b92f8a54a",
   "metadata": {},
   "source": [
    "#### Its time to define the data. We will make use of string module for the same."
   ]
  },
  {
   "cell_type": "code",
   "execution_count": 4,
   "id": "3b2ecda4-996f-49f9-a5dc-3bc68a34f3c9",
   "metadata": {},
   "outputs": [],
   "source": [
    "lower = string.ascii_lowercase\n",
    "upper = string.ascii_uppercase\n",
    "num = string.digits\n",
    "symbols = string.punctuation"
   ]
  },
  {
   "cell_type": "markdown",
   "id": "0b190144-fe44-4738-8610-2e5da8ff342c",
   "metadata": {},
   "source": [
    "####  have stored lowercase and uppercase letters along with numbers and symbols. Let’s combine the data and store the data."
   ]
  },
  {
   "cell_type": "code",
   "execution_count": 5,
   "id": "939d39f3-9896-4512-b36b-d16a05e9bc15",
   "metadata": {},
   "outputs": [],
   "source": [
    "all = lower + upper + num + symbols"
   ]
  },
  {
   "cell_type": "markdown",
   "id": "16833861-c9fe-4d7c-b579-f9fcfb3d8747",
   "metadata": {},
   "source": [
    "#### Now that we have the data, let’s make use of random module to finally generate the password."
   ]
  },
  {
   "cell_type": "code",
   "execution_count": 6,
   "id": "f38bfcac-09d0-4111-9a3e-d4cb953c5587",
   "metadata": {},
   "outputs": [],
   "source": [
    "temp = random.sample(all,length)\n",
    "password = \"\".join(temp)"
   ]
  },
  {
   "cell_type": "markdown",
   "id": "46e9bd60-d586-4ae8-a603-58ff90294eea",
   "metadata": {},
   "source": [
    "#### We are passing in the combined data along with the length of the password, and joining them at the end.\n",
    "\n",
    "Now that you have a clear understanding of the script, we can even reduce the number of lines of code by eliminating the storage of data. Let’s have a look."
   ]
  },
  {
   "cell_type": "code",
   "execution_count": 7,
   "id": "65b66721-0109-42f1-ab0c-f185ad3bb500",
   "metadata": {},
   "outputs": [],
   "source": [
    "all = string.ascii_letters + string.digits + string.punctuation\n",
    "password = \"\".join(random.sample(all,length))"
   ]
  },
  {
   "cell_type": "markdown",
   "id": "8f7e579f-e25d-4c1f-8b23-14ae7da78ff6",
   "metadata": {},
   "source": [
    "#### Finally, let’s print the password!"
   ]
  },
  {
   "cell_type": "code",
   "execution_count": 9,
   "id": "bc7a898d-2f80-4779-9615-37e040f77c08",
   "metadata": {},
   "outputs": [
    {
     "name": "stdout",
     "output_type": "stream",
     "text": [
      "Cj(=V\"09!|?Z#34E\n"
     ]
    }
   ],
   "source": [
    "print(password)"
   ]
  },
  {
   "cell_type": "code",
   "execution_count": null,
   "id": "bfd6a0a2-68fd-4f27-b552-954ffc88d5b0",
   "metadata": {},
   "outputs": [],
   "source": []
  },
  {
   "cell_type": "code",
   "execution_count": null,
   "id": "519a2862-9dca-47e4-9e88-b37404147637",
   "metadata": {},
   "outputs": [],
   "source": []
  }
 ],
 "metadata": {
  "kernelspec": {
   "display_name": "Python 3",
   "language": "python",
   "name": "python3"
  },
  "language_info": {
   "codemirror_mode": {
    "name": "ipython",
    "version": 3
   },
   "file_extension": ".py",
   "mimetype": "text/x-python",
   "name": "python",
   "nbconvert_exporter": "python",
   "pygments_lexer": "ipython3",
   "version": "3.8.8"
  }
 },
 "nbformat": 4,
 "nbformat_minor": 5
}
