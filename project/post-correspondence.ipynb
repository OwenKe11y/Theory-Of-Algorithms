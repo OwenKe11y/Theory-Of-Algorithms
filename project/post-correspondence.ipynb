{
 "cells": [
  {
   "cell_type": "markdown",
   "id": "72583767-dfc3-44e1-93a2-f6d3f6dfafc5",
   "metadata": {},
   "source": [
    "# <b> The Post Correspondence Problem\n",
    "***"
   ]
  },
  {
   "cell_type": "markdown",
   "id": "6c66e4f5-9091-4e0c-86b6-fc5f813397b8",
   "metadata": {},
   "source": [
    "## <b>Definition and explanation of the Post Correspondence Problem.\n",
    "***"
   ]
  },
  {
   "cell_type": "code",
   "execution_count": null,
   "id": "99efbc79-b9fc-431f-bd2a-470796105f31",
   "metadata": {},
   "outputs": [],
   "source": []
  },
  {
   "cell_type": "code",
   "execution_count": null,
   "id": "62d31ad0-87ff-4df0-818f-14b0c20081c8",
   "metadata": {},
   "outputs": [],
   "source": []
  },
  {
   "cell_type": "code",
   "execution_count": null,
   "id": "73dd6c14-1aae-4591-b4fd-431af3f40bb1",
   "metadata": {},
   "outputs": [],
   "source": []
  },
  {
   "cell_type": "code",
   "execution_count": null,
   "id": "43a85b54-26d7-4c3f-954c-3d9ff7aee64b",
   "metadata": {},
   "outputs": [],
   "source": []
  },
  {
   "cell_type": "markdown",
   "id": "b84e6f35-21f5-4501-a5ce-735decf13df1",
   "metadata": {},
   "source": [
    "## <b>Definition and explanation of the Bounded Post Correspondence Problem.\n",
    "***"
   ]
  },
  {
   "cell_type": "code",
   "execution_count": null,
   "id": "9ac55be7-b240-4c05-b915-a5ecb8b87052",
   "metadata": {},
   "outputs": [],
   "source": []
  },
  {
   "cell_type": "code",
   "execution_count": null,
   "id": "913c429a-fab1-4d51-82e7-f4b10ffc4be8",
   "metadata": {},
   "outputs": [],
   "source": []
  },
  {
   "cell_type": "code",
   "execution_count": null,
   "id": "00a7d6bf-e745-45e4-9030-5d3035ec8c03",
   "metadata": {},
   "outputs": [],
   "source": []
  },
  {
   "cell_type": "code",
   "execution_count": null,
   "id": "b82cff11-a4de-440b-af5a-9d2243a58d61",
   "metadata": {},
   "outputs": [],
   "source": []
  },
  {
   "cell_type": "code",
   "execution_count": null,
   "id": "bc8ad513-2295-4c52-9488-645985769311",
   "metadata": {},
   "outputs": [],
   "source": []
  },
  {
   "cell_type": "markdown",
   "id": "c8916bce-1b39-4506-a8be-ea71ee145304",
   "metadata": {},
   "source": [
    "## <b>Solve the Bounded Post Correspondence Problem</b>\n",
    "***\n",
    "\n",
    "### The function should take two lists of strings and return True if they correspond, False otherwise."
   ]
  },
  {
   "cell_type": "code",
   "execution_count": null,
   "id": "ade850f5-a52e-48e9-b569-f5597f3b6e2e",
   "metadata": {},
   "outputs": [],
   "source": []
  },
  {
   "cell_type": "code",
   "execution_count": null,
   "id": "d5b60b4f-f9d3-4175-a1fc-b5966bcc807f",
   "metadata": {},
   "outputs": [],
   "source": []
  },
  {
   "cell_type": "code",
   "execution_count": null,
   "id": "ff47c70e-b9a2-416e-a398-7d9e9f1444ed",
   "metadata": {},
   "outputs": [],
   "source": []
  },
  {
   "cell_type": "code",
   "execution_count": null,
   "id": "a2092f08-3f06-426e-876a-9ccd4085b5e7",
   "metadata": {},
   "outputs": [],
   "source": []
  },
  {
   "cell_type": "code",
   "execution_count": null,
   "id": "ffc9443f-0c0d-4add-8f17-86201a5f6871",
   "metadata": {},
   "outputs": [],
   "source": []
  },
  {
   "cell_type": "markdown",
   "id": "11e9c8a2-bccf-47de-ac58-6ff8f1c5a32a",
   "metadata": {},
   "source": [
    "## <b>Explanation of what an undecidable problem is</b>\n",
    "***\n",
    "### with reference to the Post Correspondence Problem."
   ]
  },
  {
   "cell_type": "code",
   "execution_count": null,
   "id": "85efcf2e-453d-45d3-ab7a-57ca95fe530a",
   "metadata": {},
   "outputs": [],
   "source": []
  },
  {
   "cell_type": "code",
   "execution_count": null,
   "id": "ec7d76b0-2e35-4257-858d-4f470a91f35a",
   "metadata": {},
   "outputs": [],
   "source": []
  },
  {
   "cell_type": "code",
   "execution_count": null,
   "id": "9d0ffedd-124d-4ff7-bed5-8b32e9d1d064",
   "metadata": {},
   "outputs": [],
   "source": []
  },
  {
   "cell_type": "code",
   "execution_count": null,
   "id": "ce16430d-013a-4199-aa01-b6f2230a0241",
   "metadata": {},
   "outputs": [],
   "source": []
  },
  {
   "cell_type": "code",
   "execution_count": null,
   "id": "449c8cad-7dc7-4df7-ad23-31b1c4fa1d2a",
   "metadata": {},
   "outputs": [],
   "source": []
  },
  {
   "cell_type": "markdown",
   "id": "1714230e-a853-4cce-baf1-d8dd5b3ea4dd",
   "metadata": {},
   "source": []
  }
 ],
 "metadata": {
  "kernelspec": {
   "display_name": "Python 3",
   "language": "python",
   "name": "python3"
  },
  "language_info": {
   "codemirror_mode": {
    "name": "ipython",
    "version": 3
   },
   "file_extension": ".py",
   "mimetype": "text/x-python",
   "name": "python",
   "nbconvert_exporter": "python",
   "pygments_lexer": "ipython3",
   "version": "3.8.8"
  }
 },
 "nbformat": 4,
 "nbformat_minor": 5
}
