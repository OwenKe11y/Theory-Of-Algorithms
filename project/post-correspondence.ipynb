{
 "cells": [
  {
   "cell_type": "markdown",
   "id": "72583767-dfc3-44e1-93a2-f6d3f6dfafc5",
   "metadata": {},
   "source": [
    "<img src=\"img/post_background.png\" alt=\"Comparison\" style=\"width: 1400px; height: 300px\"/><br>\n",
    "\n",
    "\n",
    "# <b> The Post Correspondence Problem </b>\n",
    "***"
   ]
  },
  {
   "cell_type": "markdown",
   "id": "6c66e4f5-9091-4e0c-86b6-fc5f813397b8",
   "metadata": {
    "tags": []
   },
   "source": [
    "## <b>What is it?</b>\n",
    "***\n",
    "\n",
    "The Post Correspondence Problem (PCP), introduced by Emil Post in 1946, is an undecidable decision problem. It is popular in showcasing the proofs of undecidablity \n",
    "\n",
    "### <b>The Problem</b>\n",
    "***\n",
    "Put simply, assume that two finite lists, both containing N words, was given:\n",
    "\n"
   ]
  },
  {
   "cell_type": "code",
   "execution_count": 2,
   "id": "5a8dafe8-4dbd-4f22-ab51-0ae4359a9628",
   "metadata": {},
   "outputs": [],
   "source": [
    "L1 = ['a', 'ab', 'bba']\n",
    "L2 = ['baa', 'aa', 'bb']"
   ]
  },
  {
   "cell_type": "markdown",
   "id": "1f887d77-0d60-4c87-976a-adc72b111e4f",
   "metadata": {},
   "source": [
    "The aim is to find out the concatenation of these words in some sequence such that ```L1``` will equal, or correspond, to ```L2```\n",
    "\n",
    "Both lists contain values that are not equal to each other.\n"
   ]
  },
  {
   "cell_type": "markdown",
   "id": "11175238-9abd-46e9-92b1-f5e7d3a73977",
   "metadata": {},
   "source": [
    "### <b>The Solution</b>\n",
    "***"
   ]
  },
  {
   "cell_type": "markdown",
   "id": "22d6e6ed-2756-4a6d-9702-0f574b19a1c6",
   "metadata": {},
   "source": [
    "A solution to this problem would be a sequence of indices $ S $."
   ]
  },
  {
   "cell_type": "code",
   "execution_count": 3,
   "id": "4176fa4c-ff86-4e50-a5de-0ba90f8d2eb9",
   "metadata": {},
   "outputs": [],
   "source": [
    "# A proposed solution\n",
    "S = (2, 1, 2, 0)"
   ]
  },
  {
   "cell_type": "markdown",
   "id": "9b989e7f-67cf-4a34-979d-0a5098811caf",
   "metadata": {},
   "source": [
    "Let's consider the result of selections of pair 2, 1, 2, 0 accordingly. They can be shown in the following table:"
   ]
  },
  {
   "cell_type": "markdown",
   "id": "ad9de49f-5987-4913-9f43-0f8ee9f38e3c",
   "metadata": {},
   "source": [
    "| S  | 2   | 1  | 2   | 0   |\n",
    "|----|-----|----|-----|-----|\n",
    "| L1 | bba | ab | bba | a   |\n",
    "| L2 | bb  | aa | bb  | baa |\n"
   ]
  },
  {
   "cell_type": "markdown",
   "id": "8fdf5908-88c7-4f9b-86ca-780102157216",
   "metadata": {},
   "source": [
    "Using this, we'll verify if ```L1``` corresponds to ```L2```"
   ]
  },
  {
   "cell_type": "code",
   "execution_count": 9,
   "id": "89ab5c12-ed83-4dc2-ba82-977b719e3aba",
   "metadata": {},
   "outputs": [],
   "source": [
    "# Function for comparing the solution to a list\n",
    "def apply(S, L):\n",
    "    S_on_L = [''.join(L[i]) for i in S]\n",
    "    return ''.join(S_on_L)"
   ]
  },
  {
   "cell_type": "code",
   "execution_count": 10,
   "id": "99ef62e3-b557-4e04-85cc-e282ecb465b8",
   "metadata": {},
   "outputs": [
    {
     "data": {
      "text/plain": [
       "'bbaabbbaa'"
      ]
     },
     "execution_count": 10,
     "metadata": {},
     "output_type": "execute_result"
    }
   ],
   "source": [
    "# Apply S to L1\n",
    "apply(S, L1)"
   ]
  },
  {
   "cell_type": "code",
   "execution_count": 11,
   "id": "bf230fdf-099d-4813-a129-717f8fb25f77",
   "metadata": {},
   "outputs": [
    {
     "data": {
      "text/plain": [
       "'bbaabbbaa'"
      ]
     },
     "execution_count": 11,
     "metadata": {},
     "output_type": "execute_result"
    }
   ],
   "source": [
    "# Apply S to L2\n",
    "apply(S, L2)"
   ]
  },
  {
   "cell_type": "code",
   "execution_count": 12,
   "id": "bc8f59c2-d9b8-454a-9474-2f6cca0db484",
   "metadata": {},
   "outputs": [
    {
     "data": {
      "text/plain": [
       "True"
      ]
     },
     "execution_count": 12,
     "metadata": {},
     "output_type": "execute_result"
    }
   ],
   "source": [
    "# Get Python to check if the proposed solution is a solution\n",
    "apply(S, L1) == apply(S, L2)"
   ]
  },
  {
   "cell_type": "markdown",
   "id": "552cba6a-daf7-4945-9f20-358887db6d82",
   "metadata": {},
   "source": [
    "Evidently, ```L1``` does equal to ```L2``` using $ S $, however, there are an infinite amount of solutions to this problem:"
   ]
  },
  {
   "cell_type": "code",
   "execution_count": 13,
   "id": "d0446910-b129-46bb-b813-e5e1b3859b04",
   "metadata": {},
   "outputs": [
    {
     "data": {
      "text/plain": [
       "True"
      ]
     },
     "execution_count": 13,
     "metadata": {},
     "output_type": "execute_result"
    }
   ],
   "source": [
    "# Another solution - there are infinitely many\n",
    "apply((2,1,2,0,2,1,2,0), L1) == apply([2,1,2,0,2,1,2,0], L2)"
   ]
  },
  {
   "cell_type": "markdown",
   "id": "e7ba721f-fdf2-4e2e-b784-17eaf049bdfb",
   "metadata": {},
   "source": [
    "### <b>No Correspondence</b>\n",
    "***"
   ]
  },
  {
   "cell_type": "markdown",
   "id": "aa253fa7-fd52-477b-b516-526bc824297b",
   "metadata": {},
   "source": [
    "<i>How would two lists have no correspondence?</i>"
   ]
  },
  {
   "cell_type": "markdown",
   "id": "272c7435-a1c5-4dab-9db6-9ecc0e7d7be7",
   "metadata": {},
   "source": [
    "Given the following lists ```L3``` and ```L4```:"
   ]
  },
  {
   "cell_type": "code",
   "execution_count": 13,
   "id": "d401820e-c4d0-49a6-bec3-a7d34872b533",
   "metadata": {},
   "outputs": [],
   "source": [
    "L3 = ['ab', 'bba']\n",
    "L4 = ['aa', 'bb']"
   ]
  },
  {
   "cell_type": "markdown",
   "id": "92839938-bd48-4364-8823-738382173ad4",
   "metadata": {},
   "source": [
    "<i>and</i>"
   ]
  },
  {
   "cell_type": "markdown",
   "id": "920be73b-2f6c-4fce-8d80-8d7e20c07f0d",
   "metadata": {},
   "source": [
    "$ S $ = ???"
   ]
  },
  {
   "cell_type": "markdown",
   "id": "701d7090-7b26-4d46-ae37-e95d4a9e9d31",
   "metadata": {},
   "source": [
    "Here, $ S $ is of an infinte length. An infinite amount of possibilites can be combinded in order to find a solution but without a solution $ S $ to apply to the two lists, we cannot prove there is correspondence between them. "
   ]
  },
  {
   "cell_type": "markdown",
   "id": "e6ab7bc1-0c45-4e97-a7e7-d4c96c06f378",
   "metadata": {},
   "source": [
    "$$ (L_1, L_2) \\rightarrow \\{True, False\\} \\qquad |L_1| = |L_2| $$"
   ]
  },
  {
   "cell_type": "markdown",
   "id": "b84e6f35-21f5-4501-a5ce-735decf13df1",
   "metadata": {},
   "source": [
    "## <b>The Bounded Post Correspondence Problem.</b>\n",
    "***\n",
    "\n",
    "### <b>Definition</b>"
   ]
  },
  {
   "cell_type": "markdown",
   "id": "67c19bc1-ea01-478f-84d7-aa12c713c8cb",
   "metadata": {},
   "source": [
    "One of the most important variants of the post correspondence problem is the <b>bounded</b> post correspondence problem. This is a varient of the traditional problem on the basis that the length of $ S $ is bounded, meaning that $ S $ cannot have anymore than $ k $ elements.\n",
    "\n",
    "$$ |S| \\leq K \\qquad K \\in \\mathbb{N} $$\n",
    "\n",
    "This turns the PCP which was undecidable into a decidable problem because due to the number of combinations of elements between ```L1``` and ```L2``` that must be considered, a brute force algorithm can be written to check the correspeondence of the lists using $ S $ of elements up to and including $ k $."
   ]
  },
  {
   "cell_type": "markdown",
   "id": "c8916bce-1b39-4506-a8be-ea71ee145304",
   "metadata": {},
   "source": [
    "## <b>Solve the Bounded Post Correspondence Problem</b>\n",
    "***\n",
    "\n",
    "This function takes two lists of strings and returns true if they correspond, false otherwise.\n",
    "\n"
   ]
  },
  {
   "cell_type": "code",
   "execution_count": 16,
   "id": "ade850f5-a52e-48e9-b569-f5597f3b6e2e",
   "metadata": {},
   "outputs": [],
   "source": [
    "# Write a solver for the bounded version.\n",
    "def bpcp_solver(L1, L2, K):\n",
    "    if correspond(L1, L2, K):\n",
    "        return True\n",
    "    else:\n",
    "        return False\n",
    "\n",
    "# Correspond needs to state whether a solution S of max length K exists.\n",
    "def correspond(L1, L2, K):\n",
    "    # Your algorithm here.\n",
    "    return True if solution else False"
   ]
  },
  {
   "cell_type": "code",
   "execution_count": null,
   "id": "d5b60b4f-f9d3-4175-a1fc-b5966bcc807f",
   "metadata": {},
   "outputs": [],
   "source": []
  },
  {
   "cell_type": "code",
   "execution_count": null,
   "id": "ff47c70e-b9a2-416e-a398-7d9e9f1444ed",
   "metadata": {},
   "outputs": [],
   "source": []
  },
  {
   "cell_type": "code",
   "execution_count": null,
   "id": "a2092f08-3f06-426e-876a-9ccd4085b5e7",
   "metadata": {},
   "outputs": [],
   "source": []
  },
  {
   "cell_type": "code",
   "execution_count": null,
   "id": "ffc9443f-0c0d-4add-8f17-86201a5f6871",
   "metadata": {},
   "outputs": [],
   "source": []
  },
  {
   "cell_type": "markdown",
   "id": "11e9c8a2-bccf-47de-ac58-6ff8f1c5a32a",
   "metadata": {},
   "source": [
    "## <b>Explanation of what an undecidable problem is</b>\n",
    "***\n",
    "### with reference to the Post Correspondence Problem."
   ]
  },
  {
   "cell_type": "code",
   "execution_count": null,
   "id": "85efcf2e-453d-45d3-ab7a-57ca95fe530a",
   "metadata": {},
   "outputs": [],
   "source": []
  },
  {
   "cell_type": "code",
   "execution_count": null,
   "id": "ec7d76b0-2e35-4257-858d-4f470a91f35a",
   "metadata": {},
   "outputs": [],
   "source": []
  },
  {
   "cell_type": "code",
   "execution_count": null,
   "id": "9d0ffedd-124d-4ff7-bed5-8b32e9d1d064",
   "metadata": {},
   "outputs": [],
   "source": []
  },
  {
   "cell_type": "code",
   "execution_count": null,
   "id": "ce16430d-013a-4199-aa01-b6f2230a0241",
   "metadata": {},
   "outputs": [],
   "source": []
  },
  {
   "cell_type": "code",
   "execution_count": null,
   "id": "449c8cad-7dc7-4df7-ad23-31b1c4fa1d2a",
   "metadata": {},
   "outputs": [],
   "source": []
  },
  {
   "cell_type": "markdown",
   "id": "1714230e-a853-4cce-baf1-d8dd5b3ea4dd",
   "metadata": {},
   "source": []
  }
 ],
 "metadata": {
  "kernelspec": {
   "display_name": "Python 3",
   "language": "python",
   "name": "python3"
  },
  "language_info": {
   "codemirror_mode": {
    "name": "ipython",
    "version": 3
   },
   "file_extension": ".py",
   "mimetype": "text/x-python",
   "name": "python",
   "nbconvert_exporter": "python",
   "pygments_lexer": "ipython3",
   "version": "3.8.8"
  }
 },
 "nbformat": 4,
 "nbformat_minor": 5
}
