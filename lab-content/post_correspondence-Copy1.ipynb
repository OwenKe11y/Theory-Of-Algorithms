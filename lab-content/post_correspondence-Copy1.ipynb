{
 "cells": [
  {
   "cell_type": "markdown",
   "id": "d32aa845-1246-4a0b-9a75-24cd1577e29e",
   "metadata": {},
   "source": [
    "# <b>Post Correspondence Problem</b>\n",
    "\n",
    "https://en.wikipedia.org/wiki/Post_correspondence_problem\n",
    "***\n"
   ]
  },
  {
   "cell_type": "markdown",
   "id": "ede954cb-3f5e-40ad-a069-2937d910e5cd",
   "metadata": {},
   "source": [
    "## <b>With Strings</b>\n"
   ]
  },
  {
   "cell_type": "code",
   "execution_count": 1,
   "id": "4ae38671-cdbf-4480-ad99-98a834e58ed7",
   "metadata": {},
   "outputs": [],
   "source": [
    "# Alphabet for strings: a set\n",
    "A = {'a', 'b'}"
   ]
  },
  {
   "cell_type": "code",
   "execution_count": 2,
   "id": "cf34ed5c-59be-4d86-b5a2-e33b1f660f7f",
   "metadata": {},
   "outputs": [],
   "source": [
    "L1 = ['a', 'ab', 'bba']\n",
    "L2 = ['baa', 'aa', 'bb']"
   ]
  },
  {
   "cell_type": "code",
   "execution_count": 3,
   "id": "ba3c1fbd-8340-4e23-89bf-20583bd13d5a",
   "metadata": {},
   "outputs": [],
   "source": [
    "S = [2, 1, 2, 0]"
   ]
  },
  {
   "cell_type": "code",
   "execution_count": 4,
   "id": "44915c8a-5e05-4398-936e-57602b93fb6d",
   "metadata": {},
   "outputs": [
    {
     "data": {
      "text/plain": [
       "'bbaabbbaa'"
      ]
     },
     "execution_count": 4,
     "metadata": {},
     "output_type": "execute_result"
    }
   ],
   "source": [
    "# Apply S to L1\n",
    "'bba' + 'ab' + 'bba' + 'a'"
   ]
  },
  {
   "cell_type": "code",
   "execution_count": 5,
   "id": "d8f77070-cbfe-4a4d-85f7-7c6b6f0a54f8",
   "metadata": {},
   "outputs": [
    {
     "data": {
      "text/plain": [
       "'bbaabbbaa'"
      ]
     },
     "execution_count": 5,
     "metadata": {},
     "output_type": "execute_result"
    }
   ],
   "source": [
    "# Apply S to L2\n",
    "'bb' + 'aa' + 'bb' + 'baa'"
   ]
  },
  {
   "cell_type": "markdown",
   "id": "9a0d4dab-5bf2-4893-b9d2-2242c9881886",
   "metadata": {},
   "source": [
    "So, ```L1``` corresponds to ```L2```"
   ]
  },
  {
   "cell_type": "code",
   "execution_count": 6,
   "id": "6100f7c3-91b5-44c3-a949-d8d6177e8747",
   "metadata": {},
   "outputs": [],
   "source": [
    "def apply(S, L):\n",
    "    S_on_L = [L[i] for i in S]\n",
    "    return ''.join(S_on_L)"
   ]
  },
  {
   "cell_type": "code",
   "execution_count": 7,
   "id": "f77c06a0-56db-4e2f-a328-8f44bb883d9a",
   "metadata": {},
   "outputs": [
    {
     "data": {
      "text/plain": [
       "'bbaabbbaa'"
      ]
     },
     "execution_count": 7,
     "metadata": {},
     "output_type": "execute_result"
    }
   ],
   "source": [
    "apply(S, L1)"
   ]
  },
  {
   "cell_type": "code",
   "execution_count": 8,
   "id": "e8b8b098-2dfb-4199-8892-d364fd35850f",
   "metadata": {},
   "outputs": [
    {
     "data": {
      "text/plain": [
       "[2, 1, 2, 0]"
      ]
     },
     "execution_count": 8,
     "metadata": {},
     "output_type": "execute_result"
    }
   ],
   "source": [
    "S"
   ]
  },
  {
   "cell_type": "code",
   "execution_count": 9,
   "id": "b6da9883-ea8f-4174-8ba2-ed3cc198aba6",
   "metadata": {},
   "outputs": [
    {
     "data": {
      "text/plain": [
       "['a', 'ab', 'bba']"
      ]
     },
     "execution_count": 9,
     "metadata": {},
     "output_type": "execute_result"
    }
   ],
   "source": [
    "L1"
   ]
  },
  {
   "cell_type": "code",
   "execution_count": 10,
   "id": "0bcaca83-58fc-4ae5-83f8-e67e7aad404b",
   "metadata": {},
   "outputs": [
    {
     "data": {
      "text/plain": [
       "['bba', 'ab', 'bba', 'a']"
      ]
     },
     "execution_count": 10,
     "metadata": {},
     "output_type": "execute_result"
    }
   ],
   "source": [
    "[L1[i] for i in S]"
   ]
  },
  {
   "cell_type": "code",
   "execution_count": 11,
   "id": "88b3b5f2-97a8-451e-b76d-313818dcf118",
   "metadata": {},
   "outputs": [
    {
     "data": {
      "text/plain": [
       "'oneJOINtwoJOINthree'"
      ]
     },
     "execution_count": 11,
     "metadata": {},
     "output_type": "execute_result"
    }
   ],
   "source": [
    "'JOIN'.join(['one', 'two', 'three'])"
   ]
  },
  {
   "cell_type": "code",
   "execution_count": 12,
   "id": "dc1e8fad-eb87-47e7-aa96-f6b96c6fc4e8",
   "metadata": {},
   "outputs": [
    {
     "data": {
      "text/plain": [
       "'bbaabbbaa'"
      ]
     },
     "execution_count": 12,
     "metadata": {},
     "output_type": "execute_result"
    }
   ],
   "source": [
    "apply(S, L1)"
   ]
  },
  {
   "cell_type": "code",
   "execution_count": 13,
   "id": "99256d53-7143-44e9-b929-cc2ea4d8f14a",
   "metadata": {},
   "outputs": [
    {
     "data": {
      "text/plain": [
       "'bbaabbbaa'"
      ]
     },
     "execution_count": 13,
     "metadata": {},
     "output_type": "execute_result"
    }
   ],
   "source": [
    "apply(S, L2)"
   ]
  },
  {
   "cell_type": "code",
   "execution_count": 14,
   "id": "e41b03fb-6401-44e6-8234-64eef0a32e26",
   "metadata": {},
   "outputs": [
    {
     "data": {
      "text/plain": [
       "'bbaabbbaabbaabbbaa'"
      ]
     },
     "execution_count": 14,
     "metadata": {},
     "output_type": "execute_result"
    }
   ],
   "source": [
    "apply([2,1,2,0,2,1,2,0], L1)"
   ]
  },
  {
   "cell_type": "code",
   "execution_count": 15,
   "id": "9b1fe10c-f440-4210-9026-2dd84695e2a8",
   "metadata": {},
   "outputs": [
    {
     "data": {
      "text/plain": [
       "'bbaabbbaabbaabbbaa'"
      ]
     },
     "execution_count": 15,
     "metadata": {},
     "output_type": "execute_result"
    }
   ],
   "source": [
    "apply([2,1,2,0,2,1,2,0], L2)"
   ]
  },
  {
   "cell_type": "markdown",
   "id": "b9c29846-7bca-46a3-96db-782ab9db4092",
   "metadata": {},
   "source": [
    "## <b>No Correspondence</b>\n",
    "***"
   ]
  },
  {
   "cell_type": "code",
   "execution_count": 16,
   "id": "787122ed-4985-4576-9760-97a7faa33501",
   "metadata": {},
   "outputs": [],
   "source": [
    "L1 = ['ab', 'bba']\n",
    "L2 = ['aa', 'bb']"
   ]
  },
  {
   "cell_type": "code",
   "execution_count": 17,
   "id": "71320cce-3d0b-44a0-99b9-532def8d7030",
   "metadata": {},
   "outputs": [
    {
     "ename": "SyntaxError",
     "evalue": "invalid syntax (Temp/ipykernel_9220/2687198660.py, line 1)",
     "output_type": "error",
     "traceback": [
      "\u001b[1;36m  File \u001b[1;32m\"C:\\Users\\night\\AppData\\Local\\Temp/ipykernel_9220/2687198660.py\"\u001b[1;36m, line \u001b[1;32m1\u001b[0m\n\u001b[1;33m    S = ?\u001b[0m\n\u001b[1;37m        ^\u001b[0m\n\u001b[1;31mSyntaxError\u001b[0m\u001b[1;31m:\u001b[0m invalid syntax\n"
     ]
    }
   ],
   "source": [
    "S = ?"
   ]
  },
  {
   "cell_type": "markdown",
   "id": "f4b29b44-e886-43d1-8e38-9345b694f9c1",
   "metadata": {},
   "source": [
    "$$ (L_1, L_2) \\rightarrow \\{True, False\\} \\qquad |L_1| = |L| $$"
   ]
  },
  {
   "cell_type": "markdown",
   "id": "c18415af-f441-4c77-aee0-b195b8b7aaa6",
   "metadata": {},
   "source": [
    "<br>\n",
    "\n",
    "## <b>Bounded PCP</b> "
   ]
  },
  {
   "cell_type": "markdown",
   "id": "32981e55-2c64-4ec3-9bba-f8151506adce",
   "metadata": {},
   "source": [
    "$$ |S| \\leq K \\qquad K \\in \\mathbb{N} $$"
   ]
  },
  {
   "cell_type": "code",
   "execution_count": null,
   "id": "dad839f3-05bf-4ebe-9fc7-ff82f950920b",
   "metadata": {},
   "outputs": [],
   "source": [
    "def bpcp_solver(L1, L2, K):\n",
    "    if correspond(L1, L2):\n",
    "        return True\n",
    "    else:\n",
    "        return False\n",
    "    "
   ]
  },
  {
   "cell_type": "markdown",
   "id": "64795d46-f3de-4c6e-b03e-121361554da7",
   "metadata": {},
   "source": []
  },
  {
   "cell_type": "code",
   "execution_count": null,
   "id": "be8f63f4-43f4-4b39-b4fc-0da8d68492cb",
   "metadata": {},
   "outputs": [],
   "source": []
  },
  {
   "cell_type": "code",
   "execution_count": null,
   "id": "8aec2479-5b2a-491b-bec1-a15502090da4",
   "metadata": {},
   "outputs": [],
   "source": []
  },
  {
   "cell_type": "code",
   "execution_count": null,
   "id": "6b3452bb-fcaf-442d-9762-3464b4a25a4f",
   "metadata": {},
   "outputs": [],
   "source": []
  },
  {
   "cell_type": "code",
   "execution_count": null,
   "id": "15170671-0e5c-469c-8d09-4753cfbf49c4",
   "metadata": {},
   "outputs": [],
   "source": []
  },
  {
   "cell_type": "code",
   "execution_count": null,
   "id": "556b4e75-14f5-4d38-9d26-0a4aecc0a965",
   "metadata": {},
   "outputs": [],
   "source": []
  }
 ],
 "metadata": {
  "kernelspec": {
   "display_name": "Python 3 (ipykernel)",
   "language": "python",
   "name": "python3"
  },
  "language_info": {
   "codemirror_mode": {
    "name": "ipython",
    "version": 3
   },
   "file_extension": ".py",
   "mimetype": "text/x-python",
   "name": "python",
   "nbconvert_exporter": "python",
   "pygments_lexer": "ipython3",
   "version": "3.9.7"
  }
 },
 "nbformat": 4,
 "nbformat_minor": 5
}
