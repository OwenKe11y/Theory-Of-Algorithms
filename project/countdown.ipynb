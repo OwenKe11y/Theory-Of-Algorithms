{
 "cells": [
  {
   "cell_type": "markdown",
   "id": "4dcc9967-ef13-41fd-b89f-80a5c93b1a17",
   "metadata": {},
   "source": [
    "<img src=\"img/countdowntitle.png\" alt=\"countTitle\" style=\"width: 1400px; height: 300px\"/><br>\n",
    "\n",
    "\n"
   ]
  },
  {
   "cell_type": "markdown",
   "id": "18b5ba89-ab23-4f24-acf1-1c6ad965d94d",
   "metadata": {},
   "source": [
    "## <b>Overview and explanation</b>\n",
    "***"
   ]
  },
  {
   "cell_type": "markdown",
   "id": "f4fd6817-9c5a-4860-bed0-8f31ff96dfa1",
   "metadata": {},
   "source": [
    "### <b>What is it?</b>\n",
    "***"
   ]
  },
  {
   "cell_type": "markdown",
   "id": "90ef14ec-c639-4dc3-a045-540b89ef441f",
   "metadata": {},
   "source": [
    "<b>Countdown</b> is a British game show involving word and number tasks originally aired in 1982. Two contestants compete against each other in a series of fifteen rounds, split into three sections, with the contestants alternating turns with each round. One of these sections is the <b>numbers game.</b>"
   ]
  },
  {
   "cell_type": "markdown",
   "id": "310983b6-c15e-45c0-971f-f29a293bb7e7",
   "metadata": {},
   "source": [
    "### <b>The Rules & Aim of the Game</b>\n",
    "***\n",
    "Numbers are chosen by one contestant to make up six randomly chosen numbers. The numbers the contestant may chose are from banks of small and large numbers. Small numbers are between 1 and 10 inclusive, and large numbers are 25, 50, 75, or 100. All large numbers will be different, so at most four large numbers may be chosen. "
   ]
  },
  {
   "cell_type": "markdown",
   "id": "6a9c7511-ce41-4b82-8982-8dce0e3da762",
   "metadata": {},
   "source": [
    "The contestants have to use arithmetic on some or all of the chosen numbers to get as close as possible to a randomly generated three-digit target number. This target number can be any number between 101 and 999. Contestants only have 30-seconds to calculate the target number with the bank of large and small numbers. A number cannot be used twice and fractions are not allowed. Only basic arithmatic operations can be utilised which include addition, substraction, multiplication and division."
   ]
  },
  {
   "cell_type": "code",
   "execution_count": 6,
   "id": "e9eb4b95-c358-4722-adc1-ef8ba7900be8",
   "metadata": {
    "jupyter": {
     "source_hidden": true
    },
    "tags": []
   },
   "outputs": [
    {
     "data": {
      "text/html": [
       "\n",
       "        <iframe\n",
       "            width=\"400\"\n",
       "            height=\"300\"\n",
       "            src=\"https://www.youtube.com/embed/CGmo4Yb8dhE?t=146\"\n",
       "            frameborder=\"0\"\n",
       "            allowfullscreen\n",
       "        ></iframe>\n",
       "        "
      ],
      "text/plain": [
       "<IPython.lib.display.YouTubeVideo at 0x202c5177c10>"
      ]
     },
     "metadata": {},
     "output_type": "display_data"
    }
   ],
   "source": [
    "from IPython.display import YouTubeVideo\n",
    "video = YouTubeVideo(\"CGmo4Yb8dhE?t=146\")\n",
    "display(video)"
   ]
  },
  {
   "cell_type": "markdown",
   "id": "b9b3fdbd-fa91-406f-8b02-8d76cae59f8d",
   "metadata": {},
   "source": [
    "The following video gives an insight as to how the Countdown number games operates on the show."
   ]
  },
  {
   "cell_type": "markdown",
   "id": "46e7415b-27b3-4db2-b63f-e28c1f49d04f",
   "metadata": {},
   "source": []
  },
  {
   "cell_type": "code",
   "execution_count": null,
   "id": "8a21e82e-87b8-4d5e-952b-1a35c71fd195",
   "metadata": {},
   "outputs": [],
   "source": []
  },
  {
   "cell_type": "code",
   "execution_count": null,
   "id": "99304ff1-486a-48d4-8099-7e490231fecc",
   "metadata": {},
   "outputs": [],
   "source": []
  },
  {
   "cell_type": "code",
   "execution_count": null,
   "id": "229f3b21-a689-48ff-bab9-4f1e25f3e8fa",
   "metadata": {},
   "outputs": [],
   "source": []
  },
  {
   "cell_type": "code",
   "execution_count": null,
   "id": "ac4f47a4-4cac-45d7-b559-cfca6b8ae655",
   "metadata": {},
   "outputs": [],
   "source": []
  },
  {
   "cell_type": "code",
   "execution_count": null,
   "id": "4248ddc1-7287-4b16-8c48-b1ffc31e68e2",
   "metadata": {},
   "outputs": [],
   "source": []
  },
  {
   "cell_type": "code",
   "execution_count": null,
   "id": "d640a031-f70f-47a2-ac6b-83a13f7ae52f",
   "metadata": {},
   "outputs": [],
   "source": []
  },
  {
   "cell_type": "code",
   "execution_count": null,
   "id": "3db34973-b98d-4460-8b82-a2e0f3c463a1",
   "metadata": {},
   "outputs": [],
   "source": []
  },
  {
   "cell_type": "markdown",
   "id": "b3b340f8-fc81-425f-821c-cdaa4c3bf611",
   "metadata": {},
   "source": [
    "## <b>Discussion of the complexity</b>\n",
    "***"
   ]
  },
  {
   "cell_type": "code",
   "execution_count": null,
   "id": "dff8d653-2d3f-460c-94fd-52feeb46ed24",
   "metadata": {},
   "outputs": [],
   "source": []
  },
  {
   "cell_type": "code",
   "execution_count": null,
   "id": "9983382c-ab1b-40c6-bc51-2d82b3d597ec",
   "metadata": {},
   "outputs": [],
   "source": []
  },
  {
   "cell_type": "code",
   "execution_count": null,
   "id": "f0c2d0b4-d05d-4f2f-97da-681404c2d9c9",
   "metadata": {},
   "outputs": [],
   "source": []
  },
  {
   "cell_type": "code",
   "execution_count": null,
   "id": "c4bd0e8c-1cac-4828-b84d-da04421d35a7",
   "metadata": {},
   "outputs": [],
   "source": []
  },
  {
   "cell_type": "code",
   "execution_count": null,
   "id": "d0f8c790-5804-4444-8ea1-ffe93a940a6e",
   "metadata": {},
   "outputs": [],
   "source": []
  },
  {
   "cell_type": "code",
   "execution_count": null,
   "id": "219b3f50-1355-4022-a79a-1357a18122b4",
   "metadata": {},
   "outputs": [],
   "source": []
  },
  {
   "cell_type": "markdown",
   "id": "e3ec1bc4-7639-4281-8596-bd45e0b83850",
   "metadata": {},
   "source": [
    "## <b>Python function, written in a functional programming style </b>\n",
    "***\n",
    "### The function should take a list of six numbers and a target number and return a method to calculate the target from the numbers, if it exists."
   ]
  },
  {
   "cell_type": "code",
   "execution_count": null,
   "id": "dc141c4b-5616-498c-a368-98e10dfddcaa",
   "metadata": {},
   "outputs": [],
   "source": []
  },
  {
   "cell_type": "code",
   "execution_count": null,
   "id": "5786cddf-2f89-4e4e-8ed2-451c11360f7d",
   "metadata": {},
   "outputs": [],
   "source": []
  },
  {
   "cell_type": "code",
   "execution_count": null,
   "id": "603b1159-d8a0-4ebd-9f00-a651d6bdf313",
   "metadata": {},
   "outputs": [],
   "source": []
  },
  {
   "cell_type": "code",
   "execution_count": null,
   "id": "087b4464-f866-455c-b107-a2510d74ae89",
   "metadata": {},
   "outputs": [],
   "source": []
  },
  {
   "cell_type": "code",
   "execution_count": null,
   "id": "48606906-24ba-4200-91b2-54baa53d8ae2",
   "metadata": {},
   "outputs": [],
   "source": []
  },
  {
   "cell_type": "code",
   "execution_count": null,
   "id": "d9339d21-52a3-4605-8ce2-fc09c058bbe4",
   "metadata": {},
   "outputs": [],
   "source": []
  },
  {
   "cell_type": "code",
   "execution_count": null,
   "id": "9652c5fc-43e8-497d-a6a0-3e0d62ca59da",
   "metadata": {},
   "outputs": [],
   "source": []
  },
  {
   "cell_type": "code",
   "execution_count": null,
   "id": "46932b0d-33fd-4571-9690-05bd7c771c92",
   "metadata": {},
   "outputs": [],
   "source": []
  },
  {
   "cell_type": "code",
   "execution_count": null,
   "id": "80a7eccd-e1e7-42fc-832a-cffefc9c7ec6",
   "metadata": {},
   "outputs": [],
   "source": []
  },
  {
   "cell_type": "code",
   "execution_count": null,
   "id": "61ac7e87-67d6-43a0-ad23-f17b73954cfb",
   "metadata": {},
   "outputs": [],
   "source": []
  },
  {
   "cell_type": "markdown",
   "id": "495df40d-0b57-422f-a1e4-b9786cf39ddc",
   "metadata": {},
   "source": [
    "## <b>Explanation of the functional aspects of your code</b>\n",
    "***"
   ]
  },
  {
   "cell_type": "code",
   "execution_count": null,
   "id": "626b526d-eb05-4d93-9327-a6de93eb5be7",
   "metadata": {},
   "outputs": [],
   "source": []
  },
  {
   "cell_type": "code",
   "execution_count": null,
   "id": "040c509a-115c-4915-ac2d-ad5acb540a7b",
   "metadata": {},
   "outputs": [],
   "source": []
  },
  {
   "cell_type": "code",
   "execution_count": null,
   "id": "58651d6e-687d-4244-a2de-5fc5d901714c",
   "metadata": {},
   "outputs": [],
   "source": []
  },
  {
   "cell_type": "code",
   "execution_count": null,
   "id": "d7ffa256-a01f-45d0-9304-2d95015bddd8",
   "metadata": {},
   "outputs": [],
   "source": []
  },
  {
   "cell_type": "code",
   "execution_count": null,
   "id": "f5feaf12-8c60-437b-bb7c-96ac7a650db5",
   "metadata": {},
   "outputs": [],
   "source": []
  },
  {
   "cell_type": "code",
   "execution_count": null,
   "id": "74ebdb1b-03d9-45f7-99fe-d89df9a86379",
   "metadata": {},
   "outputs": [],
   "source": []
  },
  {
   "cell_type": "code",
   "execution_count": null,
   "id": "d0c6ea3b-14bb-41bb-a0d0-05afce8e005b",
   "metadata": {},
   "outputs": [],
   "source": []
  },
  {
   "cell_type": "code",
   "execution_count": null,
   "id": "681c8ee0-706a-4cf8-9439-6e969ec4659c",
   "metadata": {},
   "outputs": [],
   "source": []
  },
  {
   "cell_type": "markdown",
   "id": "b7d16c05-7e1f-4b2d-bdbc-4bf29f06ed96",
   "metadata": {},
   "source": [
    "## <b>Resources</b>\n",
    "***"
   ]
  },
  {
   "cell_type": "markdown",
   "id": "997d9fbb-3da2-4d8a-8069-cd06c366397b",
   "metadata": {},
   "source": [
    "#### <b>Countdown Wiki</b>\n",
    "\n",
    "https://en.wikipedia.org/wiki/Countdown_(game_show)\n",
    "\n",
    "https://british-game-show.fandom.com/wiki/Countdown\n"
   ]
  },
  {
   "cell_type": "code",
   "execution_count": null,
   "id": "86ba8cd9-1264-42d0-823f-4eab69aa7b51",
   "metadata": {},
   "outputs": [],
   "source": []
  }
 ],
 "metadata": {
  "kernelspec": {
   "display_name": "Python 3",
   "language": "python",
   "name": "python3"
  },
  "language_info": {
   "codemirror_mode": {
    "name": "ipython",
    "version": 3
   },
   "file_extension": ".py",
   "mimetype": "text/x-python",
   "name": "python",
   "nbconvert_exporter": "python",
   "pygments_lexer": "ipython3",
   "version": "3.8.8"
  }
 },
 "nbformat": 4,
 "nbformat_minor": 5
}
