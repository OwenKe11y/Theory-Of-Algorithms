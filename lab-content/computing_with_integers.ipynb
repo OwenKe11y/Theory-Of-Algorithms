{
 "cells": [
  {
   "cell_type": "markdown",
   "id": "acf6d8e1-43da-49b5-9581-12c2b7431229",
   "metadata": {},
   "source": [
    "# <b>Computing with the Integers\n",
    "***"
   ]
  },
  {
   "cell_type": "code",
   "execution_count": 1,
   "id": "d098bd9e-1e23-472c-8445-0787d002a441",
   "metadata": {},
   "outputs": [],
   "source": [
    "def double(i):\n",
    "    return 2 * i"
   ]
  },
  {
   "cell_type": "code",
   "execution_count": 2,
   "id": "1f58c7ee-e478-4e7a-ad49-7182772d3021",
   "metadata": {},
   "outputs": [],
   "source": [
    "eg_list_of_inputs = [-9, -8, -7, -6, -5, -4, -3, -2, -1, 0, 1, 2, 3, 4, 5, 6, 7, 8, 9]"
   ]
  },
  {
   "cell_type": "code",
   "execution_count": 3,
   "id": "0bca20e6-c06d-4e7c-9a6a-105c951b166d",
   "metadata": {},
   "outputs": [
    {
     "data": {
      "text/plain": [
       "[-18, -16, -14, -12, -10, -8, -6, -4, -2, 0, 2, 4, 6, 8, 10, 12, 14, 16, 18]"
      ]
     },
     "execution_count": 3,
     "metadata": {},
     "output_type": "execute_result"
    }
   ],
   "source": [
    "eg_list_of_outputs = list(map(double, eg_list_of_inputs))\n",
    "eg_list_of_outputs"
   ]
  },
  {
   "cell_type": "code",
   "execution_count": 5,
   "id": "dba33ef1-ece5-4f24-abe8-d962ed5bfb23",
   "metadata": {},
   "outputs": [
    {
     "name": "stdout",
     "output_type": "stream",
     "text": [
      " -9 -> -18\n",
      " -8 -> -16\n",
      " -7 -> -14\n",
      " -6 -> -12\n",
      " -5 -> -10\n",
      " -4 ->  -8\n",
      " -3 ->  -6\n",
      " -2 ->  -4\n",
      " -1 ->  -2\n",
      "  0 ->   0\n",
      "  1 ->   2\n",
      "  2 ->   4\n",
      "  3 ->   6\n",
      "  4 ->   8\n",
      "  5 ->  10\n",
      "  6 ->  12\n",
      "  7 ->  14\n",
      "  8 ->  16\n",
      "  9 ->  18\n"
     ]
    }
   ],
   "source": [
    "for i in range(-9, 10):\n",
    "    print(f'{i:3} -> {double(i):3}')"
   ]
  },
  {
   "cell_type": "markdown",
   "id": "631271d4-8e0f-4b11-a033-9c91c3d13e36",
   "metadata": {},
   "source": [
    "<br>\n",
    "\n",
    "$ f: \\mathbb{Z} \\rightarrow 2 \\mathbb{Z}$\n",
    "\n",
    "$ \\mathbb{Z} = \\{ \\ldots, -2, -1, 0, 1, 2, \\ldots \\}$\n",
    "\n",
    "$ 2 \\mathbb{Z} = \\{ \\ldots, -2, 0, 2, \\ldots \\}$\n",
    "\n",
    "$2 \\mathbb {Z} \\subset 2 \\mathbb{Z} $\n",
    "\n",
    "$ | \\mathbb{Z} | $ is $ \\aleph_0 $\n"
   ]
  },
  {
   "cell_type": "markdown",
   "id": "d3f3a6bf-7db7-4360-8282-d03fc35baaf8",
   "metadata": {},
   "source": [
    "# <b>The Integers and the Reals\n",
    "***"
   ]
  },
  {
   "cell_type": "markdown",
   "id": "a7242a21-3b39-446a-9e76-88fca294f437",
   "metadata": {},
   "source": [
    "$ \\mathbb{N}_0 = \\{0, 1, 2, 3, \\ldots \\}$\n",
    "\n",
    "$ | \\mathbb{N}_0 | $ is $ \\aleph_0 $\n",
    "\n",
    "$0 \\rightarrow 0$\n",
    "\n",
    "$1 \\rightarrow -1$\n",
    "\n",
    "$2 \\rightarrow 1$\n",
    "\n",
    "$3 \\rightarrow -2$\n",
    "\n",
    "$4 \\rightarrow 2$\n",
    "\n",
    "$\\ldots$"
   ]
  },
  {
   "cell_type": "code",
   "execution_count": 6,
   "id": "7988cd45-65b6-44cc-9448-133ed9a35fe8",
   "metadata": {},
   "outputs": [
    {
     "name": "stdout",
     "output_type": "stream",
     "text": [
      " 0 -> 0.02318459066533740121...\n",
      " 1 -> 0.10544808891623547176...\n",
      " 2 -> 0.22238925976598833412...\n",
      " 3 -> 0.79956602405431254077...\n",
      " 4 -> 0.50647809672489541022...\n",
      " 5 -> 0.30779930880738848309...\n",
      " 6 -> 0.68780734406182686413...\n",
      " 7 -> 0.41295209870274407482...\n",
      " 8 -> 0.54908835088204110964...\n",
      " 9 -> 0.64877613782032550471...\n",
      "and so on\n"
     ]
    }
   ],
   "source": [
    "import random\n",
    "\n",
    "for n in range(10):\n",
    "    print(f'{n:2} -> {random.random():0.20f}...')\n",
    "print('and so on')"
   ]
  },
  {
   "cell_type": "markdown",
   "id": "b9a07919-65b7-40f4-846e-805d73b6124d",
   "metadata": {},
   "source": [
    "$ \\mathbb{N}_0 = \\{0, 1, 2, 3, \\ldots \\}$\n",
    "\n",
    "$\\mathbf{P} (\\mathbb{N}_0) = \\{ \\{\\}, \\{0\\}, \\{1\\}, \\{2\\}, \\{3\\}, \\ldots \\{0,1\\} \\ldots \\}$\n",
    "\n",
    "$|\\mathbf{P} (\\mathbb{N}_0)| $ is $ \\aleph_1 $"
   ]
  },
  {
   "cell_type": "code",
   "execution_count": null,
   "id": "2bf17830-3b83-4c45-8883-11e584bc91a8",
   "metadata": {},
   "outputs": [],
   "source": []
  },
  {
   "cell_type": "code",
   "execution_count": null,
   "id": "816007db-aa01-4029-885a-89059bc4256a",
   "metadata": {},
   "outputs": [],
   "source": []
  }
 ],
 "metadata": {
  "kernelspec": {
   "display_name": "Python 3",
   "language": "python",
   "name": "python3"
  },
  "language_info": {
   "codemirror_mode": {
    "name": "ipython",
    "version": 3
   },
   "file_extension": ".py",
   "mimetype": "text/x-python",
   "name": "python",
   "nbconvert_exporter": "python",
   "pygments_lexer": "ipython3",
   "version": "3.8.8"
  }
 },
 "nbformat": 4,
 "nbformat_minor": 5
}
