{
 "cells": [
  {
   "cell_type": "markdown",
   "id": "72583767-dfc3-44e1-93a2-f6d3f6dfafc5",
   "metadata": {},
   "source": [
    "# <b> The Post Correspondence Problem\n",
    "***"
   ]
  },
  {
   "cell_type": "markdown",
   "id": "6c66e4f5-9091-4e0c-86b6-fc5f813397b8",
   "metadata": {},
   "source": [
    "## <b>Definition and explanation of the Post Correspondence Problem.\n",
    "***"
   ]
  },
  {
   "cell_type": "markdown",
   "id": "b2c1565a-fb04-4b4f-a920-46f050628271",
   "metadata": {},
   "source": [
    "### <b>With Tuples</b>\n",
    "***"
   ]
  },
  {
   "cell_type": "code",
   "execution_count": 3,
   "id": "0ad94e0c-9851-4fdd-815e-7f0d153094a1",
   "metadata": {},
   "outputs": [],
   "source": [
    "# Alphabet for strings: a set\n",
    "A = {'a', 'b'}"
   ]
  },
  {
   "cell_type": "code",
   "execution_count": 4,
   "id": "62d31ad0-87ff-4df0-818f-14b0c20081c8",
   "metadata": {},
   "outputs": [],
   "source": [
    "# Tuple lists\n",
    "L1 = (('a',), ('a','b'), ('b','b','a'))\n",
    "L2 = (('b','a','a'), ('a','a'), ('b','b'))"
   ]
  },
  {
   "cell_type": "code",
   "execution_count": 5,
   "id": "73dd6c14-1aae-4591-b4fd-431af3f40bb1",
   "metadata": {},
   "outputs": [
    {
     "data": {
      "text/plain": [
       "(('a',), ('a', 'b'), ('b', 'b', 'a'))"
      ]
     },
     "execution_count": 5,
     "metadata": {},
     "output_type": "execute_result"
    }
   ],
   "source": [
    "L1"
   ]
  },
  {
   "cell_type": "code",
   "execution_count": 1,
   "id": "43a85b54-26d7-4c3f-954c-3d9ff7aee64b",
   "metadata": {},
   "outputs": [
    {
     "data": {
      "text/plain": [
       "'bbaabbbaa'"
      ]
     },
     "execution_count": 1,
     "metadata": {},
     "output_type": "execute_result"
    }
   ],
   "source": [
    "L2"
   ]
  },
  {
   "cell_type": "code",
   "execution_count": 6,
   "id": "b375250e-fd78-4f4a-a5f8-f39bfbe53409",
   "metadata": {},
   "outputs": [],
   "source": [
    "# A proposed solution\n",
    "S = (2, 1, 2, 0)"
   ]
  },
  {
   "cell_type": "markdown",
   "id": "a813569c-a093-4fa1-85e3-faf500554a36",
   "metadata": {},
   "source": [
    "So, ```L1``` corresponds to ```L2```"
   ]
  },
  {
   "cell_type": "code",
   "execution_count": 7,
   "id": "4aff1a91-7d2e-42fd-bc95-f244624ccff9",
   "metadata": {},
   "outputs": [],
   "source": [
    "# Apply the proposed solution to the tuple\n",
    "def apply(S, L):\n",
    "    S_on_L = [''.join(L[i]) for i in S]\n",
    "    return ''.join(S_on_L)"
   ]
  },
  {
   "cell_type": "code",
   "execution_count": 8,
   "id": "d1a826eb-7333-4518-b280-168b3642a62a",
   "metadata": {},
   "outputs": [
    {
     "data": {
      "text/plain": [
       "'bbaabbbaa'"
      ]
     },
     "execution_count": 8,
     "metadata": {},
     "output_type": "execute_result"
    }
   ],
   "source": [
    "# Apply S to L1\n",
    "apply(S, L1)"
   ]
  },
  {
   "cell_type": "code",
   "execution_count": 9,
   "id": "1b98a6d4-5079-43a6-a414-e2aded524922",
   "metadata": {},
   "outputs": [
    {
     "data": {
      "text/plain": [
       "'bbaabbbaa'"
      ]
     },
     "execution_count": 9,
     "metadata": {},
     "output_type": "execute_result"
    }
   ],
   "source": [
    "# Apply S to L1\n",
    "apply(S, L2)"
   ]
  },
  {
   "cell_type": "code",
   "execution_count": 10,
   "id": "4277ff87-7060-4974-a8d1-da19ec2cee84",
   "metadata": {},
   "outputs": [
    {
     "data": {
      "text/plain": [
       "True"
      ]
     },
     "execution_count": 10,
     "metadata": {},
     "output_type": "execute_result"
    }
   ],
   "source": [
    "# Get Python to check if the proposed solution is a solution\n",
    "apply(S, L1) == apply(S, L2)"
   ]
  },
  {
   "cell_type": "code",
   "execution_count": 11,
   "id": "2af9c27e-1f52-459b-b573-ad9e30cd3840",
   "metadata": {},
   "outputs": [
    {
     "data": {
      "text/plain": [
       "'bbaabbbaabbaabbbaa'"
      ]
     },
     "execution_count": 11,
     "metadata": {},
     "output_type": "execute_result"
    }
   ],
   "source": [
    "# Another solution - there are infinitely many\n",
    "apply((2,1,2,0,2,1,2,0), L1)"
   ]
  },
  {
   "cell_type": "code",
   "execution_count": 12,
   "id": "b0c52a45-a82a-4472-b545-87098b1d1651",
   "metadata": {},
   "outputs": [
    {
     "data": {
      "text/plain": [
       "'bbaabbbaabbaabbbaa'"
      ]
     },
     "execution_count": 12,
     "metadata": {},
     "output_type": "execute_result"
    }
   ],
   "source": [
    "apply([2,1,2,0,2,1,2,0], L2)"
   ]
  },
  {
   "cell_type": "markdown",
   "id": "e7ba721f-fdf2-4e2e-b784-17eaf049bdfb",
   "metadata": {},
   "source": [
    "### <b>No Correspondence</b>\n",
    "***"
   ]
  },
  {
   "cell_type": "code",
   "execution_count": 13,
   "id": "d401820e-c4d0-49a6-bec3-a7d34872b533",
   "metadata": {},
   "outputs": [],
   "source": [
    "# List 1\n",
    "L1 = (('a','b'), ('b','b','a'))\n",
    "# List 2\n",
    "L2 = (('a','a'), ('b','b'))"
   ]
  },
  {
   "cell_type": "code",
   "execution_count": 14,
   "id": "c12e37f0-2817-43b8-958c-76187014f88a",
   "metadata": {},
   "outputs": [],
   "source": [
    "#S = ?"
   ]
  },
  {
   "cell_type": "code",
   "execution_count": 15,
   "id": "3f7ac589-e329-4ea1-9807-3daaa4dc7caa",
   "metadata": {},
   "outputs": [],
   "source": [
    "# possibles = ((0,), (1,), (0,0), (0, 1), (1, 0), (1,1), (0,0,0), (0,0,1), (0,1,0)..."
   ]
  },
  {
   "cell_type": "code",
   "execution_count": null,
   "id": "871c1416-2b15-4331-b126-fe3017520a2a",
   "metadata": {},
   "outputs": [],
   "source": []
  },
  {
   "cell_type": "markdown",
   "id": "b84e6f35-21f5-4501-a5ce-735decf13df1",
   "metadata": {},
   "source": [
    "## <b>Definition and explanation of the Bounded Post Correspondence Problem.\n",
    "***"
   ]
  },
  {
   "cell_type": "code",
   "execution_count": null,
   "id": "9ac55be7-b240-4c05-b915-a5ecb8b87052",
   "metadata": {},
   "outputs": [],
   "source": []
  },
  {
   "cell_type": "code",
   "execution_count": null,
   "id": "913c429a-fab1-4d51-82e7-f4b10ffc4be8",
   "metadata": {},
   "outputs": [],
   "source": []
  },
  {
   "cell_type": "code",
   "execution_count": null,
   "id": "00a7d6bf-e745-45e4-9030-5d3035ec8c03",
   "metadata": {},
   "outputs": [],
   "source": []
  },
  {
   "cell_type": "code",
   "execution_count": null,
   "id": "b82cff11-a4de-440b-af5a-9d2243a58d61",
   "metadata": {},
   "outputs": [],
   "source": []
  },
  {
   "cell_type": "code",
   "execution_count": null,
   "id": "bc8ad513-2295-4c52-9488-645985769311",
   "metadata": {},
   "outputs": [],
   "source": []
  },
  {
   "cell_type": "markdown",
   "id": "c8916bce-1b39-4506-a8be-ea71ee145304",
   "metadata": {},
   "source": [
    "## <b>Solve the Bounded Post Correspondence Problem</b>\n",
    "***\n",
    "\n",
    "### The function should take two lists of strings and return True if they correspond, False otherwise.\n",
    "\n",
    "$$ |S| \\leq K \\qquad K \\in \\mathbb{N} $$"
   ]
  },
  {
   "cell_type": "code",
   "execution_count": 16,
   "id": "ade850f5-a52e-48e9-b569-f5597f3b6e2e",
   "metadata": {},
   "outputs": [],
   "source": [
    "# Write a solver for the bounded version.\n",
    "def bpcp_solver(L1, L2, K):\n",
    "    if correspond(L1, L2, K):\n",
    "        return True\n",
    "    else:\n",
    "        return False\n",
    "\n",
    "# Correspond needs to state whether a solution S of max length K exists.\n",
    "def correspond(L1, L2, K):\n",
    "    # Your algorithm here.\n",
    "    return True if solution else False"
   ]
  },
  {
   "cell_type": "code",
   "execution_count": null,
   "id": "d5b60b4f-f9d3-4175-a1fc-b5966bcc807f",
   "metadata": {},
   "outputs": [],
   "source": []
  },
  {
   "cell_type": "code",
   "execution_count": null,
   "id": "ff47c70e-b9a2-416e-a398-7d9e9f1444ed",
   "metadata": {},
   "outputs": [],
   "source": []
  },
  {
   "cell_type": "code",
   "execution_count": null,
   "id": "a2092f08-3f06-426e-876a-9ccd4085b5e7",
   "metadata": {},
   "outputs": [],
   "source": []
  },
  {
   "cell_type": "code",
   "execution_count": null,
   "id": "ffc9443f-0c0d-4add-8f17-86201a5f6871",
   "metadata": {},
   "outputs": [],
   "source": []
  },
  {
   "cell_type": "markdown",
   "id": "11e9c8a2-bccf-47de-ac58-6ff8f1c5a32a",
   "metadata": {},
   "source": [
    "## <b>Explanation of what an undecidable problem is</b>\n",
    "***\n",
    "### with reference to the Post Correspondence Problem."
   ]
  },
  {
   "cell_type": "code",
   "execution_count": null,
   "id": "85efcf2e-453d-45d3-ab7a-57ca95fe530a",
   "metadata": {},
   "outputs": [],
   "source": []
  },
  {
   "cell_type": "code",
   "execution_count": null,
   "id": "ec7d76b0-2e35-4257-858d-4f470a91f35a",
   "metadata": {},
   "outputs": [],
   "source": []
  },
  {
   "cell_type": "code",
   "execution_count": null,
   "id": "9d0ffedd-124d-4ff7-bed5-8b32e9d1d064",
   "metadata": {},
   "outputs": [],
   "source": []
  },
  {
   "cell_type": "code",
   "execution_count": null,
   "id": "ce16430d-013a-4199-aa01-b6f2230a0241",
   "metadata": {},
   "outputs": [],
   "source": []
  },
  {
   "cell_type": "code",
   "execution_count": null,
   "id": "449c8cad-7dc7-4df7-ad23-31b1c4fa1d2a",
   "metadata": {},
   "outputs": [],
   "source": []
  },
  {
   "cell_type": "markdown",
   "id": "1714230e-a853-4cce-baf1-d8dd5b3ea4dd",
   "metadata": {},
   "source": []
  }
 ],
 "metadata": {
  "kernelspec": {
   "display_name": "Python 3",
   "language": "python",
   "name": "python3"
  },
  "language_info": {
   "codemirror_mode": {
    "name": "ipython",
    "version": 3
   },
   "file_extension": ".py",
   "mimetype": "text/x-python",
   "name": "python",
   "nbconvert_exporter": "python",
   "pygments_lexer": "ipython3",
   "version": "3.8.8"
  }
 },
 "nbformat": 4,
 "nbformat_minor": 5
}
