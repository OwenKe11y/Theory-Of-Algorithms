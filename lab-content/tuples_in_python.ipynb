{
 "cells": [
  {
   "cell_type": "markdown",
   "id": "4a5557ad-3908-4481-beb7-80175fa276ee",
   "metadata": {},
   "source": [
    "# <b>Tuples in Python<b>\n",
    "***"
   ]
  },
  {
   "cell_type": "code",
   "execution_count": 1,
   "id": "0e801950-2191-4ab9-876b-5e8f350cf312",
   "metadata": {},
   "outputs": [
    {
     "data": {
      "text/plain": [
       "[1, 2, 3]"
      ]
     },
     "execution_count": 1,
     "metadata": {},
     "output_type": "execute_result"
    }
   ],
   "source": [
    "# List\n",
    "[1,2,3]"
   ]
  },
  {
   "cell_type": "code",
   "execution_count": 2,
   "id": "0e6fc844-8729-4429-a88f-2458f329b855",
   "metadata": {},
   "outputs": [
    {
     "data": {
      "text/plain": [
       "list"
      ]
     },
     "execution_count": 2,
     "metadata": {},
     "output_type": "execute_result"
    }
   ],
   "source": [
    "# list\n",
    "type([1,2,3])"
   ]
  },
  {
   "cell_type": "code",
   "execution_count": 3,
   "id": "b785bba4-e992-4a7c-855f-56b959386944",
   "metadata": {},
   "outputs": [
    {
     "data": {
      "text/plain": [
       "(1, 2, 3)"
      ]
     },
     "execution_count": 3,
     "metadata": {},
     "output_type": "execute_result"
    }
   ],
   "source": [
    "# Tuple\n",
    "(1,2,3)"
   ]
  },
  {
   "cell_type": "code",
   "execution_count": 4,
   "id": "e567e4ec-aead-4983-bc12-77fe831c7974",
   "metadata": {},
   "outputs": [
    {
     "data": {
      "text/plain": [
       "tuple"
      ]
     },
     "execution_count": 4,
     "metadata": {},
     "output_type": "execute_result"
    }
   ],
   "source": [
    "type((1,2,3))"
   ]
  },
  {
   "cell_type": "code",
   "execution_count": 5,
   "id": "b6b0e3e0-8a82-49e0-9d0f-404bce05a91b",
   "metadata": {},
   "outputs": [],
   "source": [
    "# Create a list\n",
    "l = [1,2,3]\n",
    "# Reassign an element \n",
    "l[1] = 4"
   ]
  },
  {
   "cell_type": "code",
   "execution_count": 6,
   "id": "6665b78b-2f57-4177-b69d-8abd35b49dd9",
   "metadata": {},
   "outputs": [
    {
     "data": {
      "text/plain": [
       "[1, 4, 3]"
      ]
     },
     "execution_count": 6,
     "metadata": {},
     "output_type": "execute_result"
    }
   ],
   "source": [
    "# The element is reassigned \n",
    "l"
   ]
  },
  {
   "cell_type": "code",
   "execution_count": 7,
   "id": "30056afa-fe08-43fb-b6b5-2d14753f2021",
   "metadata": {},
   "outputs": [],
   "source": [
    "# Create a tuple\n",
    "t = (1,2,3)"
   ]
  },
  {
   "cell_type": "code",
   "execution_count": 8,
   "id": "cd259c33-b0dd-4d6f-aaab-035868a6bebf",
   "metadata": {},
   "outputs": [],
   "source": [
    "# Try to reassign a tuple\n",
    "# t[1]= 4\n",
    "# Won't work."
   ]
  },
  {
   "cell_type": "code",
   "execution_count": 9,
   "id": "e7ff954f-37ad-4691-8fd6-d257c1560e3d",
   "metadata": {},
   "outputs": [],
   "source": [
    "# Can't hash a list\n",
    "# hash(l)\n",
    "# Gives an error"
   ]
  },
  {
   "cell_type": "code",
   "execution_count": 10,
   "id": "32277a95-980f-4e8b-b114-43d568f6991d",
   "metadata": {},
   "outputs": [
    {
     "data": {
      "text/plain": [
       "529344067295497451"
      ]
     },
     "execution_count": 10,
     "metadata": {},
     "output_type": "execute_result"
    }
   ],
   "source": [
    "# Can hash a tuple\n",
    "hash(t)"
   ]
  },
  {
   "cell_type": "code",
   "execution_count": 11,
   "id": "f915de79-2219-48ff-9f51-747302af5791",
   "metadata": {},
   "outputs": [
    {
     "data": {
      "text/plain": [
       "'0x7589b9fe71bcceb'"
      ]
     },
     "execution_count": 11,
     "metadata": {},
     "output_type": "execute_result"
    }
   ],
   "source": [
    "# Usual output from a hash function is in hex\n",
    "hex(hash(t))"
   ]
  },
  {
   "cell_type": "code",
   "execution_count": 12,
   "id": "4705e235-0e8b-4ed6-9416-b277bd23b7fc",
   "metadata": {},
   "outputs": [],
   "source": [
    "# You can use tuples as dictionary keys.\n",
    "D = {(1,2,3):3, (1,2):2}"
   ]
  },
  {
   "cell_type": "code",
   "execution_count": 13,
   "id": "8bc21332-7cc1-4b1f-ba57-d4dadb128134",
   "metadata": {},
   "outputs": [
    {
     "data": {
      "text/plain": [
       "3"
      ]
     },
     "execution_count": 13,
     "metadata": {},
     "output_type": "execute_result"
    }
   ],
   "source": [
    "D[(1,2,3)]"
   ]
  },
  {
   "cell_type": "code",
   "execution_count": 14,
   "id": "ddae0887-083b-44ae-94e0-ef2bea589345",
   "metadata": {},
   "outputs": [],
   "source": [
    "# You cant use lists as dictionary keys.\n",
    "# D = {[1,2,3]:3, [1,2]:2}\n"
   ]
  },
  {
   "cell_type": "code",
   "execution_count": 15,
   "id": "8936cac8-f336-453d-be53-6642b1f316b0",
   "metadata": {},
   "outputs": [],
   "source": [
    "# Tuples can be used for assignment - you don't have to use round brackets\n",
    "a,b = 1,2"
   ]
  },
  {
   "cell_type": "code",
   "execution_count": 16,
   "id": "23ea556d-5164-43af-b9ba-b33ff2e22336",
   "metadata": {},
   "outputs": [
    {
     "data": {
      "text/plain": [
       "1"
      ]
     },
     "execution_count": 16,
     "metadata": {},
     "output_type": "execute_result"
    }
   ],
   "source": [
    "a"
   ]
  },
  {
   "cell_type": "code",
   "execution_count": 17,
   "id": "fa701626-e7cb-4ab1-a7e1-68f9982fd1a3",
   "metadata": {},
   "outputs": [
    {
     "data": {
      "text/plain": [
       "2"
      ]
     },
     "execution_count": 17,
     "metadata": {},
     "output_type": "execute_result"
    }
   ],
   "source": [
    "b"
   ]
  },
  {
   "cell_type": "code",
   "execution_count": 18,
   "id": "cf2810c7-b5c8-4cb2-bacb-13b5651c13ac",
   "metadata": {},
   "outputs": [
    {
     "data": {
      "text/plain": [
       "{1, 2, 3}"
      ]
     },
     "execution_count": 18,
     "metadata": {},
     "output_type": "execute_result"
    }
   ],
   "source": [
    "# Some contexts require the round brackets\n",
    "set((1,2,3))"
   ]
  },
  {
   "cell_type": "code",
   "execution_count": 19,
   "id": "1e2b3e97-a92b-43de-b1c8-0f11f94700cf",
   "metadata": {},
   "outputs": [],
   "source": [
    "# Some contexts require the round brackets\n",
    "# set(1,2,3)"
   ]
  },
  {
   "cell_type": "code",
   "execution_count": null,
   "id": "508f9ac5-03f0-4545-8a36-f472902fb255",
   "metadata": {},
   "outputs": [],
   "source": []
  }
 ],
 "metadata": {
  "kernelspec": {
   "display_name": "Python 3 (ipykernel)",
   "language": "python",
   "name": "python3"
  },
  "language_info": {
   "codemirror_mode": {
    "name": "ipython",
    "version": 3
   },
   "file_extension": ".py",
   "mimetype": "text/x-python",
   "name": "python",
   "nbconvert_exporter": "python",
   "pygments_lexer": "ipython3",
   "version": "3.9.7"
  }
 },
 "nbformat": 4,
 "nbformat_minor": 5
}
