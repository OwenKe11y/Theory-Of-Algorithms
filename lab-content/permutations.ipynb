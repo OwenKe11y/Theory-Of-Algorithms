{
 "cells": [
  {
   "cell_type": "code",
   "execution_count": 1,
   "id": "4d212a3e-0ef2-412d-a784-dea7215cc709",
   "metadata": {},
   "outputs": [],
   "source": [
    "# A list of five (distinct) elements.\n",
    "L = [1, 2, 3, 4, 5]"
   ]
  },
  {
   "cell_type": "code",
   "execution_count": 2,
   "id": "51ac2954-062a-47a2-ae2d-78e4e531c207",
   "metadata": {},
   "outputs": [],
   "source": [
    "# A permutation of the list L.\n",
    "M = [2, 1, 3, 4, 5]"
   ]
  },
  {
   "cell_type": "code",
   "execution_count": 3,
   "id": "da754fba-841e-4dc9-a84d-c6cf6f2d72d6",
   "metadata": {},
   "outputs": [],
   "source": [
    "# Another permutation.\n",
    "N = [5, 2, 1, 3, 4]"
   ]
  },
  {
   "cell_type": "markdown",
   "id": "136be781-de2b-4d4f-b235-9ddfcb923f6c",
   "metadata": {},
   "source": [
    "## How many permutations are there?\n",
    "\n",
    "***"
   ]
  },
  {
   "cell_type": "markdown",
   "id": "4e428ba3-560e-4dac-8136-e6bfc60ce1f8",
   "metadata": {},
   "source": [
    "Suppose we have five blank spaces in which to put the elements of L.\n",
    "\n",
    "      _ _ _ _ _ \n",
    "In the first position, we can put any of the five elements.\n",
    "\n",
    "\n",
    "e.g. 3 _ _ _ _ \n",
    "\n",
    "\n",
    "If we put 3 in the first position, then we have four elements remaining\n",
    "to choose from for the second position.\n",
    "\n",
    "\n",
    "e.g. 3 5 _ _ _\n",
    "\n",
    "\n",
    "Then we have three elements left, and so on.\n",
    "So, there are five choices for the first position.\n",
    "For each of those choices there are four different choices for the second position.\n",
    "Then for the third position there are three choices for each of those.\n",
    "And so on.\n",
    "\n"
   ]
  },
  {
   "cell_type": "code",
   "execution_count": 5,
   "id": "0b09eedb-6f3b-4c8d-bb20-a04e686dd8be",
   "metadata": {},
   "outputs": [
    {
     "data": {
      "text/plain": [
       "120"
      ]
     },
     "execution_count": 5,
     "metadata": {},
     "output_type": "execute_result"
    }
   ],
   "source": [
    "# Number of permutations of 5 elements is:\n",
    "5*4*3*2*1"
   ]
  },
  {
   "cell_type": "code",
   "execution_count": 6,
   "id": "9d72e01f-b348-4628-b328-717bbf58c8d2",
   "metadata": {},
   "outputs": [
    {
     "data": {
      "text/plain": [
       "720"
      ]
     },
     "execution_count": 6,
     "metadata": {},
     "output_type": "execute_result"
    }
   ],
   "source": [
    "# Number of permutations of 6 elements:\n",
    "6*5*4*3*2*1"
   ]
  },
  {
   "cell_type": "code",
   "execution_count": 7,
   "id": "c4b2acd2-2cf7-41c9-9ffc-f4063b739b46",
   "metadata": {},
   "outputs": [
    {
     "data": {
      "text/plain": [
       "3628800"
      ]
     },
     "execution_count": 7,
     "metadata": {},
     "output_type": "execute_result"
    }
   ],
   "source": [
    "# The number of permutations grows as n factorial as the length of a list of length n grows.\n",
    "import math\n",
    "\n",
    "# For ten elements.\n",
    "math.factorial(10)"
   ]
  },
  {
   "cell_type": "code",
   "execution_count": 8,
   "id": "b9410cdb-c7a1-4de1-a338-4e404b30dedd",
   "metadata": {},
   "outputs": [
    {
     "data": {
      "text/plain": [
       "93326215443944152681699238856266700490715968264381621468592963895217599993229915608941463976156518286253697920827223758251185210916864000000000000000000000000"
      ]
     },
     "execution_count": 8,
     "metadata": {},
     "output_type": "execute_result"
    }
   ],
   "source": [
    "# For one hundred elements.\n",
    "math.factorial(100)"
   ]
  },
  {
   "cell_type": "code",
   "execution_count": 9,
   "id": "8a126ac0-f952-43ed-aa4d-b2c3f35afa6f",
   "metadata": {},
   "outputs": [
    {
     "data": {
      "image/png": "[encoded data removed]",
      "text/plain": [
       "<Figure size 1008x432 with 1 Axes>"
      ]
     },
     "metadata": {
      "needs_background": "light"
     },
     "output_type": "display_data"
    }
   ],
   "source": [
    "# A picture of the factorial function for perspective.\n",
    "import matplotlib.pyplot as plt\n",
    "import numpy as np\n",
    "import scipy.special as sm\n",
    "\n",
    "plt.rcParams['figure.figsize'] = (14, 6)\n",
    "\n",
    "x = np.linspace(1.0, 10.0, 1000)\n",
    "y0 = 3*x\n",
    "y1 = x**3\n",
    "y2 = 3**x\n",
    "y3 = sm.factorial(x)\n",
    "\n",
    "plt.plot(x, y0, label='$3x$')\n",
    "plt.plot(x, y1, label='$x^3$')\n",
    "plt.plot(x, y2, label='$3^x$')\n",
    "plt.plot(x, y3, label='$x!$')\n",
    "\n",
    "plt.legend()\n",
    "plt.show()\n"
   ]
  },
  {
   "cell_type": "markdown",
   "id": "0228d8b5-5a95-44b4-94aa-697152bc3528",
   "metadata": {},
   "source": [
    "## What algorithms are there to generate permutations?\n",
    "\n",
    "***"
   ]
  },
  {
   "cell_type": "code",
   "execution_count": 11,
   "id": "f5590d30-c7fd-4f8c-a8dd-c2f93e6efbde",
   "metadata": {},
   "outputs": [
    {
     "data": {
      "text/plain": [
       "[]"
      ]
     },
     "execution_count": 11,
     "metadata": {},
     "output_type": "execute_result"
    }
   ],
   "source": [
    "# All permutations of zero elements list.\n",
    "[]"
   ]
  },
  {
   "cell_type": "code",
   "execution_count": 12,
   "id": "a69bc04e-ce53-4400-8337-01f1bf991f0a",
   "metadata": {},
   "outputs": [
    {
     "data": {
      "text/plain": [
       "[1]"
      ]
     },
     "execution_count": 12,
     "metadata": {},
     "output_type": "execute_result"
    }
   ],
   "source": [
    "# All permutations of one elements list.\n",
    "[1]"
   ]
  },
  {
   "cell_type": "code",
   "execution_count": 13,
   "id": "0cd2541e-2dcf-4980-b691-186e0ceaac72",
   "metadata": {},
   "outputs": [
    {
     "data": {
      "text/plain": [
       "[1, 2]"
      ]
     },
     "execution_count": 13,
     "metadata": {},
     "output_type": "execute_result"
    }
   ],
   "source": [
    "# All the possible permutations of two elements.\n",
    "[2, 1]\n",
    "[1, 2]"
   ]
  },
  {
   "cell_type": "code",
   "execution_count": 14,
   "id": "948f4984-bc19-4692-b4f5-ffeb2d772fa4",
   "metadata": {},
   "outputs": [
    {
     "data": {
      "text/plain": [
       "[1, 2, 3]"
      ]
     },
     "execution_count": 14,
     "metadata": {},
     "output_type": "execute_result"
    }
   ],
   "source": [
    "# All the possible permutations of three elements.\n",
    "[3, 2, 1]\n",
    "[2, 3, 1]\n",
    "[2, 1, 3]\n",
    "[3, 1, 2]\n",
    "[1, 3, 2]\n",
    "[1, 2, 3]"
   ]
  },
  {
   "cell_type": "markdown",
   "id": "d40e203b-caf8-4762-95a2-a87aae4903e7",
   "metadata": {},
   "source": [
    "## <b>itertools</b>\n",
    "***"
   ]
  },
  {
   "cell_type": "code",
   "execution_count": 15,
   "id": "86bf9ea8-d923-4f6c-888e-cfe6acc53642",
   "metadata": {},
   "outputs": [],
   "source": [
    "# From the Python Standard Library.\n",
    "import itertools as it\n"
   ]
  },
  {
   "cell_type": "code",
   "execution_count": 16,
   "id": "c911f382-6fef-4d17-abce-7d880eeed26a",
   "metadata": {},
   "outputs": [
    {
     "name": "stdout",
     "output_type": "stream",
     "text": [
      "(1, 2, 3)\n",
      "(1, 3, 2)\n",
      "(2, 1, 3)\n",
      "(2, 3, 1)\n",
      "(3, 1, 2)\n",
      "(3, 2, 1)\n"
     ]
    }
   ],
   "source": [
    "# All permutations of the list [1,2,3].\n",
    "for p in it.permutations([1, 2, 3]):\n",
    "  print(p)"
   ]
  },
  {
   "cell_type": "code",
   "execution_count": 17,
   "id": "388b9642-020c-4117-b139-d449b4d14ca8",
   "metadata": {},
   "outputs": [
    {
     "name": "stdout",
     "output_type": "stream",
     "text": [
      "(1, 2, 3, 4, 5, 6, 7)\n"
     ]
    }
   ],
   "source": [
    "# A terrible sorting algorithm - O(n!).\n",
    "# Search for the sorted permutation of 7 element list.\n",
    "for p in it.permutations([7, 2, 1, 6, 4, 5, 3]):\n",
    "  # Check if permutation is sorted.\n",
    "  if p[0] <= p[1] and p[1] <= p[2] and p[2] <= p[3] and p[3] <= p[4] and p[4] <= p[5] and p[5] <= p[6]:\n",
    "    # Print the permutation.\n",
    "    print(p)"
   ]
  },
  {
   "cell_type": "markdown",
   "id": "5146f633-c3e2-4064-998d-40c993364f9a",
   "metadata": {},
   "source": [
    "## Further Reading\n",
    "\n",
    "- https://docs.python.org/3/library/itertools.html\n",
    "- https://realpython.com/introduction-to-python-generators/\n",
    "- https://realpython.com/python-itertools/"
   ]
  }
 ],
 "metadata": {
  "kernelspec": {
   "display_name": "Python 3",
   "language": "python",
   "name": "python3"
  },
  "language_info": {
   "codemirror_mode": {
    "name": "ipython",
    "version": 3
   },
   "file_extension": ".py",
   "mimetype": "text/x-python",
   "name": "python",
   "nbconvert_exporter": "python",
   "pygments_lexer": "ipython3",
   "version": "3.8.8"
  }
 },
 "nbformat": 4,
 "nbformat_minor": 5
}
