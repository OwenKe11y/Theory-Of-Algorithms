{
 "cells": [
  {
   "cell_type": "markdown",
   "id": "4dcc9967-ef13-41fd-b89f-80a5c93b1a17",
   "metadata": {},
   "source": [
    "<img src=\"img/countdowntitle.png\" alt=\"countTitle\" style=\"width: 1400px; height: 300px\"/><br>\n",
    "\n",
    "\n"
   ]
  },
  {
   "cell_type": "markdown",
   "id": "18b5ba89-ab23-4f24-acf1-1c6ad965d94d",
   "metadata": {},
   "source": [
    "## <b>Overview and explanation</b>\n",
    "***"
   ]
  },
  {
   "cell_type": "markdown",
   "id": "f4fd6817-9c5a-4860-bed0-8f31ff96dfa1",
   "metadata": {},
   "source": [
    "### <b>What is it?</b>\n",
    "***"
   ]
  },
  {
   "cell_type": "markdown",
   "id": "90ef14ec-c639-4dc3-a045-540b89ef441f",
   "metadata": {},
   "source": [
    "<b>Countdown</b> is a British game show involving word and number tasks originally aired in 1982. Two contestants compete against each other in a series of fifteen rounds, split into three sections, with the contestants alternating turns with each round. One of these sections is the <b>numbers game.</b>"
   ]
  },
  {
   "cell_type": "markdown",
   "id": "310983b6-c15e-45c0-971f-f29a293bb7e7",
   "metadata": {},
   "source": [
    "### <b>Aim of the Game</b>\n",
    "***\n",
    "Numbers are chosen by one contestant to make up six randomly chosen numbers. The numbers the contestant may chose are from banks of small and large numbers. In the small bank, there are twenty numbers; two each of the numbers 1-10. In the large number bank there are four numbers: 25, 50, 75, and 100. The contestant selects as many numbers as desired at random from the large set which could be none or all four. The remaining spaces will be populated from the small bank to create six numbers in total."
   ]
  },
  {
   "cell_type": "markdown",
   "id": "6a9c7511-ce41-4b82-8982-8dce0e3da762",
   "metadata": {},
   "source": [
    "The contestants have to use arithmetic on some or all of the chosen numbers to get as close as possible to a randomly generated three-digit target number. This target number can be any number between 101 and 999. Contestants only have 30-seconds to calculate the target number with the 6 selected numbers."
   ]
  },
  {
   "cell_type": "markdown",
   "id": "614c52ae-8c1c-44c1-bf22-254174ca6f0a",
   "metadata": {
    "tags": []
   },
   "source": [
    "### <b>The Rules</b>\n",
    "***\n",
    "The rules of the game are as follows:\n",
    "<ul>\n",
    "  <li>A number cannot be used twice in the calculation.</li>\n",
    "  <li>Fractions are not allowed.</li>\n",
    "     <li>Only basic arithmatic operations can be utilised. These include: \n",
    "        <ul>\n",
    "            <li>addition</li>\n",
    "            <li>substraction</li>\n",
    "            <li>multiplication</li>\n",
    "            <li>division</li>\n",
    "        </ul>\n",
    "    </li>\n",
    "  <li>Concatenation of numbers is not allowed.</li>\n",
    "  <li>At no point can a calculation become negative.</li>\n",
    "  <li>The solution <b>is not</b> required to utilise every number from the selected numbers.</li>\n",
    "   \n",
    "</ul> "
   ]
  },
  {
   "cell_type": "markdown",
   "id": "b9b3fdbd-fa91-406f-8b02-8d76cae59f8d",
   "metadata": {
    "tags": [
     "hide-input"
    ]
   },
   "source": [
    "The following video gives an insight as to how the Countdown number game operates on the show."
   ]
  },
  {
   "cell_type": "code",
   "execution_count": 1,
   "id": "e9eb4b95-c358-4722-adc1-ef8ba7900be8",
   "metadata": {
    "tags": [
     "hide-cell"
    ]
   },
   "outputs": [
    {
     "data": {
      "text/html": [
       "\n",
       "        <iframe\n",
       "            width=\"560\"\n",
       "            height=\"315\"\n",
       "            src=\"https://www.youtube.com/embed/CGmo4Yb8dhE?start=74\"\n",
       "            frameborder=\"0\"\n",
       "            allowfullscreen\n",
       "        ></iframe>\n",
       "        "
      ],
      "text/plain": [
       "<IPython.lib.display.IFrame at 0x26eda8a4a00>"
      ]
     },
     "execution_count": 1,
     "metadata": {},
     "output_type": "execute_result"
    }
   ],
   "source": [
    "from IPython.display import IFrame\n",
    "IFrame(src='https://www.youtube.com/embed/CGmo4Yb8dhE?start=74', width='560', height='315')"
   ]
  },
  {
   "cell_type": "markdown",
   "id": "18275606-7572-4ddf-8bcb-76432d1d7e8f",
   "metadata": {},
   "source": [
    "###### Alternate link for the video with timestamp [here](https://www.youtube.com/embed/CGmo4Yb8dhE?start=74)"
   ]
  },
  {
   "cell_type": "markdown",
   "id": "46e7415b-27b3-4db2-b63f-e28c1f49d04f",
   "metadata": {},
   "source": [
    "## <b>Discussion of the Complexity</b>\n",
    "***"
   ]
  },
  {
   "cell_type": "markdown",
   "id": "3e91f51f-8af6-4055-ade5-cae3a1e052a0",
   "metadata": {
    "tags": []
   },
   "source": [
    "In order to create a solver for the Countdown numbers game, it must first be understood the number of possible combinations of solutions that can be achieved when solving the game. "
   ]
  },
  {
   "cell_type": "markdown",
   "id": "9b24662d-d328-4ec0-b786-38a9dfe5f932",
   "metadata": {},
   "source": [
    "Consider the following set of six random numbers:"
   ]
  },
  {
   "cell_type": "code",
   "execution_count": 2,
   "id": "c3a9e47f-9ba1-476e-b140-dfa865fc9c19",
   "metadata": {},
   "outputs": [],
   "source": [
    "# An example list of six numbers.\n",
    "numbers = [100, 75, 10, 4, 2, 1]"
   ]
  },
  {
   "cell_type": "markdown",
   "id": "d54190dd-111d-45cb-82c0-9d3e6b412e91",
   "metadata": {},
   "source": [
    "This set of numbers represents the tiles that were given at the start of the game. This will be called the <b>game board</b>. In order to reach the target number we need to make a set of all the basic arithmatic operators that can be utilised, these being addition, substraction, multiplication and division:"
   ]
  },
  {
   "cell_type": "code",
   "execution_count": 3,
   "id": "4ef3f50d-86a4-44b4-96fb-c372eebed09f",
   "metadata": {},
   "outputs": [],
   "source": [
    "# List of the basic arithmatic operators\n",
    "operators = ['+', '*', '-', '/']"
   ]
  },
  {
   "cell_type": "markdown",
   "id": "89b30301-62d7-4fd0-8a88-4e5c8d759bc1",
   "metadata": {},
   "source": [
    "With these, we can start to work towards the target number <b>325</b>. In the worst case scenerio, the number of tiles used to find the solution can be 6, and therefor the number of operators that can be used is 5. An example solution would be the following:"
   ]
  },
  {
   "cell_type": "code",
   "execution_count": 4,
   "id": "0b24eee1-b458-4911-b612-cb55b06f5834",
   "metadata": {
    "scrolled": true,
    "tags": []
   },
   "outputs": [
    {
     "name": "stdout",
     "output_type": "stream",
     "text": [
      "infix expression:  100 + 75 * (10 - (4 + (2 + 1)))\n"
     ]
    }
   ],
   "source": [
    "# An example solution\n",
    "solution = \"100 + 75 * (10 - (4 + (2 + 1)))\"\n",
    "\n",
    "# method for converting infix to postfix notation: adapted from https://cppsecrets.com/users/2582658986657266505064717765737646677977/INFIX-TO-POSTFIX-CONVERSION-USING-STACK.php\n",
    "ops = ['+', '-', '*', '/', '(', ')', '^']  # set of operators\n",
    "priority = {'+':1, '-':1, '*':2, '/':2, '^':3} # dictionary having priorities \n",
    "\n",
    "def infix_to_postfix(expression): #input expression\n",
    "    stack = [] # initially stack empty\n",
    "    output = '' # initially output empty\n",
    "    \n",
    "    for ch in expression:\n",
    "        if ch not in ops:  # if an operand then put it directly in postfix expression\n",
    "            output+= ch\n",
    "        elif ch=='(':  # else operators should be put in stack\n",
    "            stack.append('(')\n",
    "        elif ch==')':\n",
    "            while stack and stack[-1]!= '(':\n",
    "                output+=stack.pop()\n",
    "            stack.pop()\n",
    "        else:\n",
    "            # lesser priority can't be on top on higher or equal priority    \n",
    "             # so pop and put in output   \n",
    "            while stack and stack[-1]!='(' and priority[ch]<=priority[stack[-1]]:\n",
    "                output+=stack.pop()\n",
    "            stack.append(ch)\n",
    "    while stack:\n",
    "        output+=stack.pop()\n",
    "    return output\n",
    "\n",
    " \n",
    "\n",
    "expression = solution\n",
    "print('infix expression: ',expression)"
   ]
  },
  {
   "cell_type": "markdown",
   "id": "ca835ff5-f81a-403b-8aac-85593e7acf94",
   "metadata": {},
   "source": [
    "Converted to reverse polish notation, that gives us a solution of: "
   ]
  },
  {
   "cell_type": "code",
   "execution_count": 5,
   "id": "5f7e647d-e493-4715-a9d9-3ab007a99b0e",
   "metadata": {},
   "outputs": [
    {
     "name": "stdout",
     "output_type": "stream",
     "text": [
      "postfix expression:  100  75  10  4  2  1++-*+\n"
     ]
    }
   ],
   "source": [
    "print('postfix expression: ',infix_to_postfix(expression))"
   ]
  },
  {
   "cell_type": "markdown",
   "id": "0b01da63-09c7-41fa-b97a-9956fb66cce2",
   "metadata": {},
   "source": [
    "However, this is just one solution using one game board. In order to shuffle the solution the factorial of the number of characters must be identified: \n"
   ]
  },
  {
   "cell_type": "code",
   "execution_count": 6,
   "id": "975f4f15-b487-4916-8f1d-088d3b34fae2",
   "metadata": {},
   "outputs": [
    {
     "data": {
      "text/plain": [
       "39916800"
      ]
     },
     "execution_count": 6,
     "metadata": {},
     "output_type": "execute_result"
    }
   ],
   "source": [
    "import math\n",
    "math.factorial(11)"
   ]
  },
  {
   "cell_type": "markdown",
   "id": "3608803f-2f5c-40e6-8286-76e6ca9c34af",
   "metadata": {},
   "source": [
    "However, this is only shuffling the solution with the same combination of operators. Any combination of operators can be used according to the number game's rules so the number of possible combinations must be identified. The order at which these operators are used is not important, as the characters inside the solution are being shuffled.\n",
    "\n",
    "<img src=\"img/operators.gif\" alt=\"operators\" style=\"width: 700px; height: 400px\"/><br>\n",
    "\n",
    "The true number for this specific solution would be:\n"
   ]
  },
  {
   "cell_type": "code",
   "execution_count": 7,
   "id": "6a7ac3b0-31b1-4bea-a118-f0d652068da0",
   "metadata": {},
   "outputs": [
    {
     "data": {
      "text/plain": [
       "56"
      ]
     },
     "execution_count": 88,
     "metadata": {},
     "output_type": "execute_result"
    }
   ],
   "source": [
    "# From the Python Standard Library.\n",
    "import itertools as it\n",
    "def num_of_sol(num_of_ops):\n",
    "    max_op = 0\n",
    "    # The number of possible operators that can be in a solution\n",
    "    # Find the number of possible combinations of operators that can be applied to a 6 tile solution\n",
    "    for p in it.combinations_with_replacement(operators, num_of_ops):\n",
    "      max_op = max_op+1\n",
    "    return max_op\n",
    "    \n",
    "num_of_sol(5)"
   ]
  },
  {
   "cell_type": "code",
   "execution_count": 14,
   "id": "c4fd4feb-d005-4ea4-863f-f3c730b16352",
   "metadata": {},
   "outputs": [
    {
     "data": {
      "text/plain": [
       "2235340800"
      ]
     },
     "execution_count": 8,
     "metadata": {},
     "output_type": "execute_result"
    }
   ],
   "source": [
    "# Multiply the number of characters by the number of possible operators\n",
    "max_pos = math.factorial(11) * num_of_sol(5)\n",
    "max_pos"
   ]
  },
  {
   "cell_type": "markdown",
   "id": "d2c116c3-86bd-40e8-99be-66716e7b4100",
   "metadata": {},
   "source": [
    "There are <b>two billion, two hundred and thirty-five million, three hundred and forty thousand, eight hundred</b> possible ways you can form the set of numbers using the set of operations into an equation. This is only in the worst case scenerio where all 6 numbers are used. The following is the number of ways if only 5, 4, 3 and 2 numbers were to be used:  "
   ]
  },
  {
   "cell_type": "code",
   "execution_count": 62,
   "id": "253e0b73-9dc8-47c0-80d7-688606a8872c",
   "metadata": {},
   "outputs": [
    {
     "name": "stdout",
     "output_type": "stream",
     "text": [
      "if 3 characters were identified, there would be 1 operator(s) and 4 combinations of operators with a total 24 combinations!\n",
      "if 5 characters were identified, there would be 2 operator(s) and 10 combinations of operators with a total 1200 combinations!\n",
      "if 7 characters were identified, there would be 3 operator(s) and 20 combinations of operators with a total 100800 combinations!\n",
      "if 9 characters were identified, there would be 4 operator(s) and 35 combinations of operators with a total 12700800 combinations!\n",
      "if 11 characters were identified, there would be 5 operator(s) and 56 combinations of operators with a total 2235340800 combinations!\n"
     ]
    }
   ],
   "source": [
    "def comb(d, x):\n",
    "    \"\"\"Find the number of combinations if a number of characters were identified in a postfix expression\"\"\"    \n",
    "    print(\"if\",d,\"characters were identified, there would be\",x,\"operator(s) and\",num_of_sol(x),\"combinations of operators with a total\",math.factorial(d) * num_of_sol(x),\"combinations!\")\n",
    "    math.factorial(d) * num_of_sol(x)\n",
    "\n",
    "# Use zip to iterate through two lists at the same time\n",
    "for x, d in zip(range(1, 6), range(3, 13, 2)):\n",
    "    comb(d, x)\n",
    "   "
   ]
  },
  {
   "cell_type": "markdown",
   "id": "041ae26e-d238-4ee0-a633-bddbc3b7aff8",
   "metadata": {},
   "source": [
    "If we want to consider all possible solutions of any given game board, shuffling the number of characters in the solution with the banks of small and large numbers as well as the different combinations of operators we can use on them would be the solution."
   ]
  },
  {
   "cell_type": "code",
   "execution_count": 71,
   "id": "99304ff1-486a-48d4-8099-7e490231fecc",
   "metadata": {
    "tags": []
   },
   "outputs": [
    {
     "name": "stdout",
     "output_type": "stream",
     "text": [
      "134596\n"
     ]
    }
   ],
   "source": [
    "# Find the number of possible game boards\n",
    "set = [1,1,2,2,3,3,4,4,5,5,6,6,7,7,8,8,9,9,10,10,25,50,75,100]\n",
    "max_set = 0\n",
    "for p in it.combinations(set, 6):\n",
    "  max_set = max_set+1\n",
    "    \n",
    "print(max_set)"
   ]
  },
  {
   "cell_type": "code",
   "execution_count": 11,
   "id": "229f3b21-a689-48ff-bab9-4f1e25f3e8fa",
   "metadata": {
    "tags": []
   },
   "outputs": [
    {
     "data": {
      "text/plain": [
       "300867930316800"
      ]
     },
     "execution_count": 11,
     "metadata": {},
     "output_type": "execute_result"
    }
   ],
   "source": [
    "# Muliply the maximum combinations of operators with the maximum amount of possible game boards \n",
    "max_pos * max_set"
   ]
  },
  {
   "cell_type": "markdown",
   "id": "8b352f0b-a033-42d6-8c2e-3641b4a6afb5",
   "metadata": {
    "tags": []
   },
   "source": [
    "In conclusion, the number solutions you can get from every possible game board <u>using all 6 numbers</u> in the countdown numbers game is <b>three hundred trillion, eight hundred and sixty-seven billion, nine hundred and thirty million, three hundred and sixteen thousand and eight hundred</b>. This puts into perspective just how complex the numbers game actually is. From here, we can construct a program to take in a game board with a random target number and find the solution where its equal to that target number."
   ]
  },
  {
   "cell_type": "markdown",
   "id": "e3ec1bc4-7639-4281-8596-bd45e0b83850",
   "metadata": {},
   "source": [
    "## <b>Python function, Written in a Functional Programming Style</b>\n",
    "***\n",
    "\n",
    "\n",
    "### <b>New Numbers Game Instance</b>\n",
    "\n",
    "Here, a function will be created to launch a new instance of the numbers game that outputs the game board and the target number.  "
   ]
  },
  {
   "cell_type": "code",
   "execution_count": 12,
   "id": "dc141c4b-5616-498c-a368-98e10dfddcaa",
   "metadata": {
    "tags": []
   },
   "outputs": [],
   "source": [
    "# For random nubmers and samples.\n",
    "import random\n",
    "\n",
    "def new_numbers_game(no_large=None):\n",
    "  \"\"\" Returns six numbers and a target number representing a Countdown numbers game.\n",
    "  \"\"\"\n",
    "  # If no_large in None, randomly pick value between 0 and 4 inclusive.\n",
    "  if no_large is None:\n",
    "    # Randomly set the value.\n",
    "    no_large = random.randrange(0, 5)\n",
    "  \n",
    "  # Select random large numbers.\n",
    "  large_rand = random.sample([25, 50, 75, 100], no_large)\n",
    "  # Select random small numbers.\n",
    "  small_rand = random.sample(list(range(1, 11)) * 2, 6 - no_large)\n",
    "  # The playing numbers.\n",
    "  play_nos = large_rand + small_rand\n",
    "\n",
    "  # Select a target number.\n",
    "  target = random.randrange(101, 1000)\n",
    "\n",
    "  # Return the game.\n",
    "  return play_nos, target"
   ]
  },
  {
   "cell_type": "code",
   "execution_count": 13,
   "id": "5786cddf-2f89-4e4e-8ed2-451c11360f7d",
   "metadata": {
    "tags": []
   },
   "outputs": [
    {
     "data": {
      "text/plain": [
       "([50, 5, 5, 9, 4, 9], 273)"
      ]
     },
     "execution_count": 13,
     "metadata": {},
     "output_type": "execute_result"
    }
   ],
   "source": [
    "# Random nubmers game.\n",
    "new_numbers_game()"
   ]
  },
  {
   "cell_type": "markdown",
   "id": "817b0ec5-bc7f-43d2-b426-afe16a2d89dd",
   "metadata": {},
   "source": [
    "These will be our numbers to work with for this instance of the game."
   ]
  },
  {
   "cell_type": "markdown",
   "id": "ce13f48f-6357-410e-861a-13e7b30ba724",
   "metadata": {},
   "source": [
    "### <b>Finding the Solution</b> "
   ]
  },
  {
   "cell_type": "code",
   "execution_count": 64,
   "id": "603b1159-d8a0-4ebd-9f00-a651d6bdf313",
   "metadata": {
    "tags": []
   },
   "outputs": [],
   "source": [
    "# Evaluate RPN expression.\n",
    "def eval_rpn(rpn):\n",
    "  # A stack.\n",
    "  stack = []\n",
    "  # Loop through rpn an item at a time.\n",
    "  for i in rpn:\n",
    "    # Check if it's a number.\n",
    "    if isinstance(i, int):\n",
    "      # Append to the stack.\n",
    "      stack = stack + [i]\n",
    "    else:\n",
    "      # Pop from stack twice.\n",
    "      right = stack[-1]\n",
    "      stack = stack[:-1]\n",
    "      left = stack[-1]\n",
    "      stack = stack[:-1]\n",
    "      # Push operator applied to stack elements.\n",
    "      stack = stack + [i(left, right)]\n",
    "  # Should only be one item on stack.\n",
    "  return stack[0]"
   ]
  },
  {
   "cell_type": "code",
   "execution_count": 72,
   "id": "087b4464-f866-455c-b107-a2510d74ae89",
   "metadata": {
    "tags": []
   },
   "outputs": [],
   "source": [
    "# Give all 2-partitions of a list\n",
    "# where each sublist has  one element.\n",
    "def patterns(numbers, operators):\n",
    "  # Check if there is no way to partition further.\n",
    "  if len(numbers) == 1:\n",
    "    yield numbers\n",
    "  # Loop through all the ways to partition L into two non-empty sublists.\n",
    "  for i in range(1, len(numbers)):\n",
    "    # Slice the list using i.\n",
    "    for left, right in it.product(patterns(numbers[:i], operators[1:i]), patterns(numbers[i:], operators[i:])):\n",
    "      # Yield the next operator applied to the sublists.\n",
    "      yield [*left, *right, operators[0]]"
   ]
  },
  {
   "cell_type": "code",
   "execution_count": 214,
   "id": "48606906-24ba-4200-91b2-54baa53d8ae2",
   "metadata": {
    "tags": []
   },
   "outputs": [
    {
     "name": "stdout",
     "output_type": "stream",
     "text": [
      "no possible solution found\n"
     ]
    }
   ],
   "source": [
    "import operator\n",
    "# An example list of six numbers.\n",
    "numbers = [100, 75, 10, 4, 2, 1]\n",
    "target = 101\n",
    "cnt = 0\n",
    "# Example operators.\n",
    "operators = [operator.add, operator.mul, operator.sub, operator.truediv]\n",
    "# operators = [operator.add, operator.mul, operator.sub, operator.add, operator.add]\n",
    "for i in range(1,6):\n",
    "    i=i+1\n",
    "    for y, z in zip(it.combinations(numbers, i), it.combinations_with_replacement(operators, i-1)):\n",
    "\n",
    "        # Using eval, which mightn't be great.\n",
    "        for num in patterns(y, z):\n",
    "            try:\n",
    "                z = eval_rpn(num)\n",
    "                if isinstance(z, int) and eval_rpn(num) > 0:\n",
    "                    if z == target:\n",
    "                        cnt = cnt+1\n",
    "                        print(\"Success\")\n",
    "                        print(num,\"is the postfix expression equal to\",eval_rpn(num))\n",
    "            except ZeroDivisionError:\n",
    "                z = 0\n",
    "            \n",
    "                \n",
    "\n",
    "if(cnt == 0):\n",
    "    print(\"no possible solution found\")\n",
    "       #print(i,\"is the postfix expression equal to\",eval_rpn(i))\n",
    "        \n"
   ]
  },
  {
   "cell_type": "code",
   "execution_count": 199,
   "id": "d9339d21-52a3-4605-8ce2-fc09c058bbe4",
   "metadata": {
    "tags": []
   },
   "outputs": [
    {
     "name": "stdout",
     "output_type": "stream",
     "text": [
      "(100, 75)\n",
      "(100, 10)\n",
      "(100, 4)\n",
      "(100, 2)\n",
      "(100, 1)\n",
      "(75, 10)\n",
      "(75, 4)\n",
      "(75, 2)\n",
      "(75, 1)\n",
      "(10, 4)\n",
      "(10, 2)\n",
      "(10, 1)\n",
      "(4, 2)\n",
      "(4, 1)\n",
      "(2, 1)\n",
      "(100, 75, 10)\n",
      "(100, 75, 4)\n",
      "(100, 75, 2)\n",
      "(100, 75, 1)\n",
      "(100, 10, 4)\n",
      "(100, 10, 2)\n",
      "(100, 10, 1)\n",
      "(100, 4, 2)\n",
      "(100, 4, 1)\n",
      "(100, 2, 1)\n",
      "(75, 10, 4)\n",
      "(75, 10, 2)\n",
      "(75, 10, 1)\n",
      "(75, 4, 2)\n",
      "(75, 4, 1)\n",
      "(75, 2, 1)\n",
      "(10, 4, 2)\n",
      "(10, 4, 1)\n",
      "(10, 2, 1)\n",
      "(4, 2, 1)\n",
      "(100, 75, 10, 4)\n",
      "(100, 75, 10, 2)\n",
      "(100, 75, 10, 1)\n",
      "(100, 75, 4, 2)\n",
      "(100, 75, 4, 1)\n",
      "(100, 75, 2, 1)\n",
      "(100, 10, 4, 2)\n",
      "(100, 10, 4, 1)\n",
      "(100, 10, 2, 1)\n",
      "(100, 4, 2, 1)\n",
      "(75, 10, 4, 2)\n",
      "(75, 10, 4, 1)\n",
      "(75, 10, 2, 1)\n",
      "(75, 4, 2, 1)\n",
      "(10, 4, 2, 1)\n",
      "(100, 75, 10, 4, 2)\n",
      "(100, 75, 10, 4, 1)\n",
      "(100, 75, 10, 2, 1)\n",
      "(100, 75, 4, 2, 1)\n",
      "(100, 10, 4, 2, 1)\n",
      "(75, 10, 4, 2, 1)\n",
      "(100, 75, 10, 4, 2, 1)\n"
     ]
    }
   ],
   "source": [
    "for i in range(1,6):\n",
    "    i=i+1\n",
    "    for u in it.combinations(numbers, i):\n",
    "        print(u)\n",
    "            "
   ]
  },
  {
   "cell_type": "markdown",
   "id": "b7d16c05-7e1f-4b2d-bdbc-4bf29f06ed96",
   "metadata": {},
   "source": [
    "## <b>Resources</b>\n",
    "***"
   ]
  },
  {
   "cell_type": "markdown",
   "id": "997d9fbb-3da2-4d8a-8069-cd06c366397b",
   "metadata": {},
   "source": [
    "#### <b>Countdown Wiki</b>\n",
    "\n",
    "https://en.wikipedia.org/wiki/Countdown_(game_show)\n",
    "\n",
    "https://british-game-show.fandom.com/wiki/Countdown\n",
    "\n",
    "#### <b>Infix to Postfix</b>\n",
    "\n",
    "https://cppsecrets.com/users/2582658986657266505064717765737646677977/INFIX-TO-POSTFIX-CONVERSION-USING-STACK.php\n",
    "\n",
    "#### <b>Useful video showcasing a brute force algorithm of finding every combination</b>\n",
    "https://www.youtube.com/watch?v=cVMhkqPP2YI\n"
   ]
  }
 ],
 "metadata": {
  "kernelspec": {
   "display_name": "Python 3",
   "language": "python",
   "name": "python3"
  },
  "language_info": {
   "codemirror_mode": {
    "name": "ipython",
    "version": 3
   },
   "file_extension": ".py",
   "mimetype": "text/x-python",
   "name": "python",
   "nbconvert_exporter": "python",
   "pygments_lexer": "ipython3",
   "version": "3.8.8"
  }
 },
 "nbformat": 4,
 "nbformat_minor": 5
}
