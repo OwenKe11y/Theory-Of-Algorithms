{
 "cells": [
  {
   "cell_type": "markdown",
   "id": "4dcc9967-ef13-41fd-b89f-80a5c93b1a17",
   "metadata": {},
   "source": [
    "<img src=\"img/countdowntitle.png\" alt=\"countTitle\" style=\"width: 1400px; height: 300px\"/><br>\n",
    "\n",
    "\n"
   ]
  },
  {
   "cell_type": "markdown",
   "id": "18b5ba89-ab23-4f24-acf1-1c6ad965d94d",
   "metadata": {},
   "source": [
    "## <b>Overview and explanation</b>\n",
    "***"
   ]
  },
  {
   "cell_type": "markdown",
   "id": "f4fd6817-9c5a-4860-bed0-8f31ff96dfa1",
   "metadata": {},
   "source": [
    "### <b>What is it?</b>\n",
    "***"
   ]
  },
  {
   "cell_type": "markdown",
   "id": "90ef14ec-c639-4dc3-a045-540b89ef441f",
   "metadata": {},
   "source": [
    "<b>Countdown</b> is a British game show involving word and number tasks originally aired in 1982. Two contestants compete against each other in a series of fifteen rounds, split into three sections, with the contestants alternating turns with each round. One of these sections is the <b>numbers game.</b>"
   ]
  },
  {
   "cell_type": "markdown",
   "id": "310983b6-c15e-45c0-971f-f29a293bb7e7",
   "metadata": {},
   "source": [
    "### <b>Aim of the Game</b>\n",
    "***\n",
    "Numbers are chosen by one contestant to make up six randomly chosen numbers. The numbers the contestant may chose are from banks of small and large numbers. In the small bank, there are twenty numbers; two each of the numbers 1-10. In the large number bank there are four numbers: 25, 50, 75, and 100. The contestant selects as many numbers as desired at random from the large set which could be none or all four. The remaining spaces will be populated from the small bank to create six numbers in total."
   ]
  },
  {
   "cell_type": "markdown",
   "id": "6a9c7511-ce41-4b82-8982-8dce0e3da762",
   "metadata": {},
   "source": [
    "The contestants have to use arithmetic on some or all of the chosen numbers to get as close as possible to a randomly generated three-digit target number. This target number can be any number between 101 and 999. Contestants only have 30-seconds to calculate the target number with the 6 selected numbers."
   ]
  },
  {
   "cell_type": "markdown",
   "id": "614c52ae-8c1c-44c1-bf22-254174ca6f0a",
   "metadata": {
    "tags": []
   },
   "source": [
    "### <b>The Rules</b>\n",
    "***\n",
    "The rules of the game are as follows:\n",
    "<ul>\n",
    "  <li>A number cannot be used twice in the calculation.</li>\n",
    "  <li>Fractions are not allowed.</li>\n",
    "     <li>Only basic arithmatic operations can be utilised. These include: \n",
    "        <ul>\n",
    "            <li>addition</li>\n",
    "            <li>substraction</li>\n",
    "            <li>multiplication</li>\n",
    "            <li>division</li>\n",
    "        </ul>\n",
    "    </li>\n",
    "  <li>Concatenation of numbers is not allowed.</li>\n",
    "  <li>At no point can a calculation become negative.</li>\n",
    "  <li>The solution <b>is not</b> required to utilise every number from the selected numbers.</li>\n",
    "   \n",
    "</ul> "
   ]
  },
  {
   "cell_type": "code",
   "execution_count": 1,
   "id": "e9eb4b95-c358-4722-adc1-ef8ba7900be8",
   "metadata": {
    "jupyter": {
     "source_hidden": true
    },
    "tags": [
     "hide-cell"
    ]
   },
   "outputs": [
    {
     "name": "stderr",
     "output_type": "stream",
     "text": [
      "C:\\Users\\night\\anaconda3\\lib\\site-packages\\IPython\\core\\display.py:717: UserWarning: Consider using IPython.display.IFrame instead\n",
      "  warnings.warn(\"Consider using IPython.display.IFrame instead\")\n"
     ]
    },
    {
     "data": {
      "text/html": [
       "<iframe width=\"560\" height=\"315\" src=\"https://www.youtube.com/embed/CGmo4Yb8dhE?start=74\" title=\"YouTube video player\" frameborder=\"0\" allow=\"accelerometer; autoplay; clipboard-write; encrypted-media; gyroscope; picture-in-picture\" allowfullscreen></iframe>"
      ],
      "text/plain": [
       "<IPython.core.display.HTML object>"
      ]
     },
     "execution_count": 1,
     "metadata": {},
     "output_type": "execute_result"
    }
   ],
   "source": [
    "from IPython.display import HTML\n",
    "HTML('<iframe width=\"560\" height=\"315\" src=\"https://www.youtube.com/embed/CGmo4Yb8dhE?start=74\" title=\"YouTube video player\" frameborder=\"0\" allow=\"accelerometer; autoplay; clipboard-write; encrypted-media; gyroscope; picture-in-picture\" allowfullscreen></iframe>')"
   ]
  },
  {
   "cell_type": "markdown",
   "id": "b9b3fdbd-fa91-406f-8b02-8d76cae59f8d",
   "metadata": {
    "tags": [
     "hide-input"
    ]
   },
   "source": [
    "The following video gives an insight as to how the Countdown number game operates on the show."
   ]
  },
  {
   "cell_type": "markdown",
   "id": "46e7415b-27b3-4db2-b63f-e28c1f49d04f",
   "metadata": {},
   "source": [
    "## <b>Discussion of the Complexity</b>\n",
    "***"
   ]
  },
  {
   "cell_type": "markdown",
   "id": "3e91f51f-8af6-4055-ade5-cae3a1e052a0",
   "metadata": {
    "tags": []
   },
   "source": [
    "In order to create a solver for the Countdown numbers game, it must first be understood the number of possible combinations of solutions that can be achieved when solving the game. "
   ]
  },
  {
   "cell_type": "markdown",
   "id": "9b24662d-d328-4ec0-b786-38a9dfe5f932",
   "metadata": {},
   "source": [
    "Consider the following set of six random numbers:"
   ]
  },
  {
   "cell_type": "code",
   "execution_count": 2,
   "id": "c3a9e47f-9ba1-476e-b140-dfa865fc9c19",
   "metadata": {},
   "outputs": [],
   "source": [
    "# An example list of six numbers.\n",
    "numbers = [100, 75, 10, 4, 2, 1]"
   ]
  },
  {
   "cell_type": "markdown",
   "id": "d54190dd-111d-45cb-82c0-9d3e6b412e91",
   "metadata": {},
   "source": [
    "This set of numbers represents the tiles that were given at the start of the game. This will be called the <b>game board</b>. In order to reach the target number we need to make a set of all the basic arithmatic operators that can be utilised, these being addition, substraction, multiplication and division:"
   ]
  },
  {
   "cell_type": "code",
   "execution_count": 3,
   "id": "4ef3f50d-86a4-44b4-96fb-c372eebed09f",
   "metadata": {},
   "outputs": [],
   "source": [
    "# List of the basic arithmatic operators\n",
    "L = ['+', '-', '*', '/']"
   ]
  },
  {
   "cell_type": "markdown",
   "id": "89b30301-62d7-4fd0-8a88-4e5c8d759bc1",
   "metadata": {},
   "source": [
    "With these, we can start to work towards the target number <b>325</b>. In the worst case scenerio, the number of tiles used to find the solution can be 6, and therefor the number of operators that can be used is 5. An example solution would be the following:"
   ]
  },
  {
   "cell_type": "code",
   "execution_count": 4,
   "id": "0b24eee1-b458-4911-b612-cb55b06f5834",
   "metadata": {},
   "outputs": [
    {
     "data": {
      "text/plain": [
       "325"
      ]
     },
     "execution_count": 4,
     "metadata": {},
     "output_type": "execute_result"
    }
   ],
   "source": [
    "# An example solution\n",
    "100 + 75 * (10 - (4 + (2 + 1)))"
   ]
  },
  {
   "cell_type": "markdown",
   "id": "ca835ff5-f81a-403b-8aac-85593e7acf94",
   "metadata": {},
   "source": [
    "Converted to reverse polish notation, that gives us a solution of:"
   ]
  },
  {
   "cell_type": "markdown",
   "id": "0b01da63-09c7-41fa-b97a-9956fb66cce2",
   "metadata": {},
   "source": [
    "### 100 75 10 4 2 1 + + - * +\n",
    "\n",
    "However, this is just one solution using one game board. In order to shuffle the solution the factorial of the number of characters must be identified: \n"
   ]
  },
  {
   "cell_type": "code",
   "execution_count": 5,
   "id": "975f4f15-b487-4916-8f1d-088d3b34fae2",
   "metadata": {},
   "outputs": [
    {
     "data": {
      "text/plain": [
       "39916800"
      ]
     },
     "execution_count": 5,
     "metadata": {},
     "output_type": "execute_result"
    }
   ],
   "source": [
    "import math\n",
    "math.factorial(11)"
   ]
  },
  {
   "cell_type": "markdown",
   "id": "3608803f-2f5c-40e6-8286-76e6ca9c34af",
   "metadata": {},
   "source": [
    "However, this is only shuffling the solution with the same combination of operators. Any combination of operators can be used according to the number game's rules so the number of possible combinations must be identified. The order at which these operators are used is not important, as the characters inside the solution are being shuffled.\n",
    "\n",
    "<img src=\"img/operators.gif\" alt=\"operators\" style=\"width: 700px; height: 400px\"/><br>\n",
    "\n",
    "The true number for this specific solution would be:\n"
   ]
  },
  {
   "cell_type": "code",
   "execution_count": 16,
   "id": "6a7ac3b0-31b1-4bea-a118-f0d652068da0",
   "metadata": {},
   "outputs": [
    {
     "name": "stdout",
     "output_type": "stream",
     "text": [
      "56\n"
     ]
    }
   ],
   "source": [
    "# From the Python Standard Library.\n",
    "import itertools as it\n",
    "max_op = 0\n",
    "\n",
    "# Find the number of possible combinations of operators that can be applied to a 6 tile solution\n",
    "for p in it.combinations_with_replacement(L, 5):\n",
    "  max_op = max_op+1\n",
    "    \n",
    "print(max_op)"
   ]
  },
  {
   "cell_type": "code",
   "execution_count": 17,
   "id": "c4fd4feb-d005-4ea4-863f-f3c730b16352",
   "metadata": {},
   "outputs": [
    {
     "data": {
      "text/plain": [
       "2235340800"
      ]
     },
     "execution_count": 17,
     "metadata": {},
     "output_type": "execute_result"
    }
   ],
   "source": [
    "# Multiply the number of characters by the number of possible operators\n",
    "max_pos = math.factorial(11) * max_op\n",
    "max_pos"
   ]
  },
  {
   "cell_type": "markdown",
   "id": "d2c116c3-86bd-40e8-99be-66716e7b4100",
   "metadata": {},
   "source": [
    "There are <b>two billion, two hundred and thirty-five million, three hundred and forty thousand, eight hundred</b> possible ways you can form the set of numbers using the set of operations into an equation.  \n",
    "If we want to consider all possible solutions of any given game board, shuffling the number of characters in the solution with the banks of small and large numbers as well as the different combinations of operators we can use on them would be the solution."
   ]
  },
  {
   "cell_type": "code",
   "execution_count": 18,
   "id": "99304ff1-486a-48d4-8099-7e490231fecc",
   "metadata": {
    "tags": []
   },
   "outputs": [
    {
     "name": "stdout",
     "output_type": "stream",
     "text": [
      "134596\n"
     ]
    }
   ],
   "source": [
    "# Find the number of possible game boards\n",
    "\n",
    "set = [1,1,2,2,3,3,4,4,5,5,6,6,7,7,8,8,9,9,10,10,25,50,75,100]\n",
    "max_set = 0\n",
    "for p in it.combinations(set, 6):\n",
    "  max_set = max_set+1\n",
    "    \n",
    "print(max_set)"
   ]
  },
  {
   "cell_type": "code",
   "execution_count": 19,
   "id": "229f3b21-a689-48ff-bab9-4f1e25f3e8fa",
   "metadata": {
    "tags": []
   },
   "outputs": [
    {
     "data": {
      "text/plain": [
       "300867930316800"
      ]
     },
     "execution_count": 19,
     "metadata": {},
     "output_type": "execute_result"
    }
   ],
   "source": [
    "# Muliply the maximum combinations of operators with the maximum amount of possible game boards \n",
    "max_pos * max_set"
   ]
  },
  {
   "cell_type": "markdown",
   "id": "8b352f0b-a033-42d6-8c2e-3641b4a6afb5",
   "metadata": {
    "tags": []
   },
   "source": [
    "In conclusion, the number solutions you can get from every possible game board in the countdown numbers game is <b>three hundred trillion, eight hundred and sixty-seven billion, nine hundred and thirty million, three hundred and sixteen thousand and eight hundred</b>. "
   ]
  },
  {
   "cell_type": "markdown",
   "id": "b3b340f8-fc81-425f-821c-cdaa4c3bf611",
   "metadata": {},
   "source": []
  },
  {
   "cell_type": "code",
   "execution_count": null,
   "id": "dff8d653-2d3f-460c-94fd-52feeb46ed24",
   "metadata": {
    "tags": []
   },
   "outputs": [],
   "source": []
  },
  {
   "cell_type": "code",
   "execution_count": null,
   "id": "9983382c-ab1b-40c6-bc51-2d82b3d597ec",
   "metadata": {
    "tags": []
   },
   "outputs": [],
   "source": []
  },
  {
   "cell_type": "code",
   "execution_count": null,
   "id": "f0c2d0b4-d05d-4f2f-97da-681404c2d9c9",
   "metadata": {
    "tags": []
   },
   "outputs": [],
   "source": []
  },
  {
   "cell_type": "code",
   "execution_count": null,
   "id": "c4bd0e8c-1cac-4828-b84d-da04421d35a7",
   "metadata": {
    "tags": []
   },
   "outputs": [],
   "source": []
  },
  {
   "cell_type": "code",
   "execution_count": null,
   "id": "d0f8c790-5804-4444-8ea1-ffe93a940a6e",
   "metadata": {
    "tags": []
   },
   "outputs": [],
   "source": []
  },
  {
   "cell_type": "code",
   "execution_count": null,
   "id": "219b3f50-1355-4022-a79a-1357a18122b4",
   "metadata": {
    "tags": []
   },
   "outputs": [],
   "source": []
  },
  {
   "cell_type": "markdown",
   "id": "e3ec1bc4-7639-4281-8596-bd45e0b83850",
   "metadata": {},
   "source": [
    "## <b>Python function, written in a functional programming style </b>\n",
    "***\n",
    "### The function should take a list of six numbers and a target number and return a method to calculate the target from the numbers, if it exists."
   ]
  },
  {
   "cell_type": "code",
   "execution_count": null,
   "id": "dc141c4b-5616-498c-a368-98e10dfddcaa",
   "metadata": {
    "tags": []
   },
   "outputs": [],
   "source": []
  },
  {
   "cell_type": "code",
   "execution_count": null,
   "id": "5786cddf-2f89-4e4e-8ed2-451c11360f7d",
   "metadata": {
    "tags": []
   },
   "outputs": [],
   "source": []
  },
  {
   "cell_type": "code",
   "execution_count": null,
   "id": "603b1159-d8a0-4ebd-9f00-a651d6bdf313",
   "metadata": {
    "tags": []
   },
   "outputs": [],
   "source": []
  },
  {
   "cell_type": "code",
   "execution_count": null,
   "id": "087b4464-f866-455c-b107-a2510d74ae89",
   "metadata": {
    "tags": []
   },
   "outputs": [],
   "source": []
  },
  {
   "cell_type": "code",
   "execution_count": null,
   "id": "48606906-24ba-4200-91b2-54baa53d8ae2",
   "metadata": {
    "tags": []
   },
   "outputs": [],
   "source": []
  },
  {
   "cell_type": "code",
   "execution_count": null,
   "id": "d9339d21-52a3-4605-8ce2-fc09c058bbe4",
   "metadata": {
    "tags": []
   },
   "outputs": [],
   "source": []
  },
  {
   "cell_type": "code",
   "execution_count": null,
   "id": "9652c5fc-43e8-497d-a6a0-3e0d62ca59da",
   "metadata": {
    "tags": []
   },
   "outputs": [],
   "source": []
  },
  {
   "cell_type": "code",
   "execution_count": null,
   "id": "46932b0d-33fd-4571-9690-05bd7c771c92",
   "metadata": {
    "tags": []
   },
   "outputs": [],
   "source": []
  },
  {
   "cell_type": "code",
   "execution_count": null,
   "id": "80a7eccd-e1e7-42fc-832a-cffefc9c7ec6",
   "metadata": {
    "tags": []
   },
   "outputs": [],
   "source": []
  },
  {
   "cell_type": "code",
   "execution_count": null,
   "id": "61ac7e87-67d6-43a0-ad23-f17b73954cfb",
   "metadata": {
    "tags": []
   },
   "outputs": [],
   "source": []
  },
  {
   "cell_type": "markdown",
   "id": "495df40d-0b57-422f-a1e4-b9786cf39ddc",
   "metadata": {},
   "source": [
    "## <b>Explanation of the functional aspects of your code</b>\n",
    "***"
   ]
  },
  {
   "cell_type": "code",
   "execution_count": null,
   "id": "626b526d-eb05-4d93-9327-a6de93eb5be7",
   "metadata": {
    "tags": []
   },
   "outputs": [],
   "source": []
  },
  {
   "cell_type": "code",
   "execution_count": null,
   "id": "040c509a-115c-4915-ac2d-ad5acb540a7b",
   "metadata": {
    "tags": []
   },
   "outputs": [],
   "source": []
  },
  {
   "cell_type": "code",
   "execution_count": null,
   "id": "58651d6e-687d-4244-a2de-5fc5d901714c",
   "metadata": {
    "tags": []
   },
   "outputs": [],
   "source": []
  },
  {
   "cell_type": "code",
   "execution_count": null,
   "id": "d7ffa256-a01f-45d0-9304-2d95015bddd8",
   "metadata": {
    "tags": []
   },
   "outputs": [],
   "source": []
  },
  {
   "cell_type": "code",
   "execution_count": null,
   "id": "f5feaf12-8c60-437b-bb7c-96ac7a650db5",
   "metadata": {
    "tags": []
   },
   "outputs": [],
   "source": []
  },
  {
   "cell_type": "code",
   "execution_count": null,
   "id": "74ebdb1b-03d9-45f7-99fe-d89df9a86379",
   "metadata": {
    "tags": []
   },
   "outputs": [],
   "source": []
  },
  {
   "cell_type": "code",
   "execution_count": null,
   "id": "d0c6ea3b-14bb-41bb-a0d0-05afce8e005b",
   "metadata": {
    "tags": []
   },
   "outputs": [],
   "source": []
  },
  {
   "cell_type": "code",
   "execution_count": null,
   "id": "681c8ee0-706a-4cf8-9439-6e969ec4659c",
   "metadata": {
    "tags": []
   },
   "outputs": [],
   "source": []
  },
  {
   "cell_type": "markdown",
   "id": "b7d16c05-7e1f-4b2d-bdbc-4bf29f06ed96",
   "metadata": {},
   "source": [
    "## <b>Resources</b>\n",
    "***"
   ]
  },
  {
   "cell_type": "markdown",
   "id": "997d9fbb-3da2-4d8a-8069-cd06c366397b",
   "metadata": {},
   "source": [
    "#### <b>Countdown Wiki</b>\n",
    "\n",
    "https://en.wikipedia.org/wiki/Countdown_(game_show)\n",
    "\n",
    "https://british-game-show.fandom.com/wiki/Countdown\n"
   ]
  },
  {
   "cell_type": "code",
   "execution_count": null,
   "id": "86ba8cd9-1264-42d0-823f-4eab69aa7b51",
   "metadata": {
    "tags": []
   },
   "outputs": [],
   "source": []
  }
 ],
 "metadata": {
  "kernelspec": {
   "display_name": "Python 3",
   "language": "python",
   "name": "python3"
  },
  "language_info": {
   "codemirror_mode": {
    "name": "ipython",
    "version": 3
   },
   "file_extension": ".py",
   "mimetype": "text/x-python",
   "name": "python",
   "nbconvert_exporter": "python",
   "pygments_lexer": "ipython3",
   "version": "3.8.8"
  }
 },
 "nbformat": 4,
 "nbformat_minor": 5
}
